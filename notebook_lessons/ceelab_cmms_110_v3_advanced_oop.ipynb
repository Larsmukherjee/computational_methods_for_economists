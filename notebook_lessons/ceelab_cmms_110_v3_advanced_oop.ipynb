{
 "cells": [
  {
   "cell_type": "markdown",
   "metadata": {},
   "source": [
    "# Advance OOP"
   ]
  },
  {
   "cell_type": "markdown",
   "metadata": {},
   "source": [
    "# Everything in Python is an Object"
   ]
  },
  {
   "cell_type": "code",
   "execution_count": 2,
   "metadata": {},
   "outputs": [],
   "source": [
    "x = 1\n",
    "#help(x)"
   ]
  },
  {
   "cell_type": "markdown",
   "metadata": {},
   "source": [
    "First we can build `dir_print()` to help us display the results from the `dir()` function a little more compactly.  "
   ]
  },
  {
   "cell_type": "code",
   "execution_count": 3,
   "metadata": {},
   "outputs": [],
   "source": [
    "def dir_print(x):\n",
    "    \"\"\"pretty prints the results from dir(x) ignoring methods starting with __\"\"\"\n",
    "    list_of_dir = dir(x)\n",
    "    k = 0\n",
    "    print(f\"variable examined is of type {type(x)}\")\n",
    "    print(20*'-')\n",
    "    print('Attributes')\n",
    "    print(20*'-')\n",
    "    for item in list_of_dir:\n",
    "        if item[:2] == \"__\":\n",
    "            continue\n",
    "        else:\n",
    "            print(f\"{item} :: \", end = \"\")\n",
    "            k = k + 1\n",
    "            if k > 4:\n",
    "                k = 0\n",
    "                print()\n",
    "            "
   ]
  },
  {
   "cell_type": "code",
   "execution_count": 4,
   "metadata": {},
   "outputs": [],
   "source": [
    "string_var = 'hi'\n",
    "integer_var = 10\n",
    "floating_var = 10.5\n",
    "list_data = []\n",
    "dict_data = {}\n",
    "boolean_var = True\n",
    "def function_name():\n",
    "    pass\n",
    "import math"
   ]
  },
  {
   "cell_type": "code",
   "execution_count": 5,
   "metadata": {},
   "outputs": [
    {
     "name": "stdout",
     "output_type": "stream",
     "text": [
      "variable examined is of type <class 'str'>\n",
      "--------------------\n",
      "Attributes\n",
      "--------------------\n",
      "capitalize :: casefold :: center :: count :: encode :: \n",
      "endswith :: expandtabs :: find :: format :: format_map :: \n",
      "index :: isalnum :: isalpha :: isascii :: isdecimal :: \n",
      "isdigit :: isidentifier :: islower :: isnumeric :: isprintable :: \n",
      "isspace :: istitle :: isupper :: join :: ljust :: \n",
      "lower :: lstrip :: maketrans :: partition :: removeprefix :: \n",
      "removesuffix :: replace :: rfind :: rindex :: rjust :: \n",
      "rpartition :: rsplit :: rstrip :: split :: splitlines :: \n",
      "startswith :: strip :: swapcase :: title :: translate :: \n",
      "upper :: zfill :: "
     ]
    }
   ],
   "source": [
    "dir_print(string_var)"
   ]
  },
  {
   "cell_type": "code",
   "execution_count": 6,
   "metadata": {},
   "outputs": [
    {
     "name": "stdout",
     "output_type": "stream",
     "text": [
      "variable examined is of type <class 'function'>\n",
      "--------------------\n",
      "Attributes\n",
      "--------------------\n"
     ]
    }
   ],
   "source": [
    "dir_print(function_name)"
   ]
  },
  {
   "cell_type": "code",
   "execution_count": 7,
   "metadata": {},
   "outputs": [
    {
     "name": "stdout",
     "output_type": "stream",
     "text": [
      "variable examined is of type <class 'module'>\n",
      "--------------------\n",
      "Attributes\n",
      "--------------------\n",
      "acos :: acosh :: asin :: asinh :: atan :: \n",
      "atan2 :: atanh :: cbrt :: ceil :: comb :: \n",
      "copysign :: cos :: cosh :: degrees :: dist :: \n",
      "e :: erf :: erfc :: exp :: exp2 :: \n",
      "expm1 :: fabs :: factorial :: floor :: fmod :: \n",
      "frexp :: fsum :: gamma :: gcd :: hypot :: \n",
      "inf :: isclose :: isfinite :: isinf :: isnan :: \n",
      "isqrt :: lcm :: ldexp :: lgamma :: log :: \n",
      "log10 :: log1p :: log2 :: modf :: nan :: \n",
      "nextafter :: perm :: pi :: pow :: prod :: \n",
      "radians :: remainder :: sin :: sinh :: sqrt :: \n",
      "sumprod :: tan :: tanh :: tau :: trunc :: \n",
      "ulp :: "
     ]
    }
   ],
   "source": [
    "dir_print(math)"
   ]
  },
  {
   "cell_type": "code",
   "execution_count": 8,
   "metadata": {},
   "outputs": [
    {
     "name": "stdout",
     "output_type": "stream",
     "text": [
      "Help on built-in function ulp in module math:\n",
      "\n",
      "ulp(x, /)\n",
      "    Return the value of the least significant bit of the float x.\n",
      "\n"
     ]
    }
   ],
   "source": [
    "help(math.ulp)"
   ]
  },
  {
   "cell_type": "markdown",
   "metadata": {},
   "source": [
    "Notice when you run the line before the type() function returns `class` followed by its 'class name'.  \n",
    "Also notice that Python used lowercase names for these builtin classes.  Now we learn that `str` is actually\n",
    "the `name` of the class.  When we executed,\n",
    "\n",
    "```python\n",
    "string_var = hi\n",
    "```\n",
    "it created an object, pointed to by the variable string_var, from the class str.  "
   ]
  },
  {
   "cell_type": "markdown",
   "metadata": {},
   "source": [
    "# Dunder Methods\n",
    "\n",
    "Dunder methods in Python are methods having two prefix and suffix underscores in the method name. Dunder here means “Double Underscores)”.  These methods are also called magic methods or special methods.  You get a bunch of dunder methods from the base class.  See the example below. "
   ]
  },
  {
   "cell_type": "code",
   "execution_count": 7,
   "metadata": {},
   "outputs": [
    {
     "name": "stdout",
     "output_type": "stream",
     "text": [
      "__class__                __delattr__              __dir__                  __doc__                  \n",
      "__eq__                   __format__               __ge__                   __getattribute__         \n",
      "__getstate__             __gt__                   __hash__                 __init__                 \n",
      "__init_subclass__        __le__                   __lt__                   __ne__                   \n",
      "__new__                  __reduce__               __reduce_ex__            __repr__                 \n",
      "__setattr__              __sizeof__               __str__                  __subclasshook__         \n"
     ]
    }
   ],
   "source": [
    "dunder_methods = dir(object)\n",
    "for k, dunder_name in enumerate(dunder_methods):\n",
    "    print(f\"{dunder_name:25}\", end = \"\")\n",
    "    if (k+1)%4 == 0:\n",
    "        print()\n",
    "        "
   ]
  },
  {
   "cell_type": "markdown",
   "metadata": {},
   "source": [
    "#  Building a class that inherits another class"
   ]
  },
  {
   "cell_type": "code",
   "execution_count": 11,
   "metadata": {},
   "outputs": [
    {
     "name": "stdout",
     "output_type": "stream",
     "text": [
      "Hi! I am Parent\n"
     ]
    },
    {
     "data": {
      "text/plain": [
       "10.0"
      ]
     },
     "execution_count": 11,
     "metadata": {},
     "output_type": "execute_result"
    }
   ],
   "source": [
    "class ParentUtility(object):\n",
    "    \"\"\"Parent Utility Class\"\"\"\n",
    "    def __init__(self, name):\n",
    "        self.name = name\n",
    "        \n",
    "    def print_name(self):\n",
    "        \"\"\"Prints self.name\"\"\"\n",
    "        print(f'Hi! I am {self.name}')\n",
    "    \n",
    "    def get_name(self):\n",
    "        \"\"\"Returns Name\"\"\"\n",
    "        return self.name\n",
    "    \n",
    "    def utility(self, m):\n",
    "        \"\"\"Utility of money\n",
    "        \n",
    "            Linear equation in m with intercept and slope.\n",
    "    \n",
    "                args: m, float, amount of money.\n",
    "                  \n",
    "                returns: float, utility of money m.    \n",
    "        \"\"\"\n",
    "        util = m\n",
    "        return float(util)\n",
    "    \n",
    "    \n",
    "        \n",
    "u = ParentUtility('Parent')\n",
    "u.print_name()\n",
    "u.utility(10)"
   ]
  },
  {
   "cell_type": "code",
   "execution_count": 12,
   "metadata": {},
   "outputs": [
    {
     "name": "stdout",
     "output_type": "stream",
     "text": [
      "12.5\n",
      "10.0\n",
      "Hi! I am Linear\n"
     ]
    }
   ],
   "source": [
    "class LinearUtility(ParentUtility):\n",
    "    \n",
    "    def __init__(self, name):\n",
    "        \n",
    "        super().__init__(name)\n",
    "        self.intercept = 5.0 \n",
    "        self.slope = 0.75\n",
    "    \n",
    "    def utility(self, m):\n",
    "        \"\"\"Utility of money\n",
    "        \n",
    "            Linear equation in m with intercept and slope.\n",
    "    \n",
    "                args: m, float, amount of money.\n",
    "                  \n",
    "                returns: float, utility of money m.    \n",
    "        \"\"\"\n",
    "        util = self.intercept + self.slope*m\n",
    "        return float(util)\n",
    "    \n",
    "    def set_parms(self, intercept, slope):\n",
    "        \"\"\"Sets parameters of utility\n",
    "        \n",
    "            args:\n",
    "                intercept, float \n",
    "                slope, float \n",
    "        \"\"\"\n",
    "        self.intercept = intercept\n",
    "        self.slope = slope\n",
    "\n",
    "v = LinearUtility('Linear')\n",
    "print(v.utility(10))\n",
    "v.set_parms(0, 1)\n",
    "print(v.utility(10))\n",
    "\n",
    "v.print_name()"
   ]
  },
  {
   "cell_type": "code",
   "execution_count": 10,
   "metadata": {},
   "outputs": [
    {
     "name": "stdout",
     "output_type": "stream",
     "text": [
      "Hi! I am Linear\n",
      "Hi! I am Natural Log\n",
      "Linear utility of 100 is 80.0\n",
      "Natural Log utility of 100 is 4.605170185988092\n"
     ]
    }
   ],
   "source": [
    "import math\n",
    "\n",
    "class Ln_Utility(ParentUtility):\n",
    "   \n",
    "    def utility(self, m):\n",
    "        \"\"\"Utility of mone\n",
    "        \n",
    "            Log equation with intercept and slope.\n",
    "    \n",
    "                args: m, float, amount of money.\n",
    "                  \n",
    "                returns: float, utility of money m.    \n",
    "        \"\"\"\n",
    "        util = math.log(m)\n",
    "        return float(util)\n",
    "    \n",
    "u = LinearUtility('Linear')\n",
    "u.print_name()\n",
    "u_ln = Ln_Utility('Natural Log')\n",
    "u_ln.print_name()\n",
    "\n",
    "x = 100\n",
    "print(f'{u.get_name()} utility of {x} is {u.utility(x)}')\n",
    "print(f'{u_ln.get_name()} utility of {x} is {u_ln.utility(x)}')"
   ]
  },
  {
   "cell_type": "markdown",
   "metadata": {},
   "source": [
    "# Special Methods\n",
    "\n",
    "Special methods are methods that come with every class. For example, the constructor `__init__` is a special method which we routinely override to construct our own object. Special methods also are used to implement operaotrs such as `__add__` to implement 5 + 4. Lets look at all the special methods that have been overriden for the builtin int class again.\n"
   ]
  },
  {
   "cell_type": "code",
   "execution_count": 14,
   "metadata": {},
   "outputs": [
    {
     "name": "stdout",
     "output_type": "stream",
     "text": [
      "<__main__.Fraction object at 0x10ba92660>\n"
     ]
    }
   ],
   "source": [
    "class Fraction(object):\n",
    "    def __init__(self, numerator, denominator):\n",
    "        self.numerator = numerator\n",
    "        self.denominator = denominator\n",
    "\n",
    "half = Fraction(1,2)\n",
    "quarter = Fraction(1,4)\n",
    "print(half)"
   ]
  },
  {
   "cell_type": "code",
   "execution_count": 16,
   "metadata": {},
   "outputs": [
    {
     "name": "stdout",
     "output_type": "stream",
     "text": [
      "1/2\n"
     ]
    }
   ],
   "source": [
    "class Fraction(object):\n",
    "    def __init__(self, numerator, denominator):\n",
    "        self.numerator = numerator\n",
    "        self.denominator = denominator\n",
    "    def __str__(self):\n",
    "        return str(self.numerator)+\"/\"+str(self.denominator)\n",
    "\n",
    "half = Fraction(1,2)\n",
    "quarter = Fraction(1,4)\n",
    "print(half)"
   ]
  },
  {
   "cell_type": "markdown",
   "metadata": {},
   "source": [
    "## How to simplify a fraction"
   ]
  },
  {
   "cell_type": "code",
   "execution_count": 17,
   "metadata": {},
   "outputs": [
    {
     "name": "stdout",
     "output_type": "stream",
     "text": [
      "21/7\n",
      "3/1\n"
     ]
    }
   ],
   "source": [
    "import math\n",
    "\n",
    "def frac(x, y):\n",
    "    print(f\"{x}/{y}\")\n",
    "\n",
    "numerator = 21\n",
    "denominator = 7\n",
    "frac(numerator, denominator)\n",
    "\n",
    "# calculate greatest common divisor\n",
    "gcd = math.gcd(numerator, denominator)\n",
    "\n",
    "new_numerator = int(numerator/gcd)\n",
    "new_denominator = int(denominator/gcd)\n",
    "frac(new_numerator, new_denominator)"
   ]
  },
  {
   "cell_type": "markdown",
   "metadata": {},
   "source": [
    "## Adding Fractions\n"
   ]
  },
  {
   "cell_type": "code",
   "execution_count": 21,
   "metadata": {},
   "outputs": [],
   "source": [
    "a = half + quarter"
   ]
  },
  {
   "cell_type": "code",
   "execution_count": null,
   "metadata": {},
   "outputs": [
    {
     "name": "stdout",
     "output_type": "stream",
     "text": [
      "6/8\n",
      "half = 1/2, quarter = 1/4\n",
      "8/6\n",
      "4/3\n"
     ]
    }
   ],
   "source": [
    "import math\n",
    "class Fraction(object):\n",
    "    def __init__(self, numerator, denominator):\n",
    "        self.numerator = numerator\n",
    "        self.denominator = denominator\n",
    "    def __str__(self):\n",
    "        y = self.denominator\n",
    "        x = self.numerator\n",
    "        # calculate greatest common divisor\n",
    "        #gcd = math.gcd(x,y)\n",
    "        #if int(y/gcd) == 1:\n",
    "            #return str(int(x/gcd))\n",
    "        return str(x)+\"/\"+str(y)\n",
    "    def __add__(self, other):\n",
    "        new_numerator = self.numerator*other.denominator + self.denominator*other.numerator\n",
    "        new_denominator = self.denominator*other.denominator\n",
    "        return Fraction(new_numerator, new_denominator)\n",
    "    def __abs__(self):\n",
    "        y = self.denominator\n",
    "        x = self.numerator\n",
    "        # calculate greatest common divisor\n",
    "        gcd = math.gcd(x,y)\n",
    "        return Fraction(int(x/gcd), int(y/gcd))\n",
    "    def __invert__(self):\n",
    "        self.numerator, self.denominator = self.denominator, self.numerator\n",
    "        return Fraction(self.numerator, self.denominator)\n",
    "print(half+quarter)\n",
    "half = Fraction(1,2)\n",
    "quarter = Fraction(1,4)\n",
    "print(f\"half = {half}, quarter = {quarter}\")\n",
    "result = half + quarter\n",
    "inv_result = ~result\n",
    "print(inv_result)\n",
    "print(abs(inv_result))"
   ]
  },
  {
   "cell_type": "code",
   "execution_count": 23,
   "metadata": {},
   "outputs": [
    {
     "ename": "TypeError",
     "evalue": "unsupported operand type(s) for *: 'Fraction' and 'Fraction'",
     "output_type": "error",
     "traceback": [
      "\u001b[1;31m---------------------------------------------------------------------------\u001b[0m",
      "\u001b[1;31mTypeError\u001b[0m                                 Traceback (most recent call last)",
      "\u001b[1;32m~\\AppData\\Local\\Temp/ipykernel_6544/1792105919.py\u001b[0m in \u001b[0;36m<module>\u001b[1;34m\u001b[0m\n\u001b[1;32m----> 1\u001b[1;33m \u001b[0mhalf\u001b[0m \u001b[1;33m*\u001b[0m \u001b[0mquarter\u001b[0m\u001b[1;33m\u001b[0m\u001b[1;33m\u001b[0m\u001b[0m\n\u001b[0m",
      "\u001b[1;31mTypeError\u001b[0m: unsupported operand type(s) for *: 'Fraction' and 'Fraction'"
     ]
    }
   ],
   "source": [
    "half * quarter"
   ]
  },
  {
   "cell_type": "markdown",
   "metadata": {},
   "source": [
    "# Checkpoint One\n",
    "\n",
    "Add a multiply special method `__mul__` to multiply two fractions, e.g., half*quarter.\n",
    "\n",
    "Question_1:  What does \n",
    "```python\n",
    "a = half+half*half \n",
    "```\n",
    "produce?\n",
    "\n",
    "Question_2:  What does \n",
    "```python\n",
    "a = (half+half)*half \n",
    "```\n",
    "produce?\n",
    "\n",
    "Add a subtract special method `__sub__` to subtract two fractions e.g., half-third."
   ]
  },
  {
   "cell_type": "code",
   "execution_count": null,
   "metadata": {},
   "outputs": [],
   "source": [
    "## Cell to answer questions\n",
    "# insert code here"
   ]
  },
  {
   "cell_type": "markdown",
   "metadata": {},
   "source": [
    "## D.  Getting Attributes of an Object"
   ]
  },
  {
   "cell_type": "code",
   "execution_count": 29,
   "metadata": {},
   "outputs": [
    {
     "data": {
      "text/plain": [
       "['numerator',\n",
       " 'denominator',\n",
       " '__module__',\n",
       " '__init__',\n",
       " '__str__',\n",
       " '__add__',\n",
       " '__dict__',\n",
       " '__weakref__',\n",
       " '__doc__',\n",
       " '__repr__',\n",
       " '__hash__',\n",
       " '__getattribute__',\n",
       " '__setattr__',\n",
       " '__delattr__',\n",
       " '__lt__',\n",
       " '__le__',\n",
       " '__eq__',\n",
       " '__ne__',\n",
       " '__gt__',\n",
       " '__ge__',\n",
       " '__new__',\n",
       " '__reduce_ex__',\n",
       " '__reduce__',\n",
       " '__subclasshook__',\n",
       " '__init_subclass__',\n",
       " '__format__',\n",
       " '__sizeof__',\n",
       " '__dir__',\n",
       " '__class__']"
      ]
     },
     "execution_count": 29,
     "metadata": {},
     "output_type": "execute_result"
    }
   ],
   "source": [
    "d = half.__dir__()\n",
    "d"
   ]
  },
  {
   "cell_type": "code",
   "execution_count": 31,
   "metadata": {},
   "outputs": [
    {
     "name": "stdout",
     "output_type": "stream",
     "text": [
      "{'numerator': 1, 'denominator': 2}\n",
      "{'numerator': 6, 'denominator': 8}\n"
     ]
    }
   ],
   "source": [
    "c = half.__dict__\n",
    "d = result.__dict__\n",
    "print(c)\n",
    "print(d)"
   ]
  },
  {
   "cell_type": "markdown",
   "metadata": {},
   "source": [
    "### Learn More About Special Methods\n",
    "\n",
    "https://docs.python.org/3/reference/datamodel.html#specialnames\n",
    "\n",
    "https://docs.python.org/3/reference/datamodel.html\n",
    "\n"
   ]
  }
 ],
 "metadata": {
  "kernelspec": {
   "display_name": "base",
   "language": "python",
   "name": "python3"
  },
  "language_info": {
   "codemirror_mode": {
    "name": "ipython",
    "version": 3
   },
   "file_extension": ".py",
   "mimetype": "text/x-python",
   "name": "python",
   "nbconvert_exporter": "python",
   "pygments_lexer": "ipython3",
   "version": "3.13.5"
  },
  "toc": {
   "base_numbering": 1,
   "nav_menu": {},
   "number_sections": true,
   "sideBar": true,
   "skip_h1_title": false,
   "title_cell": "Table of Contents",
   "title_sidebar": "Contents",
   "toc_cell": false,
   "toc_position": {},
   "toc_section_display": true,
   "toc_window_display": false
  }
 },
 "nbformat": 4,
 "nbformat_minor": 4
}
