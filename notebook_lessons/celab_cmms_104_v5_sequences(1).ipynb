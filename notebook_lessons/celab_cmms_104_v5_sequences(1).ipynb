{
 "cells": [
  {
   "cell_type": "markdown",
   "metadata": {},
   "source": [
    "# Sequential Data Structures in Python\n",
    "\n",
    "A data structure offers different ways to hold, access, and manipulate data values.  Python has three data structures that holds values in a sequence.  These are **strings**, **lists**, and **tuples**.  Python also has two more data structures for holding values."
   ]
  },
  {
   "cell_type": "markdown",
   "metadata": {},
   "source": [
    "## Strings\n",
    "\n",
    "We have already started using strings.  As it turns out a **string** is a data structure consisitng a sequence of characters.  To initialize a string we put the characters in quotes.  \n",
    "\n",
    "```\n",
    "'This is a string'\n",
    "\"This is also a string\"\n",
    "```\n",
    "We can access individual characters in a string by using the **index method** denoted `[i]`.  For example if `g=\"Hello\"` then `g[2] points to the value l`.  In general the first character of a string is at location zero, `[0]`, and then because the string is a sequence the second character is at `[1]` etc.  Strings are **immutable** which means once a string is created it cannot be changed.   \n",
    "\n",
    "## Tuples\n",
    "\n",
    "Tuples are also sequences of values but unlike strings they can contain different types of values or even other data structures.  For example, if we want to initialize a tuple we can list the values inside parentheses.\n",
    "\n",
    "```\n",
    "('this', 'is', 'a', 'tuple')\n",
    "('this', 'is', 'it', 42, True)\n",
    "```\n",
    "We can access individual characters in a tuple by using an index method denoted `[i]`.  In general the first element of a tuple is at location zero, `[0]`, and then because the tuple is a sequence the second element is at `[1]` etc.  Like strings tuples are **immutable** which means once created a tuple cannot be changed.   \n",
    "\n",
    "## Lists\n",
    "\n",
    "Lists are like tuples but they are **mutable**.  This means a list can be modified.  If we want to initialize a list we can list the values inside square brackets as follows:\n",
    "\n",
    "```\n",
    "list_1 = ['this', 'is', 'a', 'list']\n",
    "list_2 = [100, 200, 300, 400]\n",
    "list_3 = ['this is a list', [100, 200, 300, 400], (42, True)]\n",
    "```\n",
    "We can access individual characters in a list by using an indexing method denoted `list_name[i]`.  Notice the third list contains a list as its second element and a tuple as its third element.  We would point to `True` by using the indexing method twice `list_3[2][1]`. We can change a value in the list because it is mutable.  For example,\n",
    "\n",
    "```\n",
    "g = ['this', 'is', 'a', 'list']\n",
    "g[1] = 'is not'\n",
    "g[3] = 'tuple'\n",
    "print(g)\n",
    "```\n",
    "prints\n",
    "\n",
    "`['this', 'is not', 'a', 'tuple']`\n",
    "\n",
    "Note, we would get a `TypeError` if we tried to do this with a string or tuple.\n"
   ]
  },
  {
   "cell_type": "markdown",
   "metadata": {},
   "source": [
    "## Example Code"
   ]
  },
  {
   "cell_type": "code",
   "execution_count": 1,
   "metadata": {},
   "outputs": [
    {
     "name": "stdout",
     "output_type": "stream",
     "text": [
      "the string 'This is a string', has a first element T, and a last element g.\n",
      "\n",
      "the tuple ('this', 'is', 'a', 'tuple', [42, True]), has a first element 'this', and a last element '[42, True]'.\n",
      "\n",
      "the list ['this is a list', 100, 200, 300, 400], has a first element 'this is a list', and a last element 400\n",
      "\n",
      "the list ['this is a list', [100, 200, 300], (42, True)], has a first element 'this is a list' and a last element (42, True)\n",
      "when we have a list inside a list we can double index, e.g. 300\n",
      "\n",
      "the list ['this is a list', [100, 200, 300], (42, True)] is mutable so lets change 'this is a list' to 'no'\n",
      "['no', [100, 200, 301], (42, True)]\n",
      "\n"
     ]
    }
   ],
   "source": [
    "s = \"This is a string\"  # This is a string\n",
    "print (f\"the string '{s}', has a first element {s[0]}, and a last element {s[15]}.\")\n",
    "print()\n",
    "\n",
    "t = ('this', 'is', 'a', 'tuple', [42, True])  # this is a tuple\n",
    "print (f\"the tuple {t}, has a first element '{t[0]}', and a last element '{t[4]}'.\")\n",
    "print()\n",
    "\n",
    "sl = ['this is a list',100, 200, 300, 400]  # This is a list\n",
    "print (f\"the list {sl}, has a first element '{sl[0]}', and a last element {sl[4]}\")\n",
    "print()\n",
    "\n",
    "cl = ['this is a list', [100, 200, 300], (42, True)]  # This is also a list\n",
    "print (f\"the list {cl}, has a first element '{cl[0]}' and a last element {cl[2]}\")\n",
    "print (f\"when we have a list inside a list we can double index, e.g. {cl[1][2]}\")\n",
    "print()\n",
    "\n",
    "print(f\"the list {cl} is mutable so lets change '{cl[0]}' to 'no'\")\n",
    "cl[0] = \"no\"\n",
    "cl[1][2] = 301\n",
    "print(cl)\n",
    "print()"
   ]
  },
  {
   "cell_type": "markdown",
   "metadata": {},
   "source": [
    "# Common Features of Sequences"
   ]
  },
  {
   "cell_type": "markdown",
   "metadata": {},
   "source": [
    "## Indexing\n",
    "\n",
    "As you saw above all sequential data structures can be indexed using the `variable_name[k]` notation where k is the index of the value you want to point to."
   ]
  },
  {
   "cell_type": "code",
   "execution_count": 2,
   "metadata": {},
   "outputs": [
    {
     "data": {
      "text/plain": [
       "[100, 200, 300]"
      ]
     },
     "execution_count": 2,
     "metadata": {},
     "output_type": "execute_result"
    }
   ],
   "source": [
    "cl = ['this is a list', [100, 200, 300], (42, True)]\n",
    "cl[1]"
   ]
  },
  {
   "cell_type": "markdown",
   "metadata": {},
   "source": [
    "## IndexError\n",
    "\n",
    "One big issue with using sequential data structures is what happens if we try to index a value that does not exist in the data structure.  Lets try this now."
   ]
  },
  {
   "cell_type": "code",
   "execution_count": 5,
   "metadata": {},
   "outputs": [
    {
     "ename": "IndexError",
     "evalue": "list index out of range",
     "output_type": "error",
     "traceback": [
      "\u001b[0;31m---------------------------------------------------------------------------\u001b[0m",
      "\u001b[0;31mIndexError\u001b[0m                                Traceback (most recent call last)",
      "Cell \u001b[0;32mIn[5], line 1\u001b[0m\n\u001b[0;32m----> 1\u001b[0m cl[\u001b[38;5;241m3\u001b[39m]\n",
      "\u001b[0;31mIndexError\u001b[0m: list index out of range"
     ]
    }
   ],
   "source": [
    "cl[3]"
   ]
  },
  {
   "cell_type": "markdown",
   "metadata": {},
   "source": [
    "## Length of Data Type\n",
    "\n",
    "There is a fucntion for this.  Let t be an arbitrtary data type, then\n",
    "\n",
    "```\n",
    "a = len(t)\n",
    "```\n",
    "reurns the integer length of t.\n",
    "\n",
    "\n",
    "See some examples in the next cell."
   ]
  },
  {
   "cell_type": "code",
   "execution_count": 9,
   "metadata": {},
   "outputs": [
    {
     "name": "stdout",
     "output_type": "stream",
     "text": [
      "The <class 'list'> type of data with values '['this is a list', 100, 200, 300, 400]' has length 5\n",
      "The <class 'list'> type of data with values '['no', [100, 200, 301], (42, True)]' has length 3\n",
      "The <class 'str'> type of data with values 'This is a string' has length 16\n",
      "The <class 'tuple'> type of data with values '('this', 'is', 'a', 'tupple', [42, True])' has length 5\n"
     ]
    }
   ],
   "source": [
    "print (f\"The {type(sl)} type of data with values '{sl}' has length {len(sl)}\")\n",
    "print (f\"The {type(cl)} type of data with values '{cl}' has length {len(cl)}\")\n",
    "print (f\"The {type(s)} type of data with values '{s}' has length {len(s)}\")\n",
    "print (f\"The {type(t)} type of data with values '{t}' has length {len(t)}\")"
   ]
  },
  {
   "cell_type": "markdown",
   "metadata": {},
   "source": [
    "### To prevent an IndexError do this"
   ]
  },
  {
   "cell_type": "code",
   "execution_count": 10,
   "metadata": {},
   "outputs": [
    {
     "name": "stdout",
     "output_type": "stream",
     "text": [
      "(42, True)\n"
     ]
    }
   ],
   "source": [
    "index = 2\n",
    "if index >= len(cl):\n",
    "    print(f\"index {index} for cl is out of range\")\n",
    "else:\n",
    "    print(cl[index])"
   ]
  },
  {
   "cell_type": "markdown",
   "metadata": {},
   "source": [
    "### To catch an IndexError do this"
   ]
  },
  {
   "cell_type": "code",
   "execution_count": 9,
   "metadata": {},
   "outputs": [
    {
     "name": "stdout",
     "output_type": "stream",
     "text": [
      "index 3 for cl is out of range\n"
     ]
    }
   ],
   "source": [
    "index = 3\n",
    "try:\n",
    "    print(cl[index]) \n",
    "except IndexError:\n",
    "    print(f\"index {index} for cl is out of range\")\n",
    "   "
   ]
  },
  {
   "cell_type": "markdown",
   "metadata": {},
   "source": [
    "## Sequential Operators \n",
    "\n",
    "We can **concatentate** sequential data structures using the `+` operator and we can **repeat** sequential data structures by uisng the `*` operator.  "
   ]
  },
  {
   "cell_type": "code",
   "execution_count": 13,
   "metadata": {},
   "outputs": [
    {
     "name": "stdout",
     "output_type": "stream",
     "text": [
      "[1, 2, 3, 9, 8, 7]\n",
      "[1, 2, 3, 1, 2, 3, 1, 2, 3, 1, 2, 3, 1, 2, 3]\n",
      "abcZYX123\n",
      "abcZYX123abcZYX123abcZYX123\n"
     ]
    }
   ],
   "source": [
    "concatenated_list = [1, 2, 3] + [9, 8, 7]\n",
    "print(concatenated_list)\n",
    "\n",
    "repeated_list = 5*[1, 2, 3]\n",
    "print(repeated_list)\n",
    "\n",
    "concatenated_string = \"abc\" + \"ZYX\" + \"123\"\n",
    "print(concatenated_string)\n",
    "\n",
    "repeated_string = concatenated_string*3\n",
    "print(repeated_string)\n",
    "\n"
   ]
  },
  {
   "cell_type": "markdown",
   "metadata": {},
   "source": [
    "## Slicing Sequences\n",
    "\n",
    "We can slice a sequence to get sub-sequences of the original sequence.\n"
   ]
  },
  {
   "cell_type": "markdown",
   "metadata": {},
   "source": [
    "Slicing is a more general form of indexing since it returns a subset of the original data structure.  The general notation is `[n:m]` where n indicates the index of the first element in the data structure and m-1 is the index of the last element of the data structure.  Notice it does not include the element at location m. If you leave n out using the slicing index `[:m]` this will select a substring starting at index 0 (the default) and going to m+1.  Similarly, if you leave m out using the slicing index `[n:]` this will select a substring starting at index n and going to the end + 1.   Lets look at an example for strings."
   ]
  },
  {
   "cell_type": "code",
   "execution_count": 15,
   "metadata": {},
   "outputs": [
    {
     "name": "stdout",
     "output_type": "stream",
     "text": [
      "16\n"
     ]
    },
    {
     "data": {
      "text/plain": [
       "('t', 'his is a string')"
      ]
     },
     "execution_count": 15,
     "metadata": {},
     "output_type": "execute_result"
    }
   ],
   "source": [
    "h_test = \"this is a string\"\n",
    "print(len(h_test))\n",
    "h_test[0], h_test[1:]"
   ]
  },
  {
   "cell_type": "code",
   "execution_count": 76,
   "metadata": {},
   "outputs": [
    {
     "name": "stdout",
     "output_type": "stream",
     "text": [
      "string\n",
      "0 \n",
      "1 t\n",
      "2 th\n",
      "3 thi\n",
      "4 this\n",
      "5 this \n",
      "6 this i\n",
      "7 this is\n",
      "8 this is \n",
      "9 this is a\n",
      "10 this is a \n",
      "11 this is a s\n",
      "12 this is a st\n",
      "13 this is a str\n",
      "14 this is a stri\n",
      "15 this is a strin\n",
      "16 this is a string\n"
     ]
    }
   ],
   "source": [
    "h_test = \"this is a string\"\n",
    "subset_1 = h_test[10:16]\n",
    "print(subset_1)\n",
    "\n",
    "# Lets also use a while loop\n",
    "index = 0 \n",
    "max_length = len(h_test)\n",
    "while (index <= max_length):\n",
    "    print(index, h_test[0:index])\n",
    "    index = index + 1"
   ]
  },
  {
   "cell_type": "markdown",
   "metadata": {},
   "source": [
    "## Membership"
   ]
  },
  {
   "cell_type": "markdown",
   "metadata": {},
   "source": [
    "We can check to see if some item is a member of a sequence using the `in` keyword."
   ]
  },
  {
   "cell_type": "code",
   "execution_count": 6,
   "metadata": {},
   "outputs": [
    {
     "name": "stdout",
     "output_type": "stream",
     "text": [
      "True\n",
      "False\n",
      "11 not found\n"
     ]
    }
   ],
   "source": [
    "list_example = [1, 2, 3, 4]\n",
    "print(f\"{4 in list_example}\")\n",
    "print(f\"{5 in list_example}\")\n",
    "\n",
    "item = 11\n",
    "if item in list_example:\n",
    "    print(f\"{item} found\")\n",
    "else:\n",
    "    print(f\"{item} not found\")"
   ]
  },
  {
   "cell_type": "markdown",
   "metadata": {},
   "source": [
    "### Only Use `in` to See if an Element is a Member"
   ]
  },
  {
   "cell_type": "code",
   "execution_count": 5,
   "metadata": {},
   "outputs": [
    {
     "name": "stdout",
     "output_type": "stream",
     "text": [
      "True\n",
      "False\n",
      "False\n",
      "True\n"
     ]
    }
   ],
   "source": [
    "str_example = \"the cat in the hat\"\n",
    "list_example = [1, 2, 3, 4]\n",
    "another_example = [[1, 2], 2, 3, 4]\n",
    "tup_example = (1, 2, 3, 4)\n",
    "\n",
    "# this is True\n",
    "print(f\"{'cat' in str_example}\")\n",
    "\n",
    "# You can only use 'in' to look for elements of sequences\n",
    "# this is False\n",
    "print(f\"{[1, 2] in list_example}\")\n",
    "\n",
    "# and so is this\n",
    "print(f\"{(1, 2) in tup_example}\")\n",
    "\n",
    "# but this is True\n",
    "print(f\"{[1, 2] in another_example}\")\n"
   ]
  },
  {
   "cell_type": "markdown",
   "metadata": {},
   "source": [
    "# Working With Strings"
   ]
  },
  {
   "cell_type": "markdown",
   "metadata": {},
   "source": [
    "Notice when we index a string it will return a string consisting of one character. "
   ]
  },
  {
   "cell_type": "code",
   "execution_count": 23,
   "metadata": {},
   "outputs": [
    {
     "name": "stdout",
     "output_type": "stream",
     "text": [
      "the type of g is <class 'str'>\n",
      "the type of g[0] is <class 'str'>\n",
      "the value of h is T and the type of h is <class 'str'>\n"
     ]
    }
   ],
   "source": [
    "print (f\"the type of g is {type(g)}\")\n",
    "print (f\"the type of g[0] is {type(g[0])}\")\n",
    "h = g[0]\n",
    "print (f\"the value of h is {h} and the type of h is {type(h)}\")"
   ]
  },
  {
   "cell_type": "markdown",
   "metadata": {},
   "source": [
    "There are many useful methods for working with strings.  We cannot go into them all right now but here are a few."
   ]
  },
  {
   "cell_type": "code",
   "execution_count": 32,
   "metadata": {},
   "outputs": [
    {
     "name": "stdout",
     "output_type": "stream",
     "text": [
      "the string 'This is a string' now has an uppercase version THIS IS A STRING\n",
      "\n",
      "the string 'This is a string' 3 'i' occurences\n",
      "\n",
      "in the string 'This is a string' the first location of 'i' is at the index 2\n"
     ]
    }
   ],
   "source": [
    "g = \"This is a string\"\n",
    "upper_case_g = g.upper()\n",
    "print(f\"the string '{g}' now has an uppercase version {upper_case_g}\")\n",
    "print()\n",
    "num_i = g.count('i')\n",
    "print(f\"the string '{g}' {num_i} 'i' occurences\")\n",
    "print()\n",
    "loc_i = g.find('i')\n",
    "print(f\"in the string '{g}' the first location of 'i' is at the index {loc_i}\")"
   ]
  },
  {
   "cell_type": "markdown",
   "metadata": {},
   "source": [
    ">**Notice:** a method is like a function but is called a little differently.  For a method we start with the variable name we want to apply the method to and then use dot notation `.` followed by the method name, and then parentheses, which may include arguments.  "
   ]
  },
  {
   "cell_type": "code",
   "execution_count": 36,
   "metadata": {},
   "outputs": [
    {
     "data": {
      "text/plain": [
       "['__add__',\n",
       " '__class__',\n",
       " '__contains__',\n",
       " '__delattr__',\n",
       " '__dir__',\n",
       " '__doc__',\n",
       " '__eq__',\n",
       " '__format__',\n",
       " '__ge__',\n",
       " '__getattribute__',\n",
       " '__getitem__',\n",
       " '__getnewargs__',\n",
       " '__gt__',\n",
       " '__hash__',\n",
       " '__init__',\n",
       " '__init_subclass__',\n",
       " '__iter__',\n",
       " '__le__',\n",
       " '__len__',\n",
       " '__lt__',\n",
       " '__mod__',\n",
       " '__mul__',\n",
       " '__ne__',\n",
       " '__new__',\n",
       " '__reduce__',\n",
       " '__reduce_ex__',\n",
       " '__repr__',\n",
       " '__rmod__',\n",
       " '__rmul__',\n",
       " '__setattr__',\n",
       " '__sizeof__',\n",
       " '__str__',\n",
       " '__subclasshook__',\n",
       " 'capitalize',\n",
       " 'casefold',\n",
       " 'center',\n",
       " 'count',\n",
       " 'encode',\n",
       " 'endswith',\n",
       " 'expandtabs',\n",
       " 'find',\n",
       " 'format',\n",
       " 'format_map',\n",
       " 'index',\n",
       " 'isalnum',\n",
       " 'isalpha',\n",
       " 'isascii',\n",
       " 'isdecimal',\n",
       " 'isdigit',\n",
       " 'isidentifier',\n",
       " 'islower',\n",
       " 'isnumeric',\n",
       " 'isprintable',\n",
       " 'isspace',\n",
       " 'istitle',\n",
       " 'isupper',\n",
       " 'join',\n",
       " 'ljust',\n",
       " 'lower',\n",
       " 'lstrip',\n",
       " 'maketrans',\n",
       " 'partition',\n",
       " 'replace',\n",
       " 'rfind',\n",
       " 'rindex',\n",
       " 'rjust',\n",
       " 'rpartition',\n",
       " 'rsplit',\n",
       " 'rstrip',\n",
       " 'split',\n",
       " 'splitlines',\n",
       " 'startswith',\n",
       " 'strip',\n",
       " 'swapcase',\n",
       " 'title',\n",
       " 'translate',\n",
       " 'upper',\n",
       " 'zfill']"
      ]
     },
     "execution_count": 36,
     "metadata": {},
     "output_type": "execute_result"
    }
   ],
   "source": [
    "# If we want to know more methods we can always use the following code\n",
    "dir(str)\n",
    "# for now ignore the double underscored names.  The methods appear later in the list"
   ]
  },
  {
   "cell_type": "code",
   "execution_count": 39,
   "metadata": {},
   "outputs": [
    {
     "name": "stdout",
     "output_type": "stream",
     "text": [
      "Help on method_descriptor:\n",
      "\n",
      "title(self, /)\n",
      "    Return a version of the string where each word is titlecased.\n",
      "    \n",
      "    More specifically, words start with uppercased characters and all remaining\n",
      "    cased characters have lower case.\n",
      "\n"
     ]
    }
   ],
   "source": [
    "# notice at the bottom is a name called 'title' we can get more information as follows\n",
    "help(str.title)"
   ]
  },
  {
   "cell_type": "code",
   "execution_count": 56,
   "metadata": {},
   "outputs": [
    {
     "name": "stdout",
     "output_type": "stream",
     "text": [
      "Help on method_descriptor:\n",
      "\n",
      "find(...)\n",
      "    S.find(sub[, start[, end]]) -> int\n",
      "    \n",
      "    Return the lowest index in S where substring sub is found,\n",
      "    such that sub is contained within S[start:end].  Optional\n",
      "    arguments start and end are interpreted as in slice notation.\n",
      "    \n",
      "    Return -1 on failure.\n",
      "\n"
     ]
    }
   ],
   "source": [
    "help(str.find)"
   ]
  },
  {
   "cell_type": "markdown",
   "metadata": {},
   "source": [
    "## What are all those is... methods.  Lets look at one."
   ]
  },
  {
   "cell_type": "code",
   "execution_count": 27,
   "metadata": {},
   "outputs": [
    {
     "name": "stdout",
     "output_type": "stream",
     "text": [
      "Help on method_descriptor:\n",
      "\n",
      "isnumeric(self, /)\n",
      "    Return True if the string is a numeric string, False otherwise.\n",
      "    \n",
      "    A string is numeric if all characters in the string are numeric and there is at\n",
      "    least one character in the string.\n",
      "\n"
     ]
    }
   ],
   "source": [
    "help(str.isnumeric)"
   ]
  },
  {
   "cell_type": "code",
   "execution_count": 35,
   "metadata": {},
   "outputs": [
    {
     "name": "stdout",
     "output_type": "stream",
     "text": [
      "False\n",
      "True\n",
      "False\n"
     ]
    }
   ],
   "source": [
    "print(\"\".isnumeric())  # empty strings are False\n",
    "print(\"42\".isnumeric())  # This is True\n",
    "print(\"42.5\".isnumeric()) # This is False since it contains a '.'"
   ]
  },
  {
   "cell_type": "markdown",
   "metadata": {},
   "source": [
    "## A string method to capitalize"
   ]
  },
  {
   "cell_type": "code",
   "execution_count": 22,
   "metadata": {},
   "outputs": [
    {
     "name": "stdout",
     "output_type": "stream",
     "text": [
      "Kevin Mccabe\n",
      "Kevin Mccabe\n"
     ]
    }
   ],
   "source": [
    "# use .capitalize() to capitalize the first letter of a string\n",
    "first_name = \"kevin\"\n",
    "last_name = \"mccabe\"\n",
    "print(f\"{first_name.capitalize()} {last_name.capitalize()}\")\n",
    "\n",
    "#use .title() to capitalize the first letter of each word in a string\n",
    "full_name = first_name + \" \" + last_name\n",
    "print(f\"{full_name.title()}\")"
   ]
  },
  {
   "cell_type": "code",
   "execution_count": 25,
   "metadata": {},
   "outputs": [
    {
     "name": "stdout",
     "output_type": "stream",
     "text": [
      "Professor Kevin Mccabe\n",
      "Professor Kevin McCabe\n"
     ]
    }
   ],
   "source": [
    "# How do I capitalize the second c in mccabe?\n",
    "profession = \"professor\"\n",
    "my_title = profession + \" \" + first_name + \" \" + last_name\n",
    "my_title = my_title.title()\n",
    "print(my_title)\n",
    "\n",
    "# find first occurence of cc and replace with cC\n",
    "loc_of_cc = my_title.find('cc')\n",
    "my_fixed_title = my_title[:loc_first_c] + \"cC\" + my_title[loc_first_c + 2:] \n",
    "\n",
    "print(my_fixed_title)"
   ]
  },
  {
   "cell_type": "markdown",
   "metadata": {},
   "source": [
    "## String Formatting"
   ]
  },
  {
   "cell_type": "markdown",
   "metadata": {},
   "source": [
    "Strings can be built by using the string operators `+` and `*` and by converting other values to strings using the conversion function `str()`.  \n",
    "\n",
    "Strings can also be built using various techniques for formatting strings.  In this tutorial we will format strings using `f-strings` or `formatted string literals` which were introduced in `Python 3.6`.  \n",
    "\n",
    "A `f-string` has the following syntax.\n",
    "```\n",
    "f\"Here is a {var_name: FORMAT_STRING_SPECIFICATION}\"\n",
    "```\n",
    "Where `FORMAT_STRING_SPECIFICATION` uses Python's Format Specification mini language to provide even greater formatting control.  The syntax of the mini langauage is as follows.\n",
    "\n",
    "```\n",
    "format_spec     ::=  [[fill]align][sign][#][0][width][grouping_option][.precision][type]\n",
    "fill            ::=  <any character>\n",
    "align           ::=  \"<\" | \">\" | \"=\" | \"^\"\n",
    "sign            ::=  \"+\" | \"-\" | \" \"\n",
    "width           ::=  digit+\n",
    "grouping_option ::=  \"_\" | \",\"\n",
    "precision       ::=  digit+\n",
    "type            ::=  \"b\"|\"c\"|\"d\"|\"e\"|\"E\"|\"f\"|\"F\"|\"g\"|\"G\"|\"n\"|\"o\"|\"s\"|\"x\"|\"X\"|\"%\"\n",
    "```\n",
    "We will look at different examples in the code cells below, but for complete documentation you can read about the mini language [here](https://docs.python.org/3/library/string.html#format-specification-mini-language).\n"
   ]
  },
  {
   "cell_type": "code",
   "execution_count": 12,
   "metadata": {},
   "outputs": [
    {
     "name": "stdout",
     "output_type": "stream",
     "text": [
      "Hi Kevin.  You are 6 feet 2 inches tall.\n"
     ]
    }
   ],
   "source": [
    "name = 'Kevin'\n",
    "height = 74\n",
    "hi_person = f\"Hi {name}.  You are {str(height//12)} feet {str(height%12)} inches tall.\"\n",
    "print(hi_person)"
   ]
  },
  {
   "cell_type": "markdown",
   "metadata": {},
   "source": [
    "`f-strings` can also be formatted in different ways.  Let's look at some examples."
   ]
  },
  {
   "cell_type": "code",
   "execution_count": 7,
   "metadata": {},
   "outputs": [
    {
     "name": "stdout",
     "output_type": "stream",
     "text": [
      "x = 3.14159\n",
      "x = 3.14159\n",
      "x =              3.14159\n",
      "x =       3.14159       \n",
      "x = 3.142\n",
      "x = 31.42\n",
      "x = .....3.14......\n",
      "x = 3.14...........\n",
      "x = ...........3.14\n"
     ]
    }
   ],
   "source": [
    "x = 3.14159\n",
    "print(\"x =\",x)\n",
    "print(f\"x = {x}\")\n",
    "print(f\"x = {x:20}\")      # : start then create 20 space fill\n",
    "print(f\"x = {x:^20}\")     # ^ means center in fill\n",
    "print(f\"x = {x:0.4}\")     # :0.4 means four digits\n",
    "print(f\"x = {x*10:0.4}\")  #  Multiply x by 10 and print four digits\n",
    "print(f\"x = {x:.^15.3}\")  # add fill character '.' and center\n",
    "print(f\"x = {x:.<15.3}\")  # add fill character '.' and left justify\n",
    "print(f\"x = {x:.>15.3}\")  # add fill character '.' and right justify"
   ]
  },
  {
   "cell_type": "markdown",
   "metadata": {},
   "source": [
    "# Working with Lists"
   ]
  },
  {
   "cell_type": "markdown",
   "metadata": {},
   "source": [
    "Lists are sequenctial data structures and like strings they can be indexed using `[index]` and sliced using `[begin:end+1]`.  Lists are also different from strings in that they are mutable meaning the elements can be changed after the list is constructed.  A second diffeerence between strings and lists are that lists elements can point to different kinds of data values, including other data structures, while strings can only point to characters.   "
   ]
  },
  {
   "cell_type": "code",
   "execution_count": 10,
   "metadata": {},
   "outputs": [
    {
     "name": "stdout",
     "output_type": "stream",
     "text": [
      "length of list_data = 3\n",
      "--------------------\n",
      "<class 'list'> has the elements, string, [100, 200, 300], and (42, False)\n",
      "--------------------\n",
      "['string', [100, 200, 300], (42, True)]\n",
      "--------------------\n",
      "The middle of ['string', [100, 200, 300], (42, True)] is [[100, 200, 300]]\n",
      "['string', [100, 200, 300], (42, True)]\n",
      "[[100, 200, 300], (42, True)]\n"
     ]
    }
   ],
   "source": [
    "list_data = ['string', [100, 200, 300], (42, False)]\n",
    "seperator = 20*'-'\n",
    "\n",
    "# shows the use of the length function\n",
    "print(f\"length of list_data = {len(list_data)}\")\n",
    "print(seperator)\n",
    "\n",
    "# shows indexing using f[index] index = 0, 1, 2\n",
    "print(f\"{type(list_data)} has the elements, {list_data[0]}, {list_data[1]}, and {list_data[2]}\")\n",
    "print(seperator)\n",
    "\n",
    "# Lists are mutable.  Itemc can be changed\n",
    "list_data[2] = (42, True)\n",
    "print(list_data)\n",
    "print(seperator)\n",
    "\n",
    "# Slicing a list\n",
    "a = list_data[1:2]\n",
    "print(f\"The middle of {list_data} is {a}\")\n",
    "print(list_data[:3])\n",
    "print(list_data[1:])\n",
    "\n"
   ]
  },
  {
   "cell_type": "markdown",
   "metadata": {},
   "source": [
    "### A. Some useful methods for lists\n",
    "\n",
    "`.append(item)` adds an item to the end of a list\n",
    "\n",
    "`.insert(i, item)` inserts an item at position i in the list\n",
    "\n",
    "`.sort` sorts a list"
   ]
  },
  {
   "cell_type": "code",
   "execution_count": 24,
   "metadata": {},
   "outputs": [
    {
     "data": {
      "text/plain": [
       "300"
      ]
     },
     "execution_count": 24,
     "metadata": {},
     "output_type": "execute_result"
    }
   ],
   "source": [
    "#list_data = ['this is a list', [100, 200, 300], (42, True)]\n",
    "#list_data[3] = 'no'\n",
    "#list_data.append(\"Answer\")\n",
    "list_data[1][2]"
   ]
  },
  {
   "cell_type": "code",
   "execution_count": 84,
   "metadata": {},
   "outputs": [
    {
     "data": {
      "text/plain": [
       "['string', 3.14159, [100, 200, 300], (42, True), 'Answer']"
      ]
     },
     "execution_count": 84,
     "metadata": {},
     "output_type": "execute_result"
    }
   ],
   "source": [
    "list_data.insert(1, 3.14159)\n",
    "list_data"
   ]
  },
  {
   "cell_type": "code",
   "execution_count": 85,
   "metadata": {},
   "outputs": [
    {
     "name": "stdout",
     "output_type": "stream",
     "text": [
      "[5, 10, 50, 60, 75, 90, 100]\n"
     ]
    }
   ],
   "source": [
    "list_tobe_sorted = [50, 10, 100, 90, 5, 75, 60]\n",
    "list_tobe_sorted.sort()\n",
    "print(list_tobe_sorted)"
   ]
  },
  {
   "cell_type": "markdown",
   "metadata": {},
   "source": [
    "### B. Some useful methods for working with strings and lists"
   ]
  },
  {
   "cell_type": "markdown",
   "metadata": {},
   "source": [
    "If test_string is a string use `test_string.split(sep)` to split a string up into substrings based on the seperator character `sep` and put the resulting substrings into a list.  "
   ]
  },
  {
   "cell_type": "code",
   "execution_count": 88,
   "metadata": {},
   "outputs": [
    {
     "data": {
      "text/plain": [
       "['This', 'is', 'a', 'string']"
      ]
     },
     "execution_count": 88,
     "metadata": {},
     "output_type": "execute_result"
    }
   ],
   "source": [
    "test_string = \"This is a string\"\n",
    "list_of_words = test_string.split(' ')  # the seperator is a space\n",
    "list_of_words"
   ]
  },
  {
   "cell_type": "markdown",
   "metadata": {},
   "source": [
    "Similarly, `sep.join(list_of_words)` takes a list of strings and concatenates them together to make a new string and placing the string `sep` in between each string in the list.   "
   ]
  },
  {
   "cell_type": "code",
   "execution_count": 92,
   "metadata": {},
   "outputs": [
    {
     "name": "stdout",
     "output_type": "stream",
     "text": [
      "This_ - _is_ - _a_ - _string\n"
     ]
    }
   ],
   "source": [
    "sep = '_ - _'\n",
    "print(sep.join(list_of_words))"
   ]
  },
  {
   "cell_type": "markdown",
   "metadata": {},
   "source": [
    "# Using `for` Loops"
   ]
  },
  {
   "cell_type": "markdown",
   "metadata": {},
   "source": [
    "A `for` statement is used to head a CODE BLOCK and together they form a `for loop`. \n",
    "\n",
    ">A `for loop` executes a `CODE BLOCK` every time it receives a value from an `ITERABLE` and exits the `CODE BLOCK` when the iterable is done sending values.  The concept of an `ITERABLE` is something we will develop over time.\n",
    "\n"
   ]
  },
  {
   "cell_type": "markdown",
   "metadata": {},
   "source": [
    ">For loop structure\n",
    "```\n",
    "for var_name in ITERABLE:                \n",
    "    STATEMENT BLOCK \n",
    "    if BOOLEAN CONDITION continue    # start next iteration\n",
    "        STATEMENT BLOCK\n",
    "    if BOOLEAN CONDITION break       # stop iterating\n",
    "        STATEMENT BLOCk\n",
    "```"
   ]
  },
  {
   "cell_type": "markdown",
   "metadata": {},
   "source": [
    "**Notes:**\n",
    "* Notice the colon, `:` at the end of the for statement and that the CODE BLOCK is indented four spaces.\n",
    "* Builtin ITEARBLEs includes lists, tuples, strings, and dictionaries.  Covered in Python 104.\n",
    "    * One form of builtin ITERABLE is built using the `range()` function.\n",
    "    ```\n",
    "    for index in range(start, stop, step):\n",
    "    ```\n",
    "    * start is an optional starting integer that defaults to zero\n",
    "      the first time through the loop `index = start`\n",
    "    * stop-1 is the last integer index in the loop\n",
    "    * step is an optional integer indicating the increment size for index that defaults to 1.\n",
    "      step can only be used if you use all three arguments in the function\n",
    "\n"
   ]
  },
  {
   "cell_type": "code",
   "execution_count": 14,
   "metadata": {},
   "outputs": [
    {
     "name": "stdout",
     "output_type": "stream",
     "text": [
      "0 1 2 3 4 \n",
      "1 2 3 4 \n",
      "5 7 9 \n"
     ]
    }
   ],
   "source": [
    "# Prints 0 to 4 using range defualt start = 0 and step =1\n",
    "for k in range(5):\n",
    "    print(k, end=' ')\n",
    "print()\n",
    "\n",
    "# Prints 1 to 4 using range start = 1 and defulat step = 1\n",
    "for k in range(1, 5):\n",
    "    print(k, end=' ')\n",
    "print()\n",
    "\n",
    "# Prints 5, 7, and 9 using no range defaults\n",
    "for k in range(5, 10, 2):\n",
    "    print(k, end=' ')\n",
    "print()"
   ]
  },
  {
   "cell_type": "markdown",
   "metadata": {},
   "source": [
    "We can also use a for loop to iterate over a string as the following example shows."
   ]
  },
  {
   "cell_type": "code",
   "execution_count": 9,
   "metadata": {},
   "outputs": [
    {
     "name": "stdout",
     "output_type": "stream",
     "text": [
      "Hello World\n"
     ]
    }
   ],
   "source": [
    "welcome = \"Hello World\"\n",
    "for char in welcome:\n",
    "    #if char == \" \":\n",
    "    #    print(\"!!\", end =\"\")\n",
    "    #   continue # notice how continue goes back to start of loop and\n",
    "                 # ignores the following print statement\n",
    "    print(char, end=\"\")\n",
    "print()"
   ]
  },
  {
   "cell_type": "markdown",
   "metadata": {},
   "source": [
    "What happens if you comment out `continue` above?"
   ]
  },
  {
   "cell_type": "markdown",
   "metadata": {},
   "source": [
    "#### Capturing output from dir()"
   ]
  },
  {
   "cell_type": "code",
   "execution_count": 36,
   "metadata": {},
   "outputs": [
    {
     "name": "stdout",
     "output_type": "stream",
     "text": [
      "['__add__', '__class__', '__contains__', '__delattr__', '__dir__', '__doc__', '__eq__', '__format__', '__ge__', '__getattribute__', '__getitem__', '__getnewargs__', '__gt__', '__hash__', '__init__', '__init_subclass__', '__iter__', '__le__', '__len__', '__lt__', '__mod__', '__mul__', '__ne__', '__new__', '__reduce__', '__reduce_ex__', '__repr__', '__rmod__', '__rmul__', '__setattr__', '__sizeof__', '__str__', '__subclasshook__', 'capitalize', 'casefold', 'center', 'count', 'encode', 'endswith', 'expandtabs', 'find', 'format', 'format_map', 'index', 'isalnum', 'isalpha', 'isascii', 'isdecimal', 'isdigit', 'isidentifier', 'islower', 'isnumeric', 'isprintable', 'isspace', 'istitle', 'isupper', 'join', 'ljust', 'lower', 'lstrip', 'maketrans', 'partition', 'replace', 'rfind', 'rindex', 'rjust', 'rpartition', 'rsplit', 'rstrip', 'split', 'splitlines', 'startswith', 'strip', 'swapcase', 'title', 'translate', 'upper', 'zfill']\n"
     ]
    }
   ],
   "source": [
    "dir_str = dir(str)\n",
    "print(dir_str)"
   ]
  },
  {
   "cell_type": "markdown",
   "metadata": {},
   "source": [
    "##  making a table of methods in class str"
   ]
  },
  {
   "cell_type": "code",
   "execution_count": 16,
   "metadata": {},
   "outputs": [
    {
     "name": "stdout",
     "output_type": "stream",
     "text": [
      "Methods in <class 'str'>\n",
      "------------------------\n",
      "capitalize      casefold        center          count           encode          endswith        expandtabs      find            format          format_map      index           isalnum         isalpha         isascii         isdecimal       isdigit         isidentifier    islower         isnumeric       isprintable     isspace         istitle         isupper         join            ljust           lower           lstrip          maketrans       partition       removeprefix    removesuffix    replace         rfind           rindex          rjust           rpartition      rsplit          rstrip          split           splitlines      startswith      strip           swapcase        title           translate       upper           zfill           "
     ]
    }
   ],
   "source": [
    "title = f\"methods in {type('')}\".capitalize()\n",
    "print(f\"{title}\")\n",
    "print(len(title)*'-')\n",
    "for item in dir(str):\n",
    "    if item[:2] == '__':\n",
    "        continue\n",
    "    else:\n",
    "        print(f\"{item:15}\", end=' ')"
   ]
  },
  {
   "cell_type": "markdown",
   "metadata": {},
   "source": [
    "## Using enumerate() and zip()"
   ]
  },
  {
   "cell_type": "markdown",
   "metadata": {},
   "source": [
    "A very useful built in function is `enumerate(list_name)` where list_name is any name of a list.  This function is an iterable and returns both the index and the data value sequentailly.   An example is in the next code cell."
   ]
  },
  {
   "cell_type": "code",
   "execution_count": 33,
   "metadata": {},
   "outputs": [
    {
     "name": "stdout",
     "output_type": "stream",
     "text": [
      "primes[0] = 2 \n",
      "primes[1] = 3 \n",
      "primes[2] = 5 **\n",
      "primes[3] = 7 \n",
      "primes[4] = 9 \n",
      "primes[5] = 11 \n",
      "primes[6] = 13 \n",
      "primes[7] = 17 \n"
     ]
    }
   ],
   "source": [
    "primes = [2, 3, 5, 7, 9, 11, 13, 17]\n",
    "for index, item in enumerate(primes):\n",
    "    print(f'primes[{index}] = {item}', end = ' ')\n",
    "    if item == 5:\n",
    "        print(\"**\")\n",
    "    else:\n",
    "        print()"
   ]
  },
  {
   "cell_type": "markdown",
   "metadata": {},
   "source": [
    "Another very useful built in function is `zip(list_1, list_2)` where list_1 and list_2 are lists.  This function is an iterable and sequentially returns one item from each list.  An example is in the next code cell."
   ]
  },
  {
   "cell_type": "code",
   "execution_count": 32,
   "metadata": {},
   "outputs": [
    {
     "name": "stdout",
     "output_type": "stream",
     "text": [
      "primes[0]=2\n",
      "primes[1]=3\n",
      "primes[2]=5\n",
      "primes[3]=7\n",
      "primes[4]=9\n",
      "primes[5]=11\n",
      "primes[6]=13\n",
      "primes[7]=17\n",
      "primes[8]=19\n"
     ]
    }
   ],
   "source": [
    "primes = [2, 3, 5, 7, 9, 11, 13, 17, 19]\n",
    "indicies = [0, 1, 2, 3, 4, 5, 6, 7, 8]\n",
    "for p, i in zip(primes, indicies):\n",
    "    print(f'primes[{i}]={p}')"
   ]
  },
  {
   "cell_type": "markdown",
   "metadata": {},
   "source": [
    "Suppose we have a list of numbers and we would like to convert them to a comma seperated string.  Here is an example using everything we have learned so far."
   ]
  },
  {
   "cell_type": "code",
   "execution_count": 49,
   "metadata": {},
   "outputs": [
    {
     "name": "stdout",
     "output_type": "stream",
     "text": [
      "['2', '3', '5', '7', '9', '11', '13', '17']\n",
      "2,3,5,7,9,11,13,17\n"
     ]
    }
   ],
   "source": [
    "primes = [2, 3, 5, 7, 9, 11, 13, 17]\n",
    "\n",
    "prime_strings = []\n",
    "for item in primes:\n",
    "    prime_strings.append(str(item))\n",
    "print(prime_strings)\n",
    "\n",
    "prime_string = ','.join(prime_strings)\n",
    "print(prime_string)"
   ]
  },
  {
   "cell_type": "markdown",
   "metadata": {},
   "source": [
    "## List Comprehensions\n",
    "\n",
    "Before you do this watch this video on list comprehensions\n",
    "\n",
    "https://www.youtube.com/watch?v=AhSvKGTh28Q"
   ]
  },
  {
   "cell_type": "markdown",
   "metadata": {},
   "source": [
    "Remember this function:\n",
    "\n",
    "```\n",
    "range(start, stop, [step])\n",
    "```\n",
    "which generates a list of numbers that begin at start and end at stop - 1.  The argument step defaults to 1.\n",
    "\n",
    "Here is an example using range.\n"
   ]
  },
  {
   "cell_type": "code",
   "execution_count": 23,
   "metadata": {},
   "outputs": [
    {
     "name": "stdout",
     "output_type": "stream",
     "text": [
      "range(1, 4, 2)\n",
      "1\n",
      "3\n"
     ]
    }
   ],
   "source": [
    "print(range(1, 4, 2))\n",
    "for k in range(1, 4, 2):\n",
    "    print(k)"
   ]
  },
  {
   "cell_type": "markdown",
   "metadata": {},
   "source": [
    "**General Template for list comprehensions**\n",
    "\n",
    "```python\n",
    "\n",
    "values = [expression for item in collection if condition]\n",
    "```\n",
    "\n",
    "This is equivalent to\n",
    "\n",
    "```python\n",
    "values = []\n",
    "for item in collection:\n",
    "    if condition:\n",
    "        values.append(expression)\n",
    "```\n"
   ]
  },
  {
   "cell_type": "code",
   "execution_count": 24,
   "metadata": {},
   "outputs": [
    {
     "name": "stdout",
     "output_type": "stream",
     "text": [
      "[1, 2, 3, 4, 5, 6, 7, 8, 9]\n"
     ]
    }
   ],
   "source": [
    "x = [y for y in range (1, 10)]\n",
    "print (x)"
   ]
  },
  {
   "cell_type": "code",
   "execution_count": 25,
   "metadata": {},
   "outputs": [
    {
     "name": "stdout",
     "output_type": "stream",
     "text": [
      "[2, 4, 6, 8]\n"
     ]
    }
   ],
   "source": [
    "x = [y for y in range (1, 10) if y%2 == 0]\n",
    "print (x)"
   ]
  },
  {
   "cell_type": "markdown",
   "metadata": {},
   "source": [
    "Here is a more complicated example"
   ]
  },
  {
   "cell_type": "code",
   "execution_count": 50,
   "metadata": {},
   "outputs": [
    {
     "name": "stdout",
     "output_type": "stream",
     "text": [
      "[(3, 5), (5, 7), (11, 13), (17, 19), (29, 31), (41, 43), (59, 61)]\n",
      "[(3, 5), (5, 7), (11, 13), (17, 19), (29, 31), (41, 43), (59, 61)]\n"
     ]
    }
   ],
   "source": [
    "primes = [ 2, 3, 5, 7, 11, 13, 17, 19, 23, 29, 31, 37, 41, 43, 47, 53, 59, 61, 67, 71]\n",
    "prime_pairs = [(y, z) for y in primes for z in primes if y+2 == z ]\n",
    "print(prime_pairs)\n",
    "\n",
    "# this can also be written as follows; which do you understand better\n",
    "pairs = []\n",
    "for y in primes:\n",
    "    for z in primes:\n",
    "        if y+2 == z:\n",
    "            pairs.append((y, z))\n",
    "\n",
    "print(pairs)"
   ]
  },
  {
   "cell_type": "markdown",
   "metadata": {},
   "source": [
    "# Using Tuples"
   ]
  },
  {
   "cell_type": "markdown",
   "metadata": {},
   "source": [
    "Tuples are like lists in that they can hold data of any type, or even other data strutures.  Tuples are Like strings in that they are immutable. If you want to make a change to a tuple you have to make a new tuple. Since a tuple is a sequence you can use the get-item syntax `tup[index]` and slicing syntax `tup[m:n]` operators to get an elemnts or a subsequence."
   ]
  },
  {
   "cell_type": "code",
   "execution_count": 74,
   "metadata": {},
   "outputs": [
    {
     "name": "stdout",
     "output_type": "stream",
     "text": [
      "()\n",
      "(1, 2)\n",
      "(3, 4)\n"
     ]
    }
   ],
   "source": [
    "# instantiating tuples\n",
    "\n",
    "x = ()     # empty tuple\n",
    "y = (1, 2) # tuple with two items\n",
    "z = 3, 4   # tuple packing\n",
    "\n",
    "print(x)\n",
    "print(y)\n",
    "print(z)"
   ]
  },
  {
   "cell_type": "markdown",
   "metadata": {},
   "source": [
    "The last example of instantitating a tuple does not use parentheses.  By convention Python takes a list of items and places them into a tuple.  This is called **tuple packing**.  Python will also do the reverse which is called **tupple unpacking**.  Here is an example."
   ]
  },
  {
   "cell_type": "code",
   "execution_count": 80,
   "metadata": {},
   "outputs": [
    {
     "name": "stdout",
     "output_type": "stream",
     "text": [
      "z = (1, 2)\n",
      "x = 1, and y = 2\n"
     ]
    }
   ],
   "source": [
    "z = 1, 2\n",
    "print(f\"z = {z}\")\n",
    "x, y = z\n",
    "print(f\"x = {x}, and y = {y}\")"
   ]
  },
  {
   "cell_type": "markdown",
   "metadata": {},
   "source": [
    "Tuple packing and unpacking occurs when we **return a list of items** from a function.  Below is an example."
   ]
  },
  {
   "cell_type": "code",
   "execution_count": 84,
   "metadata": {},
   "outputs": [
    {
     "name": "stdout",
     "output_type": "stream",
     "text": [
      "z = (1, 2, 3, 4)\n",
      "1 2 3 4\n"
     ]
    }
   ],
   "source": [
    "def f_return():\n",
    "    \"returns 1, 2, 3, 4\"\n",
    "    return 1, 2, 3, 4\n",
    "\n",
    "z = f_return()\n",
    "print(f\"z = {z}\")\n",
    "a, b, c, d = f_return()\n",
    "print(a, b, c, d)"
   ]
  },
  {
   "cell_type": "markdown",
   "metadata": {},
   "source": [
    "Tuple packing and unpacking can also be used to **intercahnge** the values of two variables."
   ]
  },
  {
   "cell_type": "code",
   "execution_count": 86,
   "metadata": {},
   "outputs": [
    {
     "name": "stdout",
     "output_type": "stream",
     "text": [
      "1 2\n",
      "2 1\n"
     ]
    }
   ],
   "source": [
    "x, y  = 1, 2\n",
    "print(x,y)\n",
    "x, y = y, x\n",
    "print(x,y)"
   ]
  },
  {
   "cell_type": "markdown",
   "metadata": {},
   "source": [
    "# Converting and Copying Data Structures"
   ]
  },
  {
   "cell_type": "code",
   "execution_count": 105,
   "metadata": {},
   "outputs": [
    {
     "name": "stdout",
     "output_type": "stream",
     "text": [
      "<class 'str'> this is a string\n",
      "<class 'list'> [1, 2, 3, 4]\n",
      "<class 'tuple'> (1, 2, 3, 4)\n"
     ]
    }
   ],
   "source": [
    "# explicit declaration of  a data structure\n",
    "string_ex = str(\"this is a string\")\n",
    "list_ex = list([1, 2, 3, 4])\n",
    "tup_ex = tuple((5, 6, 7, 8))\n",
    "\n",
    "print(type(string_ex), string_ex)\n",
    "print(type(list_ex), list_ex)\n",
    "print(type(tup_ex),tup_example)"
   ]
  },
  {
   "cell_type": "markdown",
   "metadata": {},
   "source": [
    "## Converting strings to lists or tuples"
   ]
  },
  {
   "cell_type": "code",
   "execution_count": 98,
   "metadata": {},
   "outputs": [
    {
     "name": "stdout",
     "output_type": "stream",
     "text": [
      "<class 'list'> ['t', 'h', 'i', 's', ' ', 'i', 's', ' ', 'a', ' ', 's', 't', 'r', 'i', 'n', 'g']\n",
      "<class 'tuple'> ('t', 'h', 'i', 's', ' ', 'i', 's', ' ', 'a', ' ', 's', 't', 'r', 'i', 'n', 'g')\n"
     ]
    }
   ],
   "source": [
    "list_string = list(string_ex)\n",
    "print(type(list_string), list_string)\n",
    "\n",
    "tup_string = tuple(string_ex)\n",
    "print(type(tup_string), tup_string)"
   ]
  },
  {
   "cell_type": "markdown",
   "metadata": {},
   "source": [
    "## Converting  tuples to lists and lists to tuples"
   ]
  },
  {
   "cell_type": "code",
   "execution_count": 118,
   "metadata": {},
   "outputs": [
    {
     "name": "stdout",
     "output_type": "stream",
     "text": [
      "<class 'list'> [5, 6, 7, 8]\n",
      "<class 'tuple'> (1, 2, 3, 4)\n"
     ]
    }
   ],
   "source": [
    "list_tup = list(tup_ex)\n",
    "print(type(list_tup), list_tup)\n",
    "\n",
    "tup_list = tuple(list_ex)\n",
    "print(type(tup_list), tup_list)"
   ]
  },
  {
   "cell_type": "markdown",
   "metadata": {},
   "source": [
    "## The assignment operator does not make a copy of a list but instead points to the list"
   ]
  },
  {
   "cell_type": "code",
   "execution_count": 117,
   "metadata": {},
   "outputs": [
    {
     "name": "stdout",
     "output_type": "stream",
     "text": [
      "[1, 2, 3, 4] [1, 2, 3, 4]\n",
      "['hi', 2, 3, 4] ['hi', 2, 3, 4]\n"
     ]
    }
   ],
   "source": [
    "a = [1, 2, 3, 4]\n",
    "b = a\n",
    "print(a, b)\n",
    "a[0] = 'hi'\n",
    "print(a, b)"
   ]
  },
  {
   "cell_type": "markdown",
   "metadata": {},
   "source": [
    "### use id() to see the memory location pointed to by a variable name.  \n",
    "\n",
    "Notice below a and b point to the same memory location"
   ]
  },
  {
   "cell_type": "code",
   "execution_count": 120,
   "metadata": {},
   "outputs": [
    {
     "name": "stdout",
     "output_type": "stream",
     "text": [
      "1633644881352 1633644881352\n"
     ]
    }
   ],
   "source": [
    "print(id(a), id(b))"
   ]
  },
  {
   "cell_type": "markdown",
   "metadata": {},
   "source": [
    "### use copy to make a copy of a list\n",
    "\n",
    "Notice below a and b are now seperate.  When I change an element of a it does not change b."
   ]
  },
  {
   "cell_type": "code",
   "execution_count": 123,
   "metadata": {},
   "outputs": [
    {
     "name": "stdout",
     "output_type": "stream",
     "text": [
      "[1, 2, 3, 4] [1, 2, 3, 4]\n",
      "1633644970568 1633644970376\n",
      "['hi', 2, 3, 4] [1, 2, 3, 4]\n"
     ]
    }
   ],
   "source": [
    "a = [1, 2, 3, 4]\n",
    "b = a.copy()\n",
    "print(a, b)\n",
    "print(id(a), id(b))\n",
    "a[0] = 'hi'\n",
    "print(a, b)"
   ]
  },
  {
   "cell_type": "code",
   "execution_count": 130,
   "metadata": {},
   "outputs": [
    {
     "name": "stdout",
     "output_type": "stream",
     "text": [
      "[(1, 2), (3, 4), (5, 6)] [(1, 2), (3, 4), (5, 6)]\n",
      "[(0, 0), (3, 4), (5, 6)] [(1, 2), (3, 4), (5, 6)]\n"
     ]
    }
   ],
   "source": [
    "# lets try to copy a list of tuples\n",
    "c = [(1, 2), (3, 4), (5, 6)]\n",
    "d = c.copy()\n",
    "print(c, d)\n",
    "c[0] = (0, 0)\n",
    "print(c, d)"
   ]
  },
  {
   "cell_type": "markdown",
   "metadata": {},
   "source": [
    "# Exercise\n",
    "\n",
    "Now that you know how to use list comprehensions you should redo exercise one by converting the list of string numbers to a list of floating point numbers.  Here is some long code for doing this.\n",
    "```python\n",
    "r = s.split(', ')\n",
    "\n",
    "g=[]\n",
    "for element in r:\n",
    "    g.append(float(element))\n",
    "print(g)\n",
    "```   \n"
   ]
  },
  {
   "cell_type": "code",
   "execution_count": 8,
   "metadata": {},
   "outputs": [],
   "source": [
    "# Here is the string\n",
    "\n",
    "s = \"12.3, 21, 27, 33.4, 16, 27.8, 19, 21.2\"\n",
    "\n",
    "# write your code to convert this to a list here\n",
    "# hind use .split in your list comprehension and float(x) to convert a string x to floating point\n",
    "\n",
    "# TODO list comprehension"
   ]
  },
  {
   "cell_type": "markdown",
   "metadata": {},
   "source": [
    "# Exercise \n",
    "\n",
    "Use a while loop to make a list of integers from 0 to 99.  Do the same thing with a list comprehension.  Next make a list of lists where the first list contains the integers 0 to 9 the second list contains 10 to 19, the third list contains 20 to 29 and so on.  Write a function that takes you list of lists and prints it in row column format.  It should look like this when you are done.  Notice how first row is right justified to line up with the rest of the rows.  Hint this can be done easily with a f-string format. \n",
    "\n",
    "![table](table.png)"
   ]
  },
  {
   "cell_type": "markdown",
   "metadata": {},
   "source": [
    "# Exercise \n",
    "\n",
    "Here are three matricies a_matrix and b_matrix in the form of lists of lists.  Execute the cell below andd finish the exercise in the following cell."
   ]
  },
  {
   "cell_type": "code",
   "execution_count": 165,
   "metadata": {},
   "outputs": [
    {
     "name": "stdout",
     "output_type": "stream",
     "text": [
      "Matrix a\n",
      "     3.0       7.0       6.0       2.0  \n",
      "    11.0       6.0       3.0      14.0  \n",
      "     1.0       2.0       3.0       4.0  \n",
      "\n",
      "Matrix b\n",
      "     1.0       2.0       3.0  \n",
      "     1.0       2.0       3.0  \n",
      "     1.0       2.0       3.0  \n",
      "     1.0       2.0       3.0  \n",
      "\n",
      "Matrix i\n",
      "     1.0       0.0       0.0  \n",
      "     0.0       1.0       0.0  \n",
      "     0.0       0.0       1.0  \n",
      "\n"
     ]
    }
   ],
   "source": [
    "def float_matrix(matrix):\n",
    "    \"\"\"takes a matrix and returns a new_matrix with all numbers convereted to floats\"\"\"\n",
    "    new_matrix = []\n",
    "    for row in matrix:\n",
    "        new_row=[]\n",
    "        for item in row:\n",
    "            new_row.append(float(item))\n",
    "        new_matrix.append(new_row)\n",
    "    return new_matrix\n",
    "            \n",
    "def print_matrix(matrix):\n",
    "    \"\"\"Prints an m x n matrix in matrix form\"\"\"\n",
    "    for row in matrix:\n",
    "        for item in row:\n",
    "            print(f\"{item:8.4}\", end = \"  \" )\n",
    "        print()\n",
    "    \n",
    "\n",
    "#a_nmatrix  is a 3 x 4 matrix\n",
    "a1 = [3, 7, 6, 2]\n",
    "a2 = [11, 6, 3, 14]\n",
    "a3 = [1, 2, 3, 4]\n",
    "a_matrix = float_matrix([a1, a2, a3])\n",
    "print(\"Matrix a\")\n",
    "print_matrix(a_matrix)\n",
    "print()\n",
    "\n",
    "# b_matrix is a 4 x 3 matrix\n",
    "b1 = [1, 2, 3]\n",
    "b2 = [1, 2, 3]\n",
    "b3 = [1, 2, 3]\n",
    "b4 = [1, 2, 3]\n",
    "b_matrix = float_matrix([b1, b2, b3, b4])\n",
    "print(\"Matrix b\")\n",
    "print_matrix(b_matrix)\n",
    "print()\n",
    "\n",
    "# i_matrix is a 3 x 3 identity matrix\n",
    "i1 = [1, 0, 0]\n",
    "i2 = [0, 1, 0]\n",
    "i3 = [0, 0, 1]\n",
    "i_matrix = float_matrix([i1, i2, i3])\n",
    "print(\"Matrix i\")\n",
    "print_matrix(i_matrix)\n",
    "print()\n"
   ]
  },
  {
   "cell_type": "markdown",
   "metadata": {},
   "source": [
    "**Exercise 3 continued.**  Matrix multiplication c = a*b is defined as follows.  If the matrix a is m x n and the matrix b is n x m  then the matrix c = a * b is m x m. The elemnts of c are caluclated as cij = a_row_i **dot** b_col_j, **dot** sginifies the dot product of two equal sized vectors or lists.  Notice that row_i of matrix a has length n and col j or matrix b has length n.  Given two lists call them d and e of equal length we can define the dot product by the following function.\n",
    "\n",
    "```python\n",
    "def dot (d, e):\n",
    "    \"\"\"returns the dot product of two equal length vectors\"\"\"\n",
    "    assert len(d)  == len(e), \"a and b must have the same length\"\n",
    "    dot_product = 0.0\n",
    "    for index in range(len(d)):\n",
    "            dot_product = dot_product + d[index] * e[index]\n",
    "    return dot_product\n",
    "```\n",
    "\n",
    "Now we see `a_row_i` is the i'th row of matrix a, or\n",
    "```python\n",
    "a_row_i = a[i]\n",
    "```\n",
    "\n",
    "A column of matrix b takes a little more work.  Lets us the following function.\n",
    "```python\n",
    "def get_col(b, j):\n",
    "    col = []\n",
    "    for row in b:\n",
    "        col.append(row[j])\n",
    "    return col\n",
    "```\n",
    "now we have\n",
    "```python\n",
    "b_col_j = get_col(b, j)\n",
    "```\n",
    "We now see that c is an m x m matirx such that\n",
    "```\n",
    "c[i][j] = dot(a[i], get_col(b, j))\n",
    "```\n",
    "\n",
    "Your job is to write the helper functions above and then write a matrix_multiply function that accepts two matricies, a and b, as arguments and returns the matrix c = a * b.  One more hint.  How do you create the element `c[i][j]` if c does not yet exist."
   ]
  },
  {
   "cell_type": "markdown",
   "metadata": {},
   "source": [
    "# Mini Project\n",
    "Write a program that creates a two person game with n rows by m columns game matrix.  Where n and m can be from 1 to 8.  Each row is a list of two-tuples for each of the m columns.  The first element of each tuple is the row player's payoff and the second element is the column players payoff.  Design and code four main function to build the game matrix, print the game matrix, play the game, and simulate the game.  To get you started the example code below builds a rock (r), scissors (s), paper (p), game with the four main functions and some helper functions.   "
   ]
  },
  {
   "cell_type": "code",
   "execution_count": 5,
   "metadata": {},
   "outputs": [
    {
     "name": "stdout",
     "output_type": "stream",
     "text": [
      "[(0, 0), (1, -1), (-1, 1)]\n",
      "[[(0, 0), (1, -1), (-1, 1)]]\n",
      "[(-1, 1), (0, 0), (1, -1)]\n",
      "[[(0, 0), (1, -1), (-1, 1)], [(-1, 1), (0, 0), (1, -1)]]\n",
      "[(1, -1), (-1, 1), (0, 0)]\n",
      "[[(0, 0), (1, -1), (-1, 1)], [(-1, 1), (0, 0), (1, -1)], [(1, -1), (-1, 1), (0, 0)]]\n"
     ]
    }
   ],
   "source": [
    "def build_game(debug = False):\n",
    "    \"\"\"Build, Rock-Scissors-Paper Game Matrix\n",
    "   \n",
    "       Return:  game_matrix\n",
    "   \n",
    "            s1 in {'r', 's', 'p'}\n",
    "            s2 in {'r', 's', 'p'}\n",
    "            game_matrix[s1][s2] = (payoof_row, payoff_col)\n",
    "    \"\"\"\n",
    "\n",
    "    gm = []\n",
    "    # lets start with row rock (r)\n",
    "    r =[]\n",
    "    r.append((0, 0))  # rock,rock ties\n",
    "    r.append((1, -1)) # rock, scissors wins\n",
    "    r.append((-1, 1)) # rock, paper loses\n",
    "    gm.append(r)\n",
    "    if debug:\n",
    "        print(r)\n",
    "        print(gm)\n",
    "\n",
    "    # lets add row scissors (s)\n",
    "    s =[]\n",
    "    s.append((-1, 1)) # scissors,rock wins\n",
    "    s.append((0, 0))  # scissors, scissors ties\n",
    "    s.append((1, -1)) # scissors, paper loses\n",
    "    gm.append(s)\n",
    "    if debug:\n",
    "        print(s)\n",
    "        print(gm)\n",
    "\n",
    "    # lets add row paper (p)\n",
    "    p =[]\n",
    "    p.append((1, -1)) # paper,rock wins\n",
    "    p.append((-1, 1)) # paper, scissors loses\n",
    "    p.append((0, 0))  # paper, paper ties\n",
    "    gm.append(p)\n",
    "    if debug:\n",
    "        print(p)\n",
    "        print(gm)\n",
    "\n",
    "    return gm\n",
    "\n",
    "game_1 = build_game()\n",
    "#print(game_1)\n",
    "game_2 = build_game(True)"
   ]
  },
  {
   "cell_type": "code",
   "execution_count": 6,
   "metadata": {},
   "outputs": [
    {
     "name": "stdout",
     "output_type": "stream",
     "text": [
      "     R      S      P\n",
      "  |-----|------|------|\n",
      "R |   0 |   -1 |    1 | \n",
      "  |0    | 1    | -1   | \n",
      "  |-----|------|------|\n",
      "S |   1 |    0 |   -1 | \n",
      "  |-1   | 0    | 1    | \n",
      "  |-----|------|------|\n",
      "P |  -1 |    1 |    0 | \n",
      "  |1    | -1   | 0    | \n",
      "  |-----|------|------|\n"
     ]
    }
   ],
   "source": [
    "def print_game(gm):\n",
    "    \"\"\"Pretty Prints Game Matrix \n",
    "    \n",
    "        args: gm the game matrix\n",
    "    \"\"\"\n",
    "    label = [\"R\", \"S\", \"P\"]\n",
    "    print(\"     R      S      P\")\n",
    "    print(\"  |-----|------|------|\")\n",
    "    for index, row in enumerate(gm):\n",
    "        print(f\"{label[index]} |\", end = \"\")\n",
    "        for col in row:\n",
    "            print(f\"{col[1]:>4} | \", end = \"\")\n",
    "        print()\n",
    "        print(\"  |\", end = \"\")\n",
    "        for col in row:\n",
    "            print(f\"{col[0]:<4} | \", end = \"\")\n",
    "        print()\n",
    "        print(\"  |-----|------|------|\")\n",
    "\n",
    "game_1 = build_game()\n",
    "print_game(game_1)     "
   ]
  },
  {
   "cell_type": "code",
   "execution_count": 33,
   "metadata": {},
   "outputs": [
    {
     "name": "stdout",
     "output_type": "stream",
     "text": [
      "     R      S      P\n",
      "  |-----|------|------|\n",
      "R |   0 |   -1 |    1 | \n",
      "  |0    | 1    | -1   | \n",
      "  |-----|------|------|\n",
      "S |   1 |    0 |   -1 | \n",
      "  |-1   | 0    | 1    | \n",
      "  |-----|------|------|\n",
      "P |  -1 |    1 |    0 | \n",
      "  |1    | -1   | 0    | \n",
      "  |-----|------|------|\n",
      "Enter row's choice (R, S, P) S\n",
      "Enter col's choice (R, S, P) P\n",
      "Game Outcome ----------\n",
      "row chose Scissors and col chose Paper\n",
      "row earns 1 and col earns -1\n"
     ]
    }
   ],
   "source": [
    "def get_choice(player):\n",
    "    choices = \"RSP\"\n",
    "    while(True):\n",
    "        choice = input(f\"Enter {player}'s choice (R, S, P) \")\n",
    "        if choice in choices:\n",
    "            return choices.find(choice)\n",
    "        else:\n",
    "            print(f\"choice {choice} not valid.  Try again.\")\n",
    "            \n",
    "def play_game(gm):\n",
    "    \"\"\"Get choices and play game\n",
    "    \n",
    "       Args:\n",
    "           gm = game matrix\n",
    "       \n",
    "    \"\"\"\n",
    "    choices = ['Rock', 'Scissors', 'Paper']\n",
    "    print_game(gm)\n",
    "    row_choice = get_choice('row')\n",
    "    col_choice = get_choice('col')\n",
    "    row_payoff = gm[row_choice][col_choice][0]\n",
    "    col_payoff = gm[row_choice][col_choice][1]\n",
    "    print(\"Game Outcome ----------\")\n",
    "    print(f\"row chose {choices[row_choice]} and col chose {choices[col_choice]}\")\n",
    "    print(f\"row earns {row_payoff} and col earns {col_payoff}\")\n",
    "    \n",
    "\n",
    "game_1 = build_game()\n",
    "play_game(game_1)"
   ]
  },
  {
   "cell_type": "code",
   "execution_count": 46,
   "metadata": {},
   "outputs": [
    {
     "name": "stdout",
     "output_type": "stream",
     "text": [
      "     R      S      P\n",
      "  |-----|------|------|\n",
      "R |   0 |   -1 |    1 | \n",
      "  |0    | 1    | -1   | \n",
      "  |-----|------|------|\n",
      "S |   1 |    0 |    1 | \n",
      "  |-1   | 0    | -1   | \n",
      "  |-----|------|------|\n",
      "P |  -1 |    1 |    0 | \n",
      "  |1    | -1   | 0    | \n",
      "  |-----|------|------|\n",
      "Avg. row payoff = -0.899764\n",
      "Avg. col payoff = 0.899764\n"
     ]
    }
   ],
   "source": [
    "import random as rnd\n",
    "\n",
    "def get_choice_from_strategy(strategy):\n",
    "    \"\"\"Return 0, 1, 2 given strategy = (p1, p2, 1-p1-p2)\"\"\"\n",
    "    \n",
    "    x = rnd.uniform(0.0, 1.0)\n",
    "    if x <= strategy[0]:\n",
    "        return 0\n",
    "    elif x <= strategy[0] + strategy[1]:\n",
    "        return 1\n",
    "    else:\n",
    "        return 2\n",
    "    \n",
    "def simulate_game(gm, row_strategy, col_strategy, trials = 1000, debug = False):\n",
    "    \"\"\"Simulate playing game\n",
    "    \n",
    "        Args:\n",
    "            gm = game matrix\n",
    "            row_strategy = (p1, p2, 1-p1-p2)\n",
    "            col_strategy = (q1, q2, 1-q1-q2)\n",
    "            trials = number of simulation trials\n",
    "    \"\"\"\n",
    "    total_row_payoff = 0.0\n",
    "    total_col_payoff = 0.0\n",
    "    for trial in range(trials):\n",
    "        row_choice = get_choice_from_strategy(row_strategy)\n",
    "        col_choice = get_choice_from_strategy(col_strategy)\n",
    "        if debug:\n",
    "            print(row_choice, col_choice)\n",
    "        total_row_payoff += gm[row_choice][col_choice][0]\n",
    "        total_col_payoff += gm[row_choice][col_choice][1]\n",
    "    print(f\"Avg. row payoff = {total_row_payoff/trials}\")\n",
    "    print(f\"Avg. col payoff = {total_col_payoff/trials}\")\n",
    "\n",
    "game_1 = build_game()\n",
    "print_game(game_1)\n",
    "simulate_game(game_1, [.8, .1, .1], [0.0, 0.0, 1.0], trials = 1000000, debug = False)\n",
    "        "
   ]
  },
  {
   "cell_type": "markdown",
   "metadata": {},
   "source": [
    "## Solutions"
   ]
  },
  {
   "cell_type": "code",
   "execution_count": 7,
   "metadata": {},
   "outputs": [
    {
     "name": "stdout",
     "output_type": "stream",
     "text": [
      "[12.3, 21.0, 27.0, 33.4, 16.0, 27.8, 19.0, 21.2]\n"
     ]
    }
   ],
   "source": [
    "# Answer to Exercise 1\n",
    "\n",
    "s = \"12.3, 21, 27, 33.4, 16, 27.8, 19, 21.2\"\n",
    "\n",
    "# write your code to convert this to a list here\n",
    "# hind use .split in your list comprehension and float(x) to convert a string x to floating point\n",
    "\n",
    "nums = [float(x) for x in s.split(',')]\n",
    "print (nums)"
   ]
  },
  {
   "cell_type": "code",
   "execution_count": 135,
   "metadata": {},
   "outputs": [
    {
     "name": "stdout",
     "output_type": "stream",
     "text": [
      "[0, 1, 2, 3, 4, 5, 6, 7, 8, 9, 10, 11, 12, 13, 14, 15, 16, 17, 18, 19, 20, 21, 22, 23, 24, 25, 26, 27, 28, 29, 30, 31, 32, 33, 34, 35, 36, 37, 38, 39, 40, 41, 42, 43, 44, 45, 46, 47, 48, 49, 50, 51, 52, 53, 54, 55, 56, 57, 58, 59, 60, 61, 62, 63, 64, 65, 66, 67, 68, 69, 70, 71, 72, 73, 74, 75, 76, 77, 78, 79, 80, 81, 82, 83, 84, 85, 86, 87, 88, 89, 90, 91, 92, 93, 94, 95, 96, 97, 98, 99]\n",
      "\n",
      "[0, 1, 2, 3, 4, 5, 6, 7, 8, 9, 10, 11, 12, 13, 14, 15, 16, 17, 18, 19, 20, 21, 22, 23, 24, 25, 26, 27, 28, 29, 30, 31, 32, 33, 34, 35, 36, 37, 38, 39, 40, 41, 42, 43, 44, 45, 46, 47, 48, 49, 50, 51, 52, 53, 54, 55, 56, 57, 58, 59, 60, 61, 62, 63, 64, 65, 66, 67, 68, 69, 70, 71, 72, 73, 74, 75, 76, 77, 78, 79, 80, 81, 82, 83, 84, 85, 86, 87, 88, 89, 90, 91, 92, 93, 94, 95, 96, 97, 98, 99]\n",
      "\n",
      "[[0, 1, 2, 3, 4, 5, 6, 7, 8, 9], [10, 11, 12, 13, 14, 15, 16, 17, 18, 19], [20, 21, 22, 23, 24, 25, 26, 27, 28, 29], [30, 31, 32, 33, 34, 35, 36, 37, 38, 39], [40, 41, 42, 43, 44, 45, 46, 47, 48, 49], [50, 51, 52, 53, 54, 55, 56, 57, 58, 59], [60, 61, 62, 63, 64, 65, 66, 67, 68, 69], [70, 71, 72, 73, 74, 75, 76, 77, 78, 79], [80, 81, 82, 83, 84, 85, 86, 87, 88, 89], [90, 91, 92, 93, 94, 95, 96, 97, 98, 99]]\n",
      "\n",
      " 0  1  2  3  4  5  6  7  8  9 \n",
      "10 11 12 13 14 15 16 17 18 19 \n",
      "20 21 22 23 24 25 26 27 28 29 \n",
      "30 31 32 33 34 35 36 37 38 39 \n",
      "40 41 42 43 44 45 46 47 48 49 \n",
      "50 51 52 53 54 55 56 57 58 59 \n",
      "60 61 62 63 64 65 66 67 68 69 \n",
      "70 71 72 73 74 75 76 77 78 79 \n",
      "80 81 82 83 84 85 86 87 88 89 \n",
      "90 91 92 93 94 95 96 97 98 99 \n"
     ]
    }
   ],
   "source": [
    "# Answer to Exercise 2\n",
    "\n",
    "# while loop solution\n",
    "while_to_99 =[]\n",
    "k = 0\n",
    "while k < 100:\n",
    "    while_to_99.append(k)\n",
    "    k = k + 1\n",
    "print(while_to_99)\n",
    "print()\n",
    "\n",
    "#list comprehension solution\n",
    "list_to_99 = [k for k in range(100)]\n",
    "print(list_to_99)\n",
    "print()\n",
    "\n",
    "# for loop to make table\n",
    "table = []\n",
    "for k in range(0, 100, 10):\n",
    "    sub_list = list_to_99[k:k+10]\n",
    "    table.append(sub_list)\n",
    "print(table)\n",
    "print()\n",
    "\n",
    "def pretty_print_table(table):\n",
    "    \"\"\" Print a table by row collumn\"\"\"\n",
    "    if type(table) is not list:\n",
    "        print(\"table is not a list\")\n",
    "        return\n",
    "    if table == []:\n",
    "        print(\"table is empty\")\n",
    "        return\n",
    "    for row_index in range(len(table)):\n",
    "        for col_index in range(len(table[row_index])):\n",
    "            print(f\"{table[row_index][ col_index]:2}\", end = \" \" )\n",
    "        print()\n",
    "\n",
    "pretty_print_table(table)\n",
    "    \n",
    "    \n",
    "        "
   ]
  },
  {
   "cell_type": "code",
   "execution_count": 171,
   "metadata": {},
   "outputs": [
    {
     "name": "stdout",
     "output_type": "stream",
     "text": [
      "Matrix a\n",
      "     3.0       7.0       6.0       2.0  \n",
      "    11.0       6.0       3.0      14.0  \n",
      "     1.0       2.0       3.0       4.0  \n",
      "\n",
      "Matrix b\n",
      "     1.0       2.0       3.0  \n",
      "     1.0       2.0       3.0  \n",
      "     1.0       2.0       3.0  \n",
      "     1.0       2.0       3.0  \n",
      "\n",
      "Matrix i\n",
      "     1.0       0.0       0.0       0.0  \n",
      "     0.0       1.0       0.0       0.0  \n",
      "     0.0       0.0       1.0       0.0  \n",
      "     0.0       0.0       0.0       1.0  \n",
      "\n",
      "Matrix c = a*b\n",
      "    18.0      36.0      54.0  \n",
      "    34.0      68.0     102.0  \n",
      "    10.0      20.0      30.0  \n",
      "\n",
      "Matrix d = a*i\n",
      "     3.0       7.0       6.0       2.0  \n",
      "    11.0       6.0       3.0      14.0  \n",
      "     1.0       2.0       3.0       4.0  \n",
      "\n"
     ]
    }
   ],
   "source": [
    "# answer to exercise 3\n",
    "def float_matrix(matrix):\n",
    "    \"\"\"takes a matrix and returns a new_matrix with all numbers convereted to floats\"\"\"\n",
    "    new_matrix = []\n",
    "    for row in matrix:\n",
    "        new_row=[]\n",
    "        for item in row:\n",
    "            new_row.append(float(item))\n",
    "        new_matrix.append(new_row)\n",
    "    return new_matrix\n",
    "            \n",
    "def print_matrix(matrix):\n",
    "    \"\"\"Prints an m x n matrix in matrix form\"\"\"\n",
    "    for row in matrix:\n",
    "        for item in row:\n",
    "            print(f\"{item:8.4}\", end = \"  \" )\n",
    "        print()\n",
    "    \n",
    "\n",
    "def dot (a, b):\n",
    "    \"\"\"returns the dot product of two equal length vectors\"\"\"\n",
    "    assert len(a)  == len(b), \"a and b must have the same length\"\n",
    "    dot_product = 0.0\n",
    "    for index in range(len(a)):\n",
    "            dot_product = dot_product + a[index] * b[index]\n",
    "    return dot_product\n",
    "\n",
    "def get_row(a, k):\n",
    "    return a[k]\n",
    "\n",
    "def get_col(a, k):\n",
    "    col = []\n",
    "    for row in a:\n",
    "        col.append(row[k])\n",
    "    return col\n",
    "        \n",
    "def matrix_multiply(a, b):\n",
    "    m = len(a)\n",
    "    n = len(b[0])\n",
    "    c = []\n",
    "    for k in range(m):\n",
    "        d = get_row(a, k)\n",
    "        c_row=[]\n",
    "        for j in range(n):\n",
    "            e = get_col(b, j)\n",
    "            c_row.append(dot(d, e))\n",
    "        c.append(c_row)\n",
    "    return c\n",
    "\n",
    "\n",
    "#a_nmatrix  is a 3 x 4 matrix\n",
    "a1 = [3, 7, 6, 2]\n",
    "a2 = [11, 6, 3, 14]\n",
    "a3 = [1, 2, 3, 4]\n",
    "a_matrix = float_matrix([a1, a2, a3])\n",
    "print(\"Matrix a\")\n",
    "print_matrix(a_matrix)\n",
    "print()\n",
    "\n",
    "# b_matrix is a 4 x 3 matrix\n",
    "b1 = [1, 2, 3]\n",
    "b2 = [1, 2, 3]\n",
    "b3 = [1, 2, 3]\n",
    "b4 = [1, 2, 3]\n",
    "b_matrix = float_matrix([b1, b2, b3, b4])\n",
    "print(\"Matrix b\")\n",
    "print_matrix(b_matrix)\n",
    "print()\n",
    "\n",
    "# i_matrix is a 3 x 3 identity matrix\n",
    "i1 = [1, 0, 0, 0]\n",
    "i2 = [0, 1, 0, 0]\n",
    "i3 = [0, 0, 1, 0]\n",
    "i4 = [0, 0, 0, 1]\n",
    "i_matrix = float_matrix([i1, i2, i3, i4])\n",
    "print(\"Matrix i\")\n",
    "print_matrix(i_matrix)\n",
    "print()\n",
    "\n",
    "\n",
    "c_matrix = matrix_multiply(a_matrix, b_matrix)\n",
    "print(\"Matrix c = a*b\")\n",
    "print_matrix(c_matrix)\n",
    "print()\n",
    "\n",
    "d_matrix = matrix_multiply(a_matrix, i_matrix)\n",
    "print(\"Matrix d = a*i\")\n",
    "print_matrix(d_matrix)\n",
    "print()\n"
   ]
  }
 ],
 "metadata": {
  "kernelspec": {
   "display_name": "base",
   "language": "python",
   "name": "python3"
  },
  "language_info": {
   "codemirror_mode": {
    "name": "ipython",
    "version": 3
   },
   "file_extension": ".py",
   "mimetype": "text/x-python",
   "name": "python",
   "nbconvert_exporter": "python",
   "pygments_lexer": "ipython3",
   "version": "3.13.5"
  },
  "toc": {
   "base_numbering": 1,
   "nav_menu": {},
   "number_sections": true,
   "sideBar": true,
   "skip_h1_title": false,
   "title_cell": "Table of Contents",
   "title_sidebar": "Contents",
   "toc_cell": false,
   "toc_position": {
    "height": "calc(100% - 180px)",
    "left": "10px",
    "top": "150px",
    "width": "196px"
   },
   "toc_section_display": true,
   "toc_window_display": true
  }
 },
 "nbformat": 4,
 "nbformat_minor": 4
}
