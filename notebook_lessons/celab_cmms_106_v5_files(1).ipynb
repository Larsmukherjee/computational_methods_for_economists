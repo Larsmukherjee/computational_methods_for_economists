{
 "cells": [
  {
   "cell_type": "markdown",
   "metadata": {},
   "source": [
    "# Files and File Handling\n",
    "Files are permanent data structures used to store data on external storage devices such as your computer's hard drive or a USB Flash Drive. In the next section we will look at how to locate files on a windows system.  To do this we will use a built-in module called `os` which stands for operating system. "
   ]
  },
  {
   "cell_type": "markdown",
   "metadata": {},
   "source": [
    "# Using `os` on your computer"
   ]
  },
  {
   "cell_type": "code",
   "execution_count": 1,
   "metadata": {},
   "outputs": [
    {
     "name": "stdout",
     "output_type": "stream",
     "text": [
      "/Users/larsmukherjee/Desktop/Fall 25/Econ 895/Repositories/computational_methods_for_economists/notebook_lessons\n",
      "celab_cmms_106_v5_files(1).ipynb\n",
      "JSON Data.ipynb\n",
      "ceelab_cmms_v1_getting_started.ipynb\n",
      "ceelab_cmms_117_v2_sympy_primer.ipynb\n",
      "quadratic.py\n",
      "celab_cmms_102_v7_functions.ipynb\n",
      "Untitled.ipynb\n",
      "ceelab_cmms_risk_preferences_find_ce (1).ipynb\n",
      "ceelab_cmms_118_v1_ols.ipynb\n",
      "__pycache__\n",
      "ceelab_cmms_108_v1_visual_studio_code.ipynb\n",
      "jupyter_notebook_tutorial_V3.ipynb\n",
      "ceelab_cmms_109_v6_object_oriented_programming.ipynb\n",
      "celab_cmms_101_v5_data.ipynb\n",
      "celab_cmms_105_v5_dictionaries(1).ipynb\n",
      "ceelab_cmms_112_oop_advanced.ipynb\n",
      "ceelab_cmms_109_v4_object_oriented_programming.ipynb\n",
      "celab_cmms_104_v5_sequences(1).ipynb\n",
      "ceelab_cmms_115_V1_Pandas.ipynb\n",
      "ceelab_cmms_111_class_dunder_methods.ipynb\n",
      ".ipynb_checkpoints\n",
      "ceelab_cmms_108_v2_visual_studio_code(1) (1).ipynb\n",
      "ceelab_cmms_113_v3_numpy.ipynb\n",
      "-ceelab_cmms_110_v3_advanced_oop.ipynb.url\n",
      "ceelab_cmms_107_v4_programming_skills (1).ipynb\n",
      "ceelab_cmms_116_V1_matplotlib.ipynb\n",
      "web_scraping.ipynb\n",
      "ceelab_cmms_114_V1_numpy_distributions.ipynb\n",
      "ceelab_cmms_110_v3_advanced_oop.ipynb\n",
      "primer_numpy_distributions.ipynb\n",
      "celab_cmms_103_v5_booleans(1).ipynb\n"
     ]
    }
   ],
   "source": [
    "import os  # operating system \n",
    "current_working_dir = os.getcwd()   # path to current directory\n",
    "print(current_working_dir)\n",
    "directory = os.listdir(current_working_dir)  # list of files and folders in working directory\n",
    "for item in directory:\n",
    "    print(item)"
   ]
  },
  {
   "cell_type": "markdown",
   "metadata": {},
   "source": [
    ">**Note:** we can also build a path by creating a string.  Notice in the example below we have to use `\\\\` to get a single `\\` since `\\` is used as the escape key in a python strings. "
   ]
  },
  {
   "cell_type": "code",
   "execution_count": 2,
   "metadata": {},
   "outputs": [
    {
     "name": "stdout",
     "output_type": "stream",
     "text": [
      "C:\\Users\\Desktop\\\n",
      "\n"
     ]
    },
    {
     "ename": "FileNotFoundError",
     "evalue": "[Errno 2] No such file or directory: 'C:\\\\Users\\\\Desktop\\\\'",
     "output_type": "error",
     "traceback": [
      "\u001b[0;31m---------------------------------------------------------------------------\u001b[0m",
      "\u001b[0;31mFileNotFoundError\u001b[0m                         Traceback (most recent call last)",
      "Cell \u001b[0;32mIn[2], line 4\u001b[0m\n\u001b[1;32m      2\u001b[0m \u001b[38;5;28mprint\u001b[39m(path)\n\u001b[1;32m      3\u001b[0m \u001b[38;5;28mprint\u001b[39m()\n\u001b[0;32m----> 4\u001b[0m new_directory \u001b[38;5;241m=\u001b[39m os\u001b[38;5;241m.\u001b[39mlistdir(path)\n\u001b[1;32m      5\u001b[0m \u001b[38;5;28;01mfor\u001b[39;00m k, item \u001b[38;5;129;01min\u001b[39;00m \u001b[38;5;28menumerate\u001b[39m(new_directory):\n\u001b[1;32m      6\u001b[0m     \u001b[38;5;28;01mif\u001b[39;00m k \u001b[38;5;241m<\u001b[39m \u001b[38;5;241m5\u001b[39m:\n",
      "\u001b[0;31mFileNotFoundError\u001b[0m: [Errno 2] No such file or directory: 'C:\\\\Users\\\\Desktop\\\\'"
     ]
    }
   ],
   "source": [
    "path = \"C:\\\\Users\\\\Desktop\\\\\"  # Build Your Own Path notice \\\\ in string to get \\\n",
    "print(path)\n",
    "print()\n",
    "new_directory = os.listdir(path)\n",
    "for k, item in enumerate(new_directory):\n",
    "    if k < 5:\n",
    "        print(item)\n",
    "    else:\n",
    "        break"
   ]
  },
  {
   "cell_type": "markdown",
   "metadata": {},
   "source": [
    "# Writing and Reading Text Files\n",
    "\n",
    "## writing\n",
    "\n",
    "```python\n",
    "output_file = open(path, 'w')      # the 'w' is for write\n",
    "output_file.write(\"a nice string\") # write a line\n",
    "output_file.close()                # close the file\n",
    "output_file = open(path, 'a')      # open file to append lines\n",
    "```\n",
    "## reading\n",
    "\n",
    "```python\n",
    "input_file = open(path)               # remeber to use \\\\ in paths\n",
    "file_content = input_file.read()      # one really large string\n",
    "file_content = input_file.readline()  # one line\n",
    "file_content = input_file.readlines() # a list of string lines\n",
    "```\n"
   ]
  },
  {
   "cell_type": "code",
   "execution_count": 3,
   "metadata": {},
   "outputs": [
    {
     "name": "stdout",
     "output_type": "stream",
     "text": [
      "/Users/larsmukherjee/Desktop/Fall 25/Econ 895/Repositories/computational_methods_for_economists/notebook_lessons\\test_2.txt\n"
     ]
    }
   ],
   "source": [
    "import os\n",
    "\n",
    "# set up path\n",
    "current_working_dir = os.getcwd()+\"\\\\\"\n",
    "file_name = input(\"Enter the filename test_2\")\n",
    "path = current_working_dir + file_name + '.txt'\n",
    "print(path)\n",
    "\n",
    "# start writing out to file\n",
    "output_file = open(path, 'w')          # the 'w' is for write\n",
    "output_file.write(\"a nice string\\n\")   # write a line, \n",
    "                                       # notice \\n needed for new line\n",
    "output_file.write(\"1, 2, 3, 4\")        # write another line\n",
    "output_file.close()\n"
   ]
  },
  {
   "cell_type": "code",
   "execution_count": 4,
   "metadata": {},
   "outputs": [
    {
     "name": "stdout",
     "output_type": "stream",
     "text": [
      "a nice string\n"
     ]
    }
   ],
   "source": [
    "# This examples reads one line and prints it\n",
    "\n",
    "input_file = open(path)\n",
    "line = input_file.readline()\n",
    "print(line, end=\"\")\n",
    "input_file.close()"
   ]
  },
  {
   "cell_type": "code",
   "execution_count": 5,
   "metadata": {},
   "outputs": [
    {
     "name": "stdout",
     "output_type": "stream",
     "text": [
      "a nice string\n",
      "1, 2, 3, 4\n"
     ]
    }
   ],
   "source": [
    "# This example reads the whole file as one string and prints it\n",
    "\n",
    "input_file = open(path)\n",
    "file_contents = input_file.read()\n",
    "print(file_contents)\n",
    "input_file.close()"
   ]
  },
  {
   "cell_type": "code",
   "execution_count": 6,
   "metadata": {},
   "outputs": [
    {
     "name": "stdout",
     "output_type": "stream",
     "text": [
      "['a nice string\\n', '1, 2, 3, 4']\n"
     ]
    }
   ],
   "source": [
    "# This example read assigns each line of the file to a list element \n",
    "\n",
    "input_file = open(path)\n",
    "line = input_file.readlines()\n",
    "print(line)\n",
    "input_file.close()"
   ]
  },
  {
   "cell_type": "code",
   "execution_count": 7,
   "metadata": {},
   "outputs": [
    {
     "name": "stdout",
     "output_type": "stream",
     "text": [
      "a nice string\n",
      "1, 2, 3, 4"
     ]
    }
   ],
   "source": [
    "# This examples uses a loop to read and print all lines\n",
    "\n",
    "input_file = open(path)\n",
    "for line in input_file:\n",
    "    print(line, end =\"\")\n",
    "input_file.close()"
   ]
  },
  {
   "cell_type": "code",
   "execution_count": 8,
   "metadata": {},
   "outputs": [
    {
     "name": "stdout",
     "output_type": "stream",
     "text": [
      "a nice string\n",
      "1, 2, 3, 4\n",
      "We are done\n"
     ]
    }
   ],
   "source": [
    "# This code uses a 'with' statement to open the file\n",
    "# using 'with' will automatically close a file\n",
    "\n",
    "with open(path) as input_file:\n",
    "    for line in input_file:\n",
    "        print(line, end =\"\")\n",
    "print()\n",
    "print(\"We are done\")"
   ]
  },
  {
   "cell_type": "markdown",
   "metadata": {},
   "source": [
    "# Exercise \n",
    "\n",
    "Open a code cell below and write a program to write to a file called `eg2.txt`.  The file will have 20 lines and each line in the file, from 0, ..., 19, contains the two numbers, `line_number, line_number**2`.  Thus the first four lines of the file are,\n",
    "```\n",
    "0, 0\n",
    "1, 1\n",
    "2, 4\n",
    "3, 9\n",
    "```\n",
    "Once the lines are written read the file and print the lines."
   ]
  },
  {
   "cell_type": "code",
   "execution_count": 2,
   "metadata": {},
   "outputs": [
    {
     "name": "stdout",
     "output_type": "stream",
     "text": [
      "0, 0\n",
      "1, 1\n",
      "2, 4\n",
      "3, 9\n",
      "4, 16\n",
      "5, 25\n",
      "6, 36\n",
      "7, 49\n",
      "8, 64\n",
      "9, 81\n",
      "10, 100\n",
      "11, 121\n",
      "12, 144\n",
      "13, 169\n",
      "14, 196\n",
      "15, 225\n",
      "16, 256\n",
      "17, 289\n",
      "18, 324\n",
      "19, 361\n",
      "0, 0\n",
      "1, 1\n",
      "2, 4\n",
      "3, 9\n",
      "4, 16\n",
      "5, 25\n",
      "6, 36\n",
      "7, 49\n",
      "8, 64\n",
      "9, 81\n",
      "10, 100\n",
      "11, 121\n",
      "12, 144\n",
      "13, 169\n",
      "14, 196\n",
      "15, 225\n",
      "16, 256\n",
      "17, 289\n",
      "18, 324\n",
      "19, 361\n",
      "\n"
     ]
    }
   ],
   "source": [
    "with open(\"eg2.txt\", \"w\") as f:\n",
    "    for i in range(20):\n",
    "        f.write(f\"{i}, {i**2}\\n\") \n",
    "\n",
    "with open(\"eg2.txt\", \"r\") as f:\n",
    "    for line in f:\n",
    "        print(line.strip())\n",
    "with open(\"eg2.txt\", \"r\") as f:\n",
    "    x = f.read()\n",
    "    print(x)"
   ]
  },
  {
   "cell_type": "markdown",
   "metadata": {},
   "source": [
    "# CSV Files\n",
    "\n",
    "CSV stands for comma seperated values.  This is a typical file format used for data files.  Python has a built-in module for dealing with CSV files.  Below is an example."
   ]
  },
  {
   "cell_type": "code",
   "execution_count": 17,
   "metadata": {},
   "outputs": [],
   "source": [
    "import csv  #uncomment help to see it\n",
    "#help(csv)"
   ]
  },
  {
   "cell_type": "code",
   "execution_count": 9,
   "metadata": {},
   "outputs": [],
   "source": [
    "import csv  # handles csv type files\n",
    "\n",
    "# write a csv file\n",
    "output_file = open('example.csv', 'w', newline='')\n",
    "output_writer = csv.writer(output_file)\n",
    "output_writer.writerow(['spam', 'eggs', 'bacon'])  # write a list as a row\n",
    "output_writer.writerow([1, 2, 3.14159])\n",
    "output_file.close()"
   ]
  },
  {
   "cell_type": "code",
   "execution_count": 15,
   "metadata": {},
   "outputs": [
    {
     "name": "stdout",
     "output_type": "stream",
     "text": [
      "[['spam', 'eggs', 'bacon'], ['1', '2', '3.14159']]\n"
     ]
    }
   ],
   "source": [
    "# read a csv file all at one time\n",
    "input_file = open('example.csv')\n",
    "input_reader = csv.reader(input_file)\n",
    "all_data = list(input_reader)\n",
    "print(all_data)"
   ]
  },
  {
   "cell_type": "code",
   "execution_count": 11,
   "metadata": {},
   "outputs": [
    {
     "name": "stdout",
     "output_type": "stream",
     "text": [
      "['spam', 'eggs', 'bacon']\n",
      "['1', '2', '3.14159']\n",
      "['1', '2', '3.14159'] <class 'list'> 1 <class 'str'>\n"
     ]
    }
   ],
   "source": [
    "# read a csv file one line at a time\n",
    "import csv\n",
    "input_file = open('example.csv')\n",
    "input_reader = csv.reader(input_file)\n",
    "for row in input_reader:\n",
    "    print(row)\n",
    "print(row, type(row), row[0], type(row[0]))"
   ]
  },
  {
   "cell_type": "code",
   "execution_count": 12,
   "metadata": {},
   "outputs": [
    {
     "ename": "FileNotFoundError",
     "evalue": "[Errno 2] No such file or directory: 'exmple.csv'",
     "output_type": "error",
     "traceback": [
      "\u001b[0;31m---------------------------------------------------------------------------\u001b[0m",
      "\u001b[0;31mFileNotFoundError\u001b[0m                         Traceback (most recent call last)",
      "Cell \u001b[0;32mIn[12], line 2\u001b[0m\n\u001b[1;32m      1\u001b[0m \u001b[38;5;66;03m# lets create an error\u001b[39;00m\n\u001b[0;32m----> 2\u001b[0m input_file \u001b[38;5;241m=\u001b[39m \u001b[38;5;28mopen\u001b[39m(\u001b[38;5;124m'\u001b[39m\u001b[38;5;124mexmple.csv\u001b[39m\u001b[38;5;124m'\u001b[39m)\n\u001b[1;32m      3\u001b[0m input_reader \u001b[38;5;241m=\u001b[39m csv\u001b[38;5;241m.\u001b[39mreader(input_file)\n\u001b[1;32m      4\u001b[0m \u001b[38;5;28;01mfor\u001b[39;00m row \u001b[38;5;129;01min\u001b[39;00m input_reader:\n",
      "File \u001b[0;32m/opt/anaconda3/lib/python3.13/site-packages/IPython/core/interactiveshell.py:324\u001b[0m, in \u001b[0;36m_modified_open\u001b[0;34m(file, *args, **kwargs)\u001b[0m\n\u001b[1;32m    317\u001b[0m \u001b[38;5;28;01mif\u001b[39;00m file \u001b[38;5;129;01min\u001b[39;00m {\u001b[38;5;241m0\u001b[39m, \u001b[38;5;241m1\u001b[39m, \u001b[38;5;241m2\u001b[39m}:\n\u001b[1;32m    318\u001b[0m     \u001b[38;5;28;01mraise\u001b[39;00m \u001b[38;5;167;01mValueError\u001b[39;00m(\n\u001b[1;32m    319\u001b[0m         \u001b[38;5;124mf\u001b[39m\u001b[38;5;124m\"\u001b[39m\u001b[38;5;124mIPython won\u001b[39m\u001b[38;5;124m'\u001b[39m\u001b[38;5;124mt let you open fd=\u001b[39m\u001b[38;5;132;01m{\u001b[39;00mfile\u001b[38;5;132;01m}\u001b[39;00m\u001b[38;5;124m by default \u001b[39m\u001b[38;5;124m\"\u001b[39m\n\u001b[1;32m    320\u001b[0m         \u001b[38;5;124m\"\u001b[39m\u001b[38;5;124mas it is likely to crash IPython. If you know what you are doing, \u001b[39m\u001b[38;5;124m\"\u001b[39m\n\u001b[1;32m    321\u001b[0m         \u001b[38;5;124m\"\u001b[39m\u001b[38;5;124myou can use builtins\u001b[39m\u001b[38;5;124m'\u001b[39m\u001b[38;5;124m open.\u001b[39m\u001b[38;5;124m\"\u001b[39m\n\u001b[1;32m    322\u001b[0m     )\n\u001b[0;32m--> 324\u001b[0m \u001b[38;5;28;01mreturn\u001b[39;00m io_open(file, \u001b[38;5;241m*\u001b[39margs, \u001b[38;5;241m*\u001b[39m\u001b[38;5;241m*\u001b[39mkwargs)\n",
      "\u001b[0;31mFileNotFoundError\u001b[0m: [Errno 2] No such file or directory: 'exmple.csv'"
     ]
    }
   ],
   "source": [
    "# lets create an error\n",
    "input_file = open('exmple.csv')\n",
    "input_reader = csv.reader(input_file)\n",
    "for row in input_reader:\n",
    "    print(row)"
   ]
  },
  {
   "cell_type": "code",
   "execution_count": 13,
   "metadata": {},
   "outputs": [
    {
     "name": "stdout",
     "output_type": "stream",
     "text": [
      "[Errno 2] No such file or directory: 'exmple.csv'\n"
     ]
    }
   ],
   "source": [
    "# lets trap this error\n",
    "path = 'exmple.csv'\n",
    "try: \n",
    "    input_file = open(path)\n",
    "    input_reader = csv.reader(input_file)\n",
    "    for row in input_reader:\n",
    "        print(row)\n",
    "except OSError as err:\n",
    "    print(err)"
   ]
  },
  {
   "cell_type": "markdown",
   "metadata": {},
   "source": [
    "How many system error in Windows are there https://msdn.microsoft.com/en-us/library/windows/desktop/ms681382(v=vs.85).aspx"
   ]
  },
  {
   "cell_type": "markdown",
   "metadata": {},
   "source": [
    "# Read and write a file using key:value pairs\n",
    "\n",
    "The shelve module allows us to read and write to a binary file using key: value pairs.  Typical usage is as follows.  See documentation [here](https://docs.python.org/3/library/shelve.html)."
   ]
  },
  {
   "cell_type": "code",
   "execution_count": 17,
   "metadata": {},
   "outputs": [
    {
     "name": "stdout",
     "output_type": "stream",
     "text": [
      "/Users/larsmukherjee/Desktop/Fall 25/Econ 895/Repositories/computational_methods_for_economists/notebook_lessons\\shelve_eg1\n"
     ]
    }
   ],
   "source": [
    "import os\n",
    "import shelve\n",
    "\n",
    "# set up path\n",
    "current_working_dir = os.getcwd()+\"\\\\\"\n",
    "file_name = \"shelve_eg1\"\n",
    "path = current_working_dir + file_name\n",
    "print(path)\n",
    "\n",
    "# start writing out to file\n",
    "shelf_file = shelve.open(path)         # open a shelve file\n",
    "shelf_file['stooges'] = [\"Larry\", \"Moe\", \"Joe\", \"Curly\"]\n",
    "shelf_file['number'] = 3\n",
    "shelf_file.close()"
   ]
  },
  {
   "cell_type": "code",
   "execution_count": 18,
   "metadata": {},
   "outputs": [
    {
     "name": "stdout",
     "output_type": "stream",
     "text": [
      "<class 'shelve.DbfilenameShelf'>\n",
      "['Larry', 'Moe', 'Joe', 'Curly']\n",
      "3\n"
     ]
    }
   ],
   "source": [
    "input_shelf = shelve.open(path)\n",
    "print(type(input_shelf))\n",
    "print(input_shelf['stooges'])\n",
    "print(input_shelf['number'])"
   ]
  },
  {
   "cell_type": "markdown",
   "metadata": {},
   "source": [
    "# Additional resources\n",
    "\n",
    "Real Python\n",
    "* [working with files](https://realpython.com/working-with-files-in-python/#reading-multiple-files)\n",
    "* [reading and writing files](https://realpython.com/read-write-files-python/)\n",
    "* [raeding and writing csv files](https://realpython.com/python-csv/)\n",
    "\n"
   ]
  }
 ],
 "metadata": {
  "kernelspec": {
   "display_name": "base",
   "language": "python",
   "name": "python3"
  },
  "language_info": {
   "codemirror_mode": {
    "name": "ipython",
    "version": 3
   },
   "file_extension": ".py",
   "mimetype": "text/x-python",
   "name": "python",
   "nbconvert_exporter": "python",
   "pygments_lexer": "ipython3",
   "version": "3.13.5"
  },
  "toc": {
   "base_numbering": 1,
   "nav_menu": {},
   "number_sections": true,
   "sideBar": true,
   "skip_h1_title": false,
   "title_cell": "Table of Contents",
   "title_sidebar": "Contents",
   "toc_cell": false,
   "toc_position": {},
   "toc_section_display": true,
   "toc_window_display": true
  }
 },
 "nbformat": 4,
 "nbformat_minor": 4
}
