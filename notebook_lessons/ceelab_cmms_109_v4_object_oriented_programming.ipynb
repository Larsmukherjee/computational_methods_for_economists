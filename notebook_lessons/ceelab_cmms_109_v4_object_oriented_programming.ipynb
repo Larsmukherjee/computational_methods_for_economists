{
 "cells": [
  {
   "cell_type": "markdown",
   "metadata": {},
   "source": [
    "# Introduction to Object Oriented Programming\n",
    "\n",
    "You have already started using functions to encapsulate code.  This is one approach to programming sometimes called modular programming.  A second approach is called object oriented programming.  An object is a set of data, called **attributes**, together with a set of functions, called **methods**, that manipulate the data.  Objects are constructed from a class which acts as a blueprint.  As it turns out everything in Python is an object."
   ]
  },
  {
   "cell_type": "markdown",
   "metadata": {},
   "source": [
    "## Building a class blueprint\n",
    "\n",
    "To build a class blueprint we use the `class` keyword as follows:\n",
    "\n",
    "```python\n",
    "class HelloWorld:\n",
    "    \"\"\"A very simple class\"\"\"\n",
    "    def __init__(self):\n",
    "        print('Hello World')\n",
    "```\n",
    "Try this now by making a code cell and run this very simple class definition."
   ]
  },
  {
   "cell_type": "code",
   "execution_count": 7,
   "metadata": {},
   "outputs": [],
   "source": [
    "class HelloWorld:\n",
    "    \"\"\"A very simple class\"\"\"\n",
    "    def __init__(self):\n",
    "        print('Hello World')"
   ]
  },
  {
   "cell_type": "markdown",
   "metadata": {},
   "source": [
    "Function defined inside a class are called `methods`.  In our simple example above we only have one method called __init__ .  Notice that methods are nested inside the class definition.  So we see the `class statement` defines a `CODE BLOCK` containing methods.  You will learn more about this a little later. "
   ]
  },
  {
   "cell_type": "markdown",
   "metadata": {},
   "source": [
    "## Instantiating an object\n",
    "\n",
    "The class HellowWorld prints out `Hello World` when you construct an object from the class.  We do this as follows.\n",
    "```python\n",
    "obj_1 = HelloWorld()\n",
    "```\n",
    "Try this now by executing the code cell below and constructing a HelloWorld object."
   ]
  },
  {
   "cell_type": "code",
   "execution_count": 8,
   "metadata": {},
   "outputs": [
    {
     "name": "stdout",
     "output_type": "stream",
     "text": [
      "Hello World\n",
      "Hello World\n"
     ]
    }
   ],
   "source": [
    "obj_1 = HelloWorld()\n",
    "obj_2 = HelloWorld()"
   ]
  },
  {
   "cell_type": "code",
   "execution_count": 14,
   "metadata": {},
   "outputs": [
    {
     "data": {
      "text/plain": [
       "__main__.HelloWorld"
      ]
     },
     "execution_count": 14,
     "metadata": {},
     "output_type": "execute_result"
    }
   ],
   "source": [
    "# Lets output the type of the object you just constructed\n",
    "type(obj_1)"
   ]
  },
  {
   "cell_type": "code",
   "execution_count": 17,
   "metadata": {},
   "outputs": [
    {
     "name": "stdout",
     "output_type": "stream",
     "text": [
      "Help on HelloWorld in module __main__ object:\n",
      "\n",
      "class HelloWorld(builtins.object)\n",
      " |  A very simple class\n",
      " |  \n",
      " |  Methods defined here:\n",
      " |  \n",
      " |  __init__(self)\n",
      " |      Initialize self.  See help(type(self)) for accurate signature.\n",
      " |  \n",
      " |  ----------------------------------------------------------------------\n",
      " |  Data descriptors defined here:\n",
      " |  \n",
      " |  __dict__\n",
      " |      dictionary for instance variables (if defined)\n",
      " |  \n",
      " |  __weakref__\n",
      " |      list of weak references to the object (if defined)\n",
      "\n"
     ]
    }
   ],
   "source": [
    "# we can ask for help \n",
    "help(obj_1)"
   ]
  },
  {
   "cell_type": "markdown",
   "metadata": {},
   "source": [
    "This does not tell us much but it does tell us that object is the name of a class in module builtins and that when we make an object of type object it is the most base type.  For now this is all we need to know.  We make an object by using the assignment statement `variable_name = ClassName(arguments)`.  Since we had no arguments we used `obj1 = HelloWorld()`.  Notice when we ran `type(obj1)` we got the result `__main__.HelloWorld` this tells us that the variable obj1 points to a HelloWorld object in our main program.\n",
    "\n",
    "Finally when we made our `class HelloWorld(object):` we followed it with the function definition:\n",
    "\n",
    "```python\n",
    "def __init__(self):\n",
    "    print('Hello World')\n",
    "```\n",
    "Notice the function definition is indented to indicate it is part of the class definition.  When a function is part of a class it is called a `method` instead of a `function`.  This is simply a convention to distinguish functions named ouside a class from functions defined inside a class.  \n",
    "\n",
    "When we have a method name enclosed by double underscores, i.e. `__init__` it is called a special method.  We must define the `__init__` method in our class definition if we want to make objects.  In the `HelloWorld class` the `__init__` method simply prints `Hello World` when we make an object.  Note, in object oriented programming we refer to `__init__` as a constructor for our class since it allow us to construct objects.\n",
    "\n",
    "Notice when we define the `__init__` method we give it an argument `self`, i.e.,\n",
    "```python\n",
    "def __init__(self):\n",
    "```\n",
    "But when we make the `HelloWorld object` we use the assignment statement,\n",
    "```python\n",
    "obj1 = HelloWorld()\n",
    "```\n",
    "When this happens the arguments actually passed to the `__init__` method are `obj1, arg1, arg2, ...` where arg1, arg2, ... are any additional arguments in parentheses.  Since there are none the only argument passed to `__init__` is `obj1` so when obj1 is constructed `self` holds the data in `obj1` which is the pointer to `obj1`. "
   ]
  },
  {
   "cell_type": "markdown",
   "metadata": {},
   "source": [
    "# Building another class blueprint"
   ]
  },
  {
   "cell_type": "code",
   "execution_count": null,
   "metadata": {},
   "outputs": [],
   "source": [
    "class MakeName(object):\n",
    "    \"\"\" A class to construct objects with names \"\"\"\n",
    "    # class data types here\n",
    "    \n",
    "    def __init__(self, name):  # class initializer method called when object created\n",
    "        \"\"\" \n",
    "        constructor for MakeName\n",
    "            args:\n",
    "                name, string for name of object \n",
    "        \"\"\"\n",
    "        self.name = name   # this allows other methods to get an objects name as well\n",
    "        \n",
    "    def hello(self): \n",
    "        \"\"\"\n",
    "        A method to print a greeting using objects name, i.e., self.name\n",
    "        \"\"\"\n",
    "        print (f\"Hi, I am {self.name}\")\n",
    "        \n",
    "    def get_name(self):\n",
    "        \"\"\"\n",
    "        Returns self.name to the caller\n",
    "        \"\"\"\n",
    "        return self.name"
   ]
  },
  {
   "cell_type": "markdown",
   "metadata": {},
   "source": [
    "Notice the new elements added to the class `MakeName`.\n",
    "\n",
    "The `__init__` method has a second argment name.  This means when we construct a `MakeName` object we will have to pass it a parameter for name.  \n",
    "\n",
    "Furthermore, `__init__` defines a variable called `self.name = name`.  This is called a data attribute of the `MakeName` class.  When we construct a `MakeName object` this data attribute will be defined for that object.\n",
    "\n",
    "Notice wh have added two additional methods for our class called `hello` and `get_name` notice both of these methods also have the argument `self`.  The method `hello` simply prints out a welcome message and the variable `self.name`.  The get_name object returns the value of self.name to the caller of the method.\n",
    "\n",
    "We can now construct a `MakeName objects` and use some of the methods."
   ]
  },
  {
   "cell_type": "code",
   "execution_count": 16,
   "metadata": {},
   "outputs": [
    {
     "name": "stdout",
     "output_type": "stream",
     "text": [
      "Hi, I am Marvin\n",
      "Marvin\n",
      "Marvin <class 'str'>\n"
     ]
    }
   ],
   "source": [
    "person_one = MakeName(\"Marvin\") # make an object with name Marvin\n",
    "person_one.hello()\n",
    "ones_name = person_one.get_name()\n",
    "print(ones_name)\n",
    "print(person_one.name, type(person_one.name))"
   ]
  },
  {
   "cell_type": "code",
   "execution_count": null,
   "metadata": {},
   "outputs": [],
   "source": [
    "person_one.name = \"Bill\"\n",
    "#professor example on how to change the person_one"
   ]
  },
  {
   "cell_type": "code",
   "execution_count": 13,
   "metadata": {},
   "outputs": [
    {
     "name": "stdout",
     "output_type": "stream",
     "text": [
      "Help on MakeName in module __main__ object:\n",
      "\n",
      "class MakeName(builtins.object)\n",
      " |  MakeName(name)\n",
      " |\n",
      " |  A class to construct objects with names\n",
      " |\n",
      " |  Methods defined here:\n",
      " |\n",
      " |  __init__(self, name)\n",
      " |      constructor for MakeName\n",
      " |          args:\n",
      " |              name, string for name of object\n",
      " |\n",
      " |  get_name(self)\n",
      " |      Returns self.name to the caller\n",
      " |\n",
      " |  hello(self)\n",
      " |      A method to print a greeting using objects name, i.e., self.name\n",
      " |\n",
      " |  ----------------------------------------------------------------------\n",
      " |  Data descriptors defined here:\n",
      " |\n",
      " |  __dict__\n",
      " |      dictionary for instance variables\n",
      " |\n",
      " |  __weakref__\n",
      " |      list of weak references to the object\n",
      "\n"
     ]
    }
   ],
   "source": [
    "# Lets learn more about our object pointed to by person_one\n",
    "help(person_one)"
   ]
  },
  {
   "cell_type": "markdown",
   "metadata": {},
   "source": [
    "Notice, the `help(obj)` function tells us about the methods in obj by printing out the docstrings we made.  Another way to learn more about an obj is with the dir(obj) function.  "
   ]
  },
  {
   "cell_type": "code",
   "execution_count": 14,
   "metadata": {},
   "outputs": [
    {
     "data": {
      "text/plain": [
       "['__class__',\n",
       " '__delattr__',\n",
       " '__dict__',\n",
       " '__dir__',\n",
       " '__doc__',\n",
       " '__eq__',\n",
       " '__firstlineno__',\n",
       " '__format__',\n",
       " '__ge__',\n",
       " '__getattribute__',\n",
       " '__getstate__',\n",
       " '__gt__',\n",
       " '__hash__',\n",
       " '__init__',\n",
       " '__init_subclass__',\n",
       " '__le__',\n",
       " '__lt__',\n",
       " '__module__',\n",
       " '__ne__',\n",
       " '__new__',\n",
       " '__reduce__',\n",
       " '__reduce_ex__',\n",
       " '__repr__',\n",
       " '__setattr__',\n",
       " '__sizeof__',\n",
       " '__static_attributes__',\n",
       " '__str__',\n",
       " '__subclasshook__',\n",
       " '__weakref__',\n",
       " 'get_name',\n",
       " 'hello',\n",
       " 'name']"
      ]
     },
     "execution_count": 14,
     "metadata": {},
     "output_type": "execute_result"
    }
   ],
   "source": [
    "# and learn some more\n",
    "dir(person_one)"
   ]
  },
  {
   "cell_type": "markdown",
   "metadata": {},
   "source": [
    "Notice we start with a bunch of special methods including `__init__` but also a bunch of others special methods provided by the `object` class.  At the end are some of our defined methods, `get_name` and `hello` and our data attribute variable `name`.\n",
    "\n",
    "We will learn more about special methods later, but for the fun of it lets try one of the special methods now. "
   ]
  },
  {
   "cell_type": "code",
   "execution_count": 17,
   "metadata": {},
   "outputs": [
    {
     "data": {
      "text/plain": [
       "16"
      ]
     },
     "execution_count": 17,
     "metadata": {},
     "output_type": "execute_result"
    }
   ],
   "source": [
    "person_one.__sizeof__()"
   ]
  },
  {
   "cell_type": "markdown",
   "metadata": {},
   "source": [
    "Now lets construct some more objects."
   ]
  },
  {
   "cell_type": "code",
   "execution_count": null,
   "metadata": {},
   "outputs": [],
   "source": [
    "person_two = MakeName(\"Rover\")\n",
    "person_three = MakeName(\"Spot\")\n",
    "person_two.hello()\n",
    "person_three.hello()"
   ]
  },
  {
   "cell_type": "markdown",
   "metadata": {},
   "source": [
    "Remember the data attribute self.name well this means we can access this attribute directly from the object.  Lets look at an example."
   ]
  },
  {
   "cell_type": "code",
   "execution_count": null,
   "metadata": {},
   "outputs": [],
   "source": [
    "print(person_two.name)\n",
    "person_two.name = \"Rodger Rover\"\n",
    "person_two.hello()"
   ]
  },
  {
   "cell_type": "markdown",
   "metadata": {},
   "source": [
    "We changed the name of person_two to Rodger Rover by refering to `person_two.name`."
   ]
  },
  {
   "cell_type": "markdown",
   "metadata": {},
   "source": [
    "# Supply and Demand Example\n",
    "\n",
    "In this project we will build a class that will allow us to instantiate supply and demand environments.  Later on we will add additional functionality to our supply and demand class.   "
   ]
  },
  {
   "cell_type": "code",
   "execution_count": 107,
   "metadata": {},
   "outputs": [],
   "source": [
    "import operator      \n",
    "class SupplyDemand(object):\n",
    "    \"\"\" A class for Supply and Demand Curves\"\"\"\n",
    "    \n",
    "    def __init__(self, name):\n",
    "        \"\"\"Initializes spot market environment\"\"\"\n",
    "        self.name = name  # string name of environment \n",
    "        self.env ={\"demand\":[], \"supply\":[], \"buyers\":{}, \"sellers\":{}}\n",
    "        self.eq = {} # competitive equilibrium calculations\n",
    "                     # ['surplus'], ['low_price'], ['high_price'], ['units']\n",
    "        \n",
    "    def show(self):\n",
    "        \"\"\"shows name of market and number of buyers and sellers\"\"\"\n",
    "        print (f\"I am market {self.name} with {len(self.env['buyers'])} buyers and\"+\n",
    "               f\" {len(self.env['sellers'])} sellers.\")\n",
    "        print(\"\")\n",
    "    \n",
    "    def show_participants(self):\n",
    "        \"\"\"Show buyer values and seller costs by id\"\"\"\n",
    "        print (\"Market Participants\")\n",
    "        print (\"-------------------\")\n",
    "        print (\"BUYERS\")\n",
    "        print (\"------\")\n",
    "        for buyer in range(len(self.env['buyers'])):\n",
    "            buyer_id = \"buyer\"+str(buyer)\n",
    "            values = self.env[\"buyers\"][buyer_id]\n",
    "            print (f\"buyer {buyer_id} has values {values}\")\n",
    "        print (\"SELLERS\")\n",
    "        print (\"-------\")\n",
    "        for seller in range(len(self.env['sellers'])):\n",
    "            seller_id = \"seller\"+str(seller)\n",
    "            costs = self.env[\"sellers\"][seller_id]\n",
    "            print (f\"seller {seller_id} has costs {costs}\")\n",
    "        print (\"\")\n",
    "        \n",
    "    def add_buyer(self, buyer_number, values):\n",
    "        \"\"\"Add a buyer to the market\n",
    "            buyer_number: used to get unique id = 'buyer'+str(buyer_number)\n",
    "            values: list of reservation prioces for buyer \n",
    "        \"\"\"\n",
    "        buyer_id = \"buyer\"+str(buyer_number)\n",
    "        self.env[\"buyers\"][buyer_id] = values\n",
    "        \n",
    "    def add_seller(self, seller_number, costs):\n",
    "        \"\"\"Add a seller to the market\n",
    "            seller_number: used to get unique id = 'seller'+str(seller_number)\n",
    "            costs: list of unit costs for seller \n",
    "        \"\"\"\n",
    "        seller_id = \"seller\"+str(seller_number)\n",
    "        self.env[\"sellers\"][seller_id] = costs\n",
    "        \n",
    "    def get_buyer_values(self, buyer_number):\n",
    "        \"\"\"Returns list of reservation prices for 'buyer'+str(buyer_number)\"\"\"\n",
    "        buyer_id = \"buyer\"+str(buyer_number)\n",
    "        values = self.env[\"buyers\"][buyer_id]\n",
    "        return values\n",
    "        \n",
    "    def get_seller_costs(self, seller_number):\n",
    "        \"\"\"Returns list of unit costs for 'seller'+str(seller_number)\"\"\"\n",
    "        seller_id = \"seller\"+str(seller_number)\n",
    "        costs = self.env[\"sellers\"][seller_id]\n",
    "        return costs\n",
    "        \n",
    "    def make_demand(self):\n",
    "        \"\"\"Makes demand list, all reservation vlaues sorted from highest to lowest\n",
    "              each element is a unit step tupple = (buyer_id, value)\n",
    "        \"\"\"\n",
    "        dem = []\n",
    "        for buyer in range(len(self.env['buyers'])):\n",
    "            buyer_id = \"buyer\"+str(buyer)\n",
    "            for value in self.env[\"buyers\"][buyer_id]:\n",
    "                dem.append((buyer_id, value))\n",
    "        sdem = sorted(dem, key=operator.itemgetter(1), reverse = True)\n",
    "        self.env[\"demand\"] = sdem\n",
    "        return sdem\n",
    "        \n",
    "    def get_demand(self):\n",
    "        demand = self.make_demand()\n",
    "        return demand\n",
    "    \n",
    "    def make_supply(self):\n",
    "        \"\"\"Makes supply list, all unit costs sorted from lowest to highest\n",
    "              each element is a unit step tupple = (seller_id, unit_cost)\n",
    "        \"\"\"\n",
    "        sup = []\n",
    "        for seller in range(len(self.env['sellers'])):\n",
    "            seller_id = \"seller\"+str(seller)\n",
    "            for cost in self.env[\"sellers\"][seller_id]:\n",
    "                sup.append((seller_id, cost))\n",
    "        ssup = sorted(sup, key=operator.itemgetter(1))\n",
    "        self.env[\"supply\"] = ssup\n",
    "        return ssup\n",
    "        \n",
    "    def get_supply(self):\n",
    "        supply = self.make_supply()\n",
    "        return supply\n",
    "    \n",
    "    \n",
    "    def list_supply_demand(self):\n",
    "        dem = self.make_demand()\n",
    "        sup = self.make_supply()\n",
    "        len_dem = len(dem)\n",
    "        len_sup = len(sup)\n",
    "\n",
    "        # make supply and demand equal length\n",
    "        len_dem = len(dem)\n",
    "        len_sup = len(sup)\n",
    "        over_value = dem[0][1] + 1\n",
    "        if len_dem < len_sup:\n",
    "            for k in range(len_sup -len_dem):\n",
    "                dem.append(('None', 0))\n",
    "        else:\n",
    "            for k in range(len_dem - len_sup):\n",
    "                sup.append(('None', over_value))\n",
    "        \n",
    "        print (\"Unit    ID     Cost | Value     ID\")\n",
    "        print (\"----------------------------------\")\n",
    "        first = True\n",
    "        for sup_step, dem_step in zip(sup, dem):\n",
    "            if sup_step[1] > dem_step[1] and first == True:\n",
    "                print (\"----------------------------------\")\n",
    "                first = False\n",
    "            print (f\"      {sup_step[0]:^3}    {sup_step[1]:^3}\", end = \"\")\n",
    "            print (f\"| {dem_step[1]:^3}    {dem_step[0]:^3}\")\n",
    "        print(\"\")\n",
    "        \n",
    "    def calc_equilibrium(self):\n",
    "        dem = self.make_demand()\n",
    "        sup = self.make_supply()\n",
    "        max_surplus = 0\n",
    "        eq_units = 0\n",
    "        \n",
    "        # make supply and demand equal length\n",
    "        len_dem = len(dem)\n",
    "        len_sup = len(sup)\n",
    "        over_value = dem[0][1] + 1\n",
    "        if len_dem < len_sup:\n",
    "            for k in range(len_sup -len_dem):\n",
    "                dem.append((None, 0))\n",
    "        else:\n",
    "            for k in range(len_dem - len_sup):\n",
    "                sup.append((None, over_value))\n",
    "\n",
    "        for buy_step, sell_step in zip(dem, sup):\n",
    "            buyer_id, value = buy_step\n",
    "            seller_id, cost = sell_step\n",
    "            if value >= cost:\n",
    "                eq_units += 1\n",
    "                max_surplus += value-cost\n",
    "                last_accepted_value = value\n",
    "                last_accepted_cost = cost\n",
    "            else:\n",
    "                first_rejected_value = value\n",
    "                first_rejected_cost = cost\n",
    "                break\n",
    "        \n",
    "        #  Now caluclate equilibrium price range\n",
    "        eq_price_high = min(last_accepted_value, first_rejected_cost)\n",
    "        eq_price_low = max(last_accepted_cost, first_rejected_value)\n",
    "        \n",
    "        self.eq['surplus'] = max_surplus\n",
    "        self.eq['units'] = eq_units\n",
    "        self.eq['price_low'] = eq_price_low\n",
    "        self.eq['price_high'] = eq_price_high\n",
    "        \n",
    "    def get_equilibrium(self):\n",
    "        return self.eq\n",
    "        \n",
    "    def show_equilibrium(self):\n",
    "        print (f\"Market: {self.name}\")\n",
    "        print (f\"   equilibrium price    = {self.eq['price_low']} - {self.eq['price_high']}\")\n",
    "        print (f\"   equilibrium quantity = {self.eq['units']}\")\n",
    "        print (f\"   maximum surplus      = {self.eq['surplus']}\")\n",
    "        print(\" \")"
   ]
  },
  {
   "cell_type": "code",
   "execution_count": 108,
   "metadata": {},
   "outputs": [
    {
     "name": "stdout",
     "output_type": "stream",
     "text": [
      "I am market Double Down with 0 buyers and 0 sellers.\n",
      "\n",
      "[('buyer0', 200), ('buyer1', 150), ('buyer1', 125), ('buyer0', 100), ('buyer1', 75), ('buyer0', 50)]\n",
      "Market Participants\n",
      "-------------------\n",
      "BUYERS\n",
      "------\n",
      "buyer buyer0 has values [200, 100, 50]\n",
      "buyer buyer1 has values [150, 125, 75]\n",
      "SELLERS\n",
      "-------\n",
      "seller seller0 has costs [50, 75, 125]\n",
      "seller seller1 has costs [25, 65, 100]\n",
      "seller seller2 has costs [60, 70, 150]\n",
      "\n",
      "Unit    ID     Cost | Value     ID\n",
      "----------------------------------\n",
      "      seller1    25 | 200    buyer0\n",
      "      seller0    50 | 150    buyer1\n",
      "      seller2    60 | 125    buyer1\n",
      "      seller1    65 | 100    buyer0\n",
      "      seller2    70 | 75     buyer1\n",
      "----------------------------------\n",
      "      seller0    75 | 50     buyer0\n",
      "      seller1    100|  0     None\n",
      "      seller0    125|  0     None\n",
      "      seller2    150|  0     None\n",
      "\n",
      "Market: Double Down\n",
      "   equilibrium price    = 70 - 75\n",
      "   equilibrium quantity = 5\n",
      "   maximum surplus      = 380\n",
      " \n"
     ]
    }
   ],
   "source": [
    "starter = SupplyDemand(\"Double Down\")\n",
    "starter.show()\n",
    "starter.add_buyer(0, [200, 100, 50])\n",
    "starter.add_buyer(1, [150, 125, 75])\n",
    "starter.add_seller(0, [50, 75, 125])\n",
    "starter.add_seller(1, [25, 65, 100])\n",
    "starter.add_seller(2, [60, 70, 150])\n",
    "print(starter.get_demand())\n",
    "starter.show_participants()\n",
    "starter.make_demand()\n",
    "starter.make_supply()\n",
    "starter.list_supply_demand()\n",
    "starter.calc_equilibrium()\n",
    "starter.show_equilibrium()"
   ]
  },
  {
   "cell_type": "code",
   "execution_count": 109,
   "metadata": {},
   "outputs": [
    {
     "name": "stdout",
     "output_type": "stream",
     "text": [
      "Market Participants\n",
      "-------------------\n",
      "BUYERS\n",
      "------\n",
      "buyer buyer0 has values [200, 100]\n",
      "buyer buyer1 has values [150, 125]\n",
      "SELLERS\n",
      "-------\n",
      "seller seller0 has costs [50, 75]\n",
      "seller seller1 has costs [25, 65]\n",
      "seller seller2 has costs [60, 70]\n",
      "\n",
      "Unit    ID     Cost | Value     ID\n",
      "----------------------------------\n",
      "      seller1    25 | 200    buyer0\n",
      "      seller0    50 | 150    buyer1\n",
      "      seller2    60 | 125    buyer1\n",
      "      seller1    65 | 100    buyer0\n",
      "----------------------------------\n",
      "      seller2    70 |  0     None\n",
      "      seller0    75 |  0     None\n",
      "\n",
      "Market: End Point\n",
      "   equilibrium price    = 65 - 70\n",
      "   equilibrium quantity = 4\n",
      "   maximum surplus      = 375\n",
      " \n"
     ]
    }
   ],
   "source": [
    "# example where this matters\n",
    "end_point = SupplyDemand(\"End Point\")\n",
    "end_point.add_buyer(0, [200, 100])\n",
    "end_point.add_buyer(1, [150, 125])\n",
    "end_point.add_seller(0, [50, 75])\n",
    "end_point.add_seller(1, [25, 65])\n",
    "end_point.add_seller(2, [60, 70])\n",
    "end_point.show_participants()\n",
    "end_point.make_demand()\n",
    "end_point.make_supply()\n",
    "end_point.list_supply_demand()\n",
    "end_point.calc_equilibrium()\n",
    "end_point.show_equilibrium()"
   ]
  }
 ],
 "metadata": {
  "kernelspec": {
   "display_name": "base",
   "language": "python",
   "name": "python3"
  },
  "language_info": {
   "codemirror_mode": {
    "name": "ipython",
    "version": 3
   },
   "file_extension": ".py",
   "mimetype": "text/x-python",
   "name": "python",
   "nbconvert_exporter": "python",
   "pygments_lexer": "ipython3",
   "version": "3.13.5"
  },
  "toc": {
   "base_numbering": 1,
   "nav_menu": {},
   "number_sections": true,
   "sideBar": true,
   "skip_h1_title": false,
   "title_cell": "Table of Contents",
   "title_sidebar": "Contents",
   "toc_cell": false,
   "toc_position": {
    "height": "calc(100% - 180px)",
    "left": "10px",
    "top": "150px",
    "width": "224px"
   },
   "toc_section_display": true,
   "toc_window_display": false
  }
 },
 "nbformat": 4,
 "nbformat_minor": 2
}
