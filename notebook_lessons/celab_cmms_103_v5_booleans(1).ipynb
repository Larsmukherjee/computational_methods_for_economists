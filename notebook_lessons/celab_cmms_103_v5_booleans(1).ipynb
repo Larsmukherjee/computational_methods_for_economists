{
 "cells": [
  {
   "cell_type": "markdown",
   "metadata": {
    "editable": true,
    "slideshow": {
     "slide_type": ""
    },
    "tags": []
   },
   "source": [
    "# Introduction\n",
    "\n",
    "In building an algorithm we may want to run a `CODE BLOCK` under one condition but not on other conditions.  To determine a condition we will use boolean data types and expressions.  \n",
    "> Boolean data can only take on two values `True` or `False`. \n",
    "> Boolean expression are made up of `boolean variables`, the `logical operators`, `not`, `and`, `or`, and the `comparison operators` like greater than or equal to or `>=`.  \n",
    "\n",
    "We can then use boolean variables to decide whether or not to run a `CODE BLOCK`."
   ]
  },
  {
   "cell_type": "markdown",
   "metadata": {},
   "source": [
    "# Boolean values and expressions\n",
    "\n",
    "A `BOOLEAN VALUE` is either `True` or `False` and is of type `bool`.  See the code cell below."
   ]
  },
  {
   "cell_type": "code",
   "execution_count": 1,
   "metadata": {},
   "outputs": [
    {
     "name": "stdout",
     "output_type": "stream",
     "text": [
      "True <class 'bool'>\n",
      "False <class 'bool'>\n"
     ]
    }
   ],
   "source": [
    "a = True\n",
    "b = False\n",
    "print(a, type(a))\n",
    "print(b, type(b))"
   ]
  },
  {
   "cell_type": "markdown",
   "metadata": {},
   "source": [
    "A `BOOLEAN EXPRESSION` is any legal collection of boolean and comparison operators and the value (variables, functions, ets.) they operate on, that evaluates to either True or False.  A list of comparison operators is as follows.\n",
    "\n",
    "```\n",
    "x == y   is True if x equals y\n",
    "x != y   is True if x does not equal y\n",
    "x > y    is True if x is greater than y\n",
    "x < y    is True if x is less than y\n",
    "x >= y   is True if x is greater than or equal to y\n",
    "x <= y   is True if x is less than or equal to y\n",
    "```\n",
    "\n",
    "The logical operators consist of\n",
    "\n",
    "```\n",
    "x and y  is True if both x and y are True\n",
    "x or y   is True if either x or y is True\n",
    "not x    is True if x is False\n",
    "```\n",
    "\n",
    "Lets try out a few boolean expressions using the logical operators in the code cells below."
   ]
  },
  {
   "cell_type": "code",
   "execution_count": 2,
   "metadata": {},
   "outputs": [
    {
     "name": "stdout",
     "output_type": "stream",
     "text": [
      "False\n",
      "True\n",
      "True\n"
     ]
    }
   ],
   "source": [
    "print(True and False)\n",
    "print(True or False)\n",
    "print(True and not False)"
   ]
  },
  {
   "cell_type": "markdown",
   "metadata": {},
   "source": [
    "# Truth Functionals"
   ]
  },
  {
   "cell_type": "markdown",
   "metadata": {},
   "source": [
    "A **truth functional** is a logical expression composed of logical operators and boolean variables.  In logic we often build a truth table for a truth functional.  Here is an example for a truth function with two boolean variables."
   ]
  },
  {
   "cell_type": "code",
   "execution_count": 3,
   "metadata": {},
   "outputs": [
    {
     "name": "stdout",
     "output_type": "stream",
     "text": [
      "F(a, b) = (a and b) or b\n",
      " a  b\n",
      "(T, T) -> True\n",
      "(T, F) -> False\n",
      "(F, T) -> True\n",
      "(F, F) -> False\n"
     ]
    }
   ],
   "source": [
    "# Truth table for the truth functional F(a, b ) = (a and b) or (b)\n",
    "print (f\"F(a, b) = (a and b) or b\")\n",
    "print (\" a  b\")\n",
    "print (f\"(T, T) -> {(True and True) or True}\")\n",
    "print (f\"(T, F) -> {(True and False) or False}\")\n",
    "print (f\"(F, T) -> {(False and True) or True}\")\n",
    "print (f\"(F, F) -> {(False and False) or False}\")"
   ]
  },
  {
   "cell_type": "markdown",
   "metadata": {},
   "source": [
    "We can also look at the comparison operators in the code cells below."
   ]
  },
  {
   "cell_type": "code",
   "execution_count": 4,
   "metadata": {},
   "outputs": [
    {
     "name": "stdout",
     "output_type": "stream",
     "text": [
      "False\n",
      "False\n",
      "True\n",
      "True\n",
      "True\n"
     ]
    }
   ],
   "source": [
    "print(1 > 2)\n",
    "print(1 == 2)\n",
    "print(1 < 2)\n",
    "print(1 <= 2)\n",
    "print(1 != 2)"
   ]
  },
  {
   "cell_type": "markdown",
   "metadata": {},
   "source": [
    "The first two conditional expressions return the boolean value `True`, while the last three return the boolean value `False`.  Notice, we use the double equals, `==`, when we want to ask if two values are equal to each other.  One source of error that is made alot is when a programmer used the assignment operator, `=`, when they wanted to use the comparison operator, `==`."
   ]
  },
  {
   "cell_type": "markdown",
   "metadata": {},
   "source": [
    "## Exercise\n",
    "\n",
    "In logic we say two truth functionals are ```equivalent``` if and only if they produce the same truth tables.  \n",
    "\n",
    "Insert a code cell below and build the truth table for the truth functional\n",
    "\n",
    "G(a, b) = (a and b) or (not a and b)\n",
    "\n",
    "Are the truth functionals F and G equivalent?\n"
   ]
  },
  {
   "cell_type": "code",
   "execution_count": 6,
   "metadata": {},
   "outputs": [
    {
     "name": "stdout",
     "output_type": "stream",
     "text": [
      "G(a, b) = (a and b) or (not a and b)\n",
      " a  b\n",
      "(T, T) -> True\n",
      "(T, F) -> False\n",
      "(F, T) -> True\n",
      "(F, F) -> False\n"
     ]
    }
   ],
   "source": [
    "# Truth table for the truth functional G(a,b)=(a and b) or (not a and b)\n",
    "print (f\"G(a, b) = (a and b) or (not a and b)\")\n",
    "print (\" a  b\")\n",
    "print (f\"(T, T) -> {(True and True) or (not True and False)}\")\n",
    "print (f\"(T, F) -> {(True and False) or (not True and False)}\")\n",
    "print (f\"(F, T) -> {(False and True) or (not False and True)}\")\n",
    "print (f\"(F, F) -> {(False and False) or (not False and False)}\")"
   ]
  },
  {
   "cell_type": "markdown",
   "metadata": {},
   "source": [
    "# Conditionals\n",
    "\n",
    "In programming, conditional execution allows you to decide what block of code to execute.  In Python we do this with the ```if statement```.\n",
    "\n",
    "The if statement has the following syntax.\n",
    "\n",
    "```\n",
    "if BOOLEAN EXPRESSION:\n",
    "    pass  # used if you don't have any statements yet \n",
    "    CODE BLOCK\n",
    "elif BOOLEAN EXPRESSION:\n",
    "    pass\n",
    "    CODE BLOCK\n",
    "else:\n",
    "    pass\n",
    "    CODE BLOCK\n",
    "```\n",
    "\n",
    "Notice the main features of the ```if statement```.  It contains a ```BOOLEAN EXPRESSION``` and ends with a colon ```:```.  The ```CODE BLOCK``` is a sequence of Python statements, each indented four spaces, to be executed only if the ```BOOLEAN EXPRESSION``` is ```True```. There must be a statement in the ```CODE BLOCK```.  A filler statement is ```pass``` which does nothing.  \n",
    "\n",
    "The ```if statement``` may be followed by an ```elif``` statement which will execute a different ```CODE BLOCK``` if its ```BOOLEAN EXPRESSION``` is ```True```.  Note, the ```elif statement``` is optional.  You only use it if you need it.  You may use as many ```elif statements``` as are needed.\n",
    "\n",
    "The ```if statement``` may also be followed by an ```else statement``` which will execute a different ```CODE BLOCK``` if the ```BOOLEAN EXPRESSION```s in the ```if statement``` or ```elif statement(s)``` all evaluate to ```False```.  The ```else statement``` is optional but if you use it it must be the last statement in the ```if and/or elif statement(s)``` sequence.\n",
    "\n",
    "In summary in an `if-elif-else` block structure only one block of code will be executed.  A block without a `else` statement may result in no blocks being executed."
   ]
  },
  {
   "cell_type": "markdown",
   "metadata": {},
   "source": [
    "For example we can use the conditional to evaluate a piecewise linear equation.  Try the example out below.\n",
    "\n",
    "> Note conditionals can be nested as the following example shows."
   ]
  },
  {
   "cell_type": "code",
   "execution_count": 10,
   "metadata": {},
   "outputs": [
    {
     "name": "stdout",
     "output_type": "stream",
     "text": [
      "f(8) = 46\n"
     ]
    }
   ],
   "source": [
    "x = eval(input(\"Enter a number from 1 to 9.  Your choice - \"))\n",
    "\n",
    "if x >= 1 and x <= 9:\n",
    "    if x <= 3:\n",
    "        y = 2 + x * 2\n",
    "    elif x <= 6:\n",
    "        y = 10 + x * 2\n",
    "    else:\n",
    "        y = 30 + x * 2\n",
    "    print(f\"f({x}) = {y}\")\n",
    "else:\n",
    "    print (\"You did not enter a number between 1 and 9\")"
   ]
  },
  {
   "cell_type": "markdown",
   "metadata": {},
   "source": [
    "What just happened?\n",
    "\n",
    "* **Lines 1** gets user input.  The `eval` function works like the `float` conversion function but would accept any arithmetic expression.\n",
    "* **Line 3** starts the **outer conditional** by checking to see if the input is between 1 and 9.  If it is it executes the **inner conditional**.\n",
    "* **Lines 4-9** form the inner conditional block.  Note the further indentation of code following the if-elif-else statements which are used to compute the value of the function.\n",
    "* **Line 10** is also inside the code block of the outer **if statement** and is run after the innner conditional executes to print the value of the function computed at x.\n",
    "* **Line 11 and 12** are part of the outer conditonal and run if the user did not pick a number between 1 and 9.  "
   ]
  },
  {
   "cell_type": "markdown",
   "metadata": {},
   "source": [
    "# Handling Exceptions\n",
    "\n",
    "Exceptions are error conditons that arise during the execuiton of your program.  \n",
    "\n",
    "Run the following function, and see how it breaks.\n",
    "\n"
   ]
  },
  {
   "cell_type": "code",
   "execution_count": 11,
   "metadata": {},
   "outputs": [
    {
     "ename": "ZeroDivisionError",
     "evalue": "division by zero",
     "output_type": "error",
     "traceback": [
      "\u001b[0;31m---------------------------------------------------------------------------\u001b[0m",
      "\u001b[0;31mZeroDivisionError\u001b[0m                         Traceback (most recent call last)",
      "Cell \u001b[0;32mIn[11], line 5\u001b[0m\n\u001b[1;32m      2\u001b[0m     y \u001b[38;5;241m=\u001b[39m x\u001b[38;5;241m/\u001b[39m\u001b[38;5;241m0\u001b[39m\n\u001b[1;32m      3\u001b[0m     \u001b[38;5;28;01mreturn\u001b[39;00m y\n\u001b[0;32m----> 5\u001b[0m divide_by_zero(\u001b[38;5;241m5\u001b[39m)\n",
      "Cell \u001b[0;32mIn[11], line 2\u001b[0m, in \u001b[0;36mdivide_by_zero\u001b[0;34m(x)\u001b[0m\n\u001b[1;32m      1\u001b[0m \u001b[38;5;28;01mdef\u001b[39;00m\u001b[38;5;250m \u001b[39m\u001b[38;5;21mdivide_by_zero\u001b[39m(x):\n\u001b[0;32m----> 2\u001b[0m     y \u001b[38;5;241m=\u001b[39m x\u001b[38;5;241m/\u001b[39m\u001b[38;5;241m0\u001b[39m\n\u001b[1;32m      3\u001b[0m     \u001b[38;5;28;01mreturn\u001b[39;00m y\n",
      "\u001b[0;31mZeroDivisionError\u001b[0m: division by zero"
     ]
    }
   ],
   "source": [
    "def divide_by_zero(x):\n",
    "    y = x/0\n",
    "    return y\n",
    "\n",
    "divide_by_zero(5)"
   ]
  },
  {
   "cell_type": "markdown",
   "metadata": {},
   "source": [
    "Here we passed the function aptly named `divide_by_zero` the number 5, and had it attempt to return $y = \\frac{5}{0}$.\n",
    "For obvious reasons, we received an error message: \"`ZeroDivisionError: division by zero`\".\n",
    "Here the exception we receive from trying to divide by zero is `ZeroDivisionError`.\n",
    "Armed with this we can now handle the exception using a `try-except` block.\n"
   ]
  },
  {
   "cell_type": "markdown",
   "metadata": {},
   "source": [
    "## try-except blocks\n",
    "\n",
    "```Python\n",
    "try:\n",
    "    CODE BLOCK\n",
    "except `exception`:\n",
    "    # code raises an exception do this\n",
    "    CODE BLOCK\n",
    "else: # Note this is optional \n",
    "    # no exceptions run this code\n",
    "    CODE BLOCK\n",
    "finally: # Note this is also optional\n",
    "    # always do this\n",
    "    CODE BLOCK\n",
    "```\n",
    "\n",
    "A `try` statement will try to execute a block of code, and return any exceptions without immediately breaking the code.\n",
    "The code will still break if the `try` statement is not combined with an `except` statement.\n",
    "\n",
    "The `except` statement is what tells the code how to handle an exception.\n",
    "For this example, we're going to tell the code what to do when we receive the `ZeroDivisionError` exception."
   ]
  },
  {
   "cell_type": "code",
   "execution_count": 12,
   "metadata": {},
   "outputs": [
    {
     "name": "stdout",
     "output_type": "stream",
     "text": [
      "You can't divide a number by zero!!!\n"
     ]
    }
   ],
   "source": [
    "def divide_by_zero(x):\n",
    "    try:\n",
    "        y = x/0\n",
    "        return y\n",
    "    except ZeroDivisionError:\n",
    "        print(\"You can't divide a number by zero!!!\")\n",
    "\n",
    "divide_by_zero(5)"
   ]
  },
  {
   "cell_type": "markdown",
   "metadata": {},
   "source": [
    "With the line\n",
    "```python\n",
    "    except ZeroDivisionError:\n",
    "```\n",
    "in place, we can now \"safely\" divide by zero.\n",
    "The code doesn't break, but instead gives the user a gentle reminder: \"`You can't divide a number by zero!!!`\"\n",
    "Placing `ZeroDivisionError` after `except`, flags the illegal operation, and executes the nested block of code.\n",
    "If we had simply stated `except` without the `ZeroDivisionError` flag, it would have executed with any exception that was raised, which would not have been helpful.\n",
    "It may be good to handle an error that you are expecting, but an unexpected error should be fatal and break your code.\n",
    "That way you are forced to look at what exactly went wrong.\n",
    "\n",
    "Now, there are a number of exceptions that you will come across in your work.\n",
    "Some rather \"popular\" ones are\n",
    "- `IndexError`\n",
    "- `ValueError`\n",
    "- `KeyError`\n",
    "- `TypeError`\n",
    "- `EoFError`\n",
    "but there are many more.\n",
    "For a complete list, check [here](https://docs.python.org/3.6/library/exceptions.html).\n",
    "However, one particularly useful error is the `AssertionError` which is raised by the assert statement explained below.  "
   ]
  },
  {
   "cell_type": "markdown",
   "metadata": {},
   "source": [
    "## Assertions\n",
    "\n",
    "We can cause an error to happen on purpose by using the `assert` statement.  The `assert` statement allows us to make a claim about a boolean expression.  If the expression is `True` the statement does nothing, but if the expression is `False` the `assert` statement raises an `exception`, stops execution of the code, and prints an error message.  The general form of the `assert statement` is, \n",
    "\n",
    "```python\n",
    "assert boolean_expression, \"Error Message\"\n",
    "```\n",
    "\n",
    "Lets do this now in the simple function below.\n"
   ]
  },
  {
   "cell_type": "code",
   "execution_count": 15,
   "metadata": {},
   "outputs": [
    {
     "name": "stdout",
     "output_type": "stream",
     "text": [
      "Got here\n"
     ]
    },
    {
     "ename": "AssertionError",
     "evalue": "a must be positive",
     "output_type": "error",
     "traceback": [
      "\u001b[0;31m---------------------------------------------------------------------------\u001b[0m",
      "\u001b[0;31mAssertionError\u001b[0m                            Traceback (most recent call last)",
      "Cell \u001b[0;32mIn[15], line 6\u001b[0m\n\u001b[1;32m      3\u001b[0m     \u001b[38;5;28mprint\u001b[39m(\u001b[38;5;124m\"\u001b[39m\u001b[38;5;124mGot here\u001b[39m\u001b[38;5;124m\"\u001b[39m)\n\u001b[1;32m      5\u001b[0m sample_assert(\u001b[38;5;241m1\u001b[39m)\n\u001b[0;32m----> 6\u001b[0m sample_assert(\u001b[38;5;241m-\u001b[39m\u001b[38;5;241m1\u001b[39m)\n",
      "Cell \u001b[0;32mIn[15], line 2\u001b[0m, in \u001b[0;36msample_assert\u001b[0;34m(a)\u001b[0m\n\u001b[1;32m      1\u001b[0m \u001b[38;5;28;01mdef\u001b[39;00m\u001b[38;5;250m \u001b[39m\u001b[38;5;21msample_assert\u001b[39m(a):\n\u001b[0;32m----> 2\u001b[0m     \u001b[38;5;28;01massert\u001b[39;00m a \u001b[38;5;241m>\u001b[39m \u001b[38;5;241m0\u001b[39m, \u001b[38;5;124m\"\u001b[39m\u001b[38;5;124ma must be positive\u001b[39m\u001b[38;5;124m\"\u001b[39m\n\u001b[1;32m      3\u001b[0m     \u001b[38;5;28mprint\u001b[39m(\u001b[38;5;124m\"\u001b[39m\u001b[38;5;124mGot here\u001b[39m\u001b[38;5;124m\"\u001b[39m)\n",
      "\u001b[0;31mAssertionError\u001b[0m: a must be positive"
     ]
    }
   ],
   "source": [
    "def sample_assert(a):\n",
    "    assert a > 0, \"a must be positive\"\n",
    "    print(\"Got here\")\n",
    "\n",
    "sample_assert(1)\n",
    "sample_assert(-1)"
   ]
  },
  {
   "cell_type": "markdown",
   "metadata": {},
   "source": [
    "## Exercise:  using assert in program development\n",
    "\n",
    "The **budget constraint** for two goods can be written as \n",
    "\n",
    "$p_1x_1 + p_2x_2 \\le m$\n",
    "\n",
    "where, \n",
    "\n",
    "$p_i \\ge 0$ is the price of good i,\n",
    "\n",
    "$x_i \\ge 0$ is the quantity of good i, and \n",
    "\n",
    "$m \\ge 0$ is money.\n",
    "\n",
    "We have started a function below to test if the consumption bundle $(x_1, x_2)$\n",
    "satisfies the budget constraint.  It has a ToDo statement but before we complete it lets set up some test code."
   ]
  },
  {
   "cell_type": "code",
   "execution_count": 16,
   "metadata": {},
   "outputs": [],
   "source": [
    "def budget_satisfied(p1, p2, m, x1, x2):\n",
    "    \"\"\"returns True if p1*x1 + p2*x2 <= m \n",
    "       otherwise, False\n",
    "       \n",
    "       rasies an exception if any argument is negative\"\"\"\n",
    "    \n",
    "    assert p1 >= 0, \"Price of good one must be >= 0\"\n",
    "    assert p2 >= 0, \"Price of good two must be >= 0\"\n",
    "    assert m >= 0,  \"Money must be >= 0\"\n",
    "    assert x1 >= 0, \"Quantity of good one must be >= 0\"\n",
    "    assert x2 >= 0, \"Quantity of good one must be >= 0\"\n",
    "    \n",
    "    #TODO Insert your code here\n",
    "    return p1*x1 + p2*x2 <= m"
   ]
  },
  {
   "cell_type": "code",
   "execution_count": 23,
   "metadata": {},
   "outputs": [
    {
     "name": "stdout",
     "output_type": "stream",
     "text": [
      "All tests passed!\n"
     ]
    }
   ],
   "source": [
    "# Test functions for your code\n",
    "\n",
    "def test_budget_satisfied():\n",
    "    assert budget_satisfied(1, 2, 10, 3, 1) == True\n",
    "    assert budget_satisfied(1, 2, 10, 3, 4) == False, \"Spending too much\" \n",
    "    try:\n",
    "        budget_satisfied(1, 2, 10, 3, -1)\n",
    "        assert False, \"Expected AssertionError for negative quantity\"\n",
    "    except AssertionError:\n",
    "        pass\n",
    "test_budget_satisfied()\n",
    "print(\"All tests passed!\")"
   ]
  },
  {
   "cell_type": "markdown",
   "metadata": {},
   "source": [
    "What just happened?\n",
    "\n",
    "The assert statement allows us to make a claim about a boolean expression. If the expression is True the statement does nothing, but if the expression is False the assert statement raises an exception, stops execution of the code, and prints an error message. The general form of the assert statement is,\n",
    "\n",
    "assert boolean_expression, \"Error Message\"\n",
    "\n",
    "Your job is to write the function so it completes all the test cases without failing."
   ]
  },
  {
   "cell_type": "markdown",
   "metadata": {},
   "source": [
    "## Checking Input\n",
    "\n",
    "One of the most common source of errors in programs is user input.  In fact programmers have a saying for the type of error `Garbage-In Garbage-Out` or GIGO.  You should always check user input to make sure it is what you expect.  Run the function below and try different inputs to see what happens."
   ]
  },
  {
   "cell_type": "code",
   "execution_count": 25,
   "metadata": {},
   "outputs": [
    {
     "name": "stdout",
     "output_type": "stream",
     "text": [
      "-9 is not a positive integer\n",
      "9\n"
     ]
    }
   ],
   "source": [
    "def integer_input():\n",
    "    \"\"\"Returns positive integer from keyboard\"\"\"\n",
    "    \n",
    "    while(True):\n",
    "        try:\n",
    "            user_input = input(\"Input a positive integer: \")\n",
    "            user_integer = int(user_input)\n",
    "            if user_integer > 0:\n",
    "                return user_integer\n",
    "            else:\n",
    "                print (f\"{user_input} is not a positive integer\")\n",
    "        except ValueError:\n",
    "            print(f\"{user_input} is not a positive integer\")\n",
    "            \n",
    "    return user_integer\n",
    "             \n",
    "x = integer_input()\n",
    "print(x)"
   ]
  },
  {
   "cell_type": "markdown",
   "metadata": {},
   "source": [
    "#  While loops\n",
    "\n",
    "A `while` statement is used to head a CODE BLOCK and together they form a `while loop`. \n",
    "\n",
    "A `while` loop keeps executing its `CODE BLOCK` in the loop as long as some `BOOLEAN CONDITION` evaluates to `True` and stops executing the `CODE BLOCK` when the `BOOLEAN EXPRESSIONS` evaluates to `False`. "
   ]
  },
  {
   "cell_type": "markdown",
   "metadata": {},
   "source": [
    "```\n",
    "while BOOLEAN CONDITION:\n",
    "    CODE BLOCK \n",
    "    if BOOLEAN CONDITION continue    # start next iteration\n",
    "    CODE BLOCK\n",
    "    if BOOLEAN CONDITION break       # break out of the loop\n",
    "    CODE BLOCK\n",
    "```\n",
    "**Notes:**\n",
    "* The while loop will continue looping as long as the 'BOOLEAN CONDITION' is `True`\n",
    "* Again notice the colon, `:`, ending the while statement, and the indent of four spaces.\n",
    "* `continue`, goes back to the top of the loop and starts the next iteration.\n",
    "* `break`, stops iterating and goes to the next statement after the loop"
   ]
  },
  {
   "cell_type": "markdown",
   "metadata": {},
   "source": [
    "# Project Gradient Ascent Algorithm"
   ]
  },
  {
   "cell_type": "markdown",
   "metadata": {},
   "source": [
    "The gradient ascent algorithm is quite simple.  Given a function q = f(r) take the derivative of f to get f'(r) and guess at a starting point $r^0$.  Now use the following algorithm,\n",
    "\n",
    "1.  set t = 1.\n",
    "2.  set $r^t$ = $r^{t-1} + \\lambda f'(r^{t-1})$\n",
    "3.  if $|r^t - r^{t-1}| \\le \\epsilon$, then \n",
    "    * $\\hat r = r^t$, and $\\hat q = f(\\hat r)$,\n",
    "    * and end\n",
    "4.  set t = t + 1 and go to 2.\n",
    "\n",
    "In the code cell below finish writing the gradient_ascent function to find the profit maximum for the profit_function given.  You should experiment with lambda and epsilon to see how it changes your answer.  "
   ]
  },
  {
   "cell_type": "code",
   "execution_count": 27,
   "metadata": {},
   "outputs": [
    {
     "name": "stdout",
     "output_type": "stream",
     "text": [
      "output = 50.049989375923666, profit = 2499.997501062295\n",
      "2500 0\n"
     ]
    }
   ],
   "source": [
    "def profit(output):\n",
    "    \"\"\"Calculate profit\n",
    "    \n",
    "    Args:\n",
    "        output > 0, how much output will be produced\n",
    "    \n",
    "    Returns:\n",
    "        profit, Revenue(output) - Cost(output)\n",
    "    \"\"\"\n",
    "    return (100*output - output**2)\n",
    "\n",
    "def dprofit(output):\n",
    "    \"\"\"Derivative of profit at output\"\"\"\n",
    "    return (100 - 2*output)\n",
    "\n",
    "def gradient_ascent(guess, f, df):\n",
    "    epsilon = 1e-6\n",
    "    lambda_step = 1e-4\n",
    "    x_old = guess\n",
    "    x_new = x_old + lambda_step*df(x_old)\n",
    "    diff = f(x_new) - f(x_old)\n",
    "    while (diff > epsilon):\n",
    "        x_old = x_new\n",
    "        x_new = x_old + lambda_step*df(x_old)\n",
    "        diff = f(x_new) - f(x_old)\n",
    "    return x_new\n",
    "\n",
    "output = gradient_ascent(60, profit, dprofit)\n",
    "print (f\"output = {output}, profit = {profit(output)}\")\n",
    "print (profit(50), dprofit(50))"
   ]
  }
 ],
 "metadata": {
  "kernelspec": {
   "display_name": "base",
   "language": "python",
   "name": "python3"
  },
  "language_info": {
   "codemirror_mode": {
    "name": "ipython",
    "version": 3
   },
   "file_extension": ".py",
   "mimetype": "text/x-python",
   "name": "python",
   "nbconvert_exporter": "python",
   "pygments_lexer": "ipython3",
   "version": "3.13.5"
  },
  "toc": {
   "base_numbering": 1,
   "nav_menu": {},
   "number_sections": true,
   "sideBar": true,
   "skip_h1_title": false,
   "title_cell": "Table of Contents",
   "title_sidebar": "Contents",
   "toc_cell": false,
   "toc_position": {
    "height": "calc(100% - 180px)",
    "left": "10px",
    "top": "150px",
    "width": "224px"
   },
   "toc_section_display": true,
   "toc_window_display": true
  }
 },
 "nbformat": 4,
 "nbformat_minor": 4
}
