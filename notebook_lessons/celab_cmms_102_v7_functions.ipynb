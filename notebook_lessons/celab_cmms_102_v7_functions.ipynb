{
 "cells": [
  {
   "cell_type": "markdown",
   "metadata": {},
   "source": [
    "# Functions\n",
    "\n",
    "Functions are the core **abstraction tool** used in procedural programming.  When we `call` a function we give in `arguments` which will be processed inside the function and the result is then `returned` to the statement that made the call.  The code that processes the argument are hidden from view in the function and are expected to work as documented in the `doc string`.  \n",
    "\n",
    "In writing **clean code** functions are designed to do one thing well.  This concept is called **separation of concerns**. Designing functions in your programming is also called **modular programming** and the functions once written are often grouped together into a larger **category of concerns** in Python `modules`.\n",
    "\n",
    ">**Note:** Modular programming allows the programmer to use both **top-down design**, i.e., from the high level calling of functions to the nature of specific functions, and **bottom-up design**, building functions that address specific concerns and then deciding how to call them to get something done.    "
   ]
  },
  {
   "cell_type": "markdown",
   "metadata": {},
   "source": [
    "Below is an example of a function.  Run the cell below, it records the name of the function, `expenditure`, and checks to see that the statements making up the function are syntactically correct, but it does not yet do anything. You have to call the function to run it.    "
   ]
  },
  {
   "cell_type": "code",
   "execution_count": 1,
   "metadata": {},
   "outputs": [],
   "source": [
    "def expenditure(p_1, p_2, q_1, q_2):\n",
    "    \"\"\" Calculates amount_spent = p_1*q_1 + p_2*q_2\n",
    "    \n",
    "    args: p_1, float, price of good 1\n",
    "          p_2, float, price of good 2\n",
    "          q_1, int, quantity of good 1\n",
    "          q_2, int, quantity of good 2\n",
    "          \n",
    "    returns: amount_spent, float\n",
    "    \n",
    "    \"\"\"\n",
    "\n",
    "    amount_spent = p_1*q_1 + p_2*q_2\n",
    "\n",
    "    return amount_spent"
   ]
  },
  {
   "cell_type": "markdown",
   "metadata": {},
   "source": [
    "Once a function is defined it can be called with values for the arguments it expects.  It will then run the code in the function and return a result if a return statement is used."
   ]
  },
  {
   "cell_type": "code",
   "execution_count": 2,
   "metadata": {},
   "outputs": [
    {
     "data": {
      "text/plain": [
       "7.5"
      ]
     },
     "execution_count": 2,
     "metadata": {},
     "output_type": "execute_result"
    }
   ],
   "source": [
    "expenditure(0.5, 1.25, 10, 2)"
   ]
  },
  {
   "cell_type": "markdown",
   "metadata": {},
   "source": [
    "## Syntax of a function\n",
    "\n",
    "We will now look line by line at our example expenditure function.\n",
    "\n",
    "> **LIne 1:** Functions begin with the 'def' keyword followed by a function name, a list of arguments in parentheses, and a colon.  Note, function names follow the same rule as variable names.  They should be meaningful, lower case, with words separated by an underscore `_`.<br><br>The list of arguments is a comma seperated list of variable names in parentheses, i.e., `p_1, p_2, q_1, q_2` are called the arguments of the function.  Arguments are the means of passing data to the function when the function is called.  \n",
    "\n",
    "Notice that lines 2-16 are indented four spaces.  We will refer to all the Python statements at the same level of indentation as a **CODE BLOCK**.  This is the way Python knows which statements following the `def` statement belong to the function.\n",
    " \n",
    ">**Lines 2-12:** make up the **doc-string** for the function.  This allows us to tell someone who wants to use our function what it does.  Notice doc-strings always starts with `\"\"\"` folowed by a short description of the function.  The `doc_string` ends with another `\"\"\"` on a separate line.  Python uses doc-strings to document a function when the help() function is called.  This is shown below.<br><br> Notice, after the short description we have a description of the arguments the function expects and a description of the return value of the function.\n",
    "\n",
    "After the doc-string the rest of the code in the CODE BLOCK is performed.\n",
    ">**Line 14:** actually calculates amount_spent from the argument, and, <br><br> **Line 16:** returns a pointer to the value amount_spent.\n"
   ]
  },
  {
   "cell_type": "markdown",
   "metadata": {},
   "source": [
    "When we use a function the variables in the function are called **local variables**.  They only exist inside the function and disappear when we exit the function.  They cannot be accessed outside the function.  To see this try the following example."
   ]
  },
  {
   "cell_type": "code",
   "execution_count": 3,
   "metadata": {},
   "outputs": [
    {
     "name": "stdout",
     "output_type": "stream",
     "text": [
      "Starting balance = 50\n",
      "Starting balance = 42.5\n"
     ]
    },
    {
     "ename": "NameError",
     "evalue": "name 'amount_spent' is not defined",
     "output_type": "error",
     "traceback": [
      "\u001b[0;31m---------------------------------------------------------------------------\u001b[0m",
      "\u001b[0;31mNameError\u001b[0m                                 Traceback (most recent call last)",
      "Cell \u001b[0;32mIn[3], line 5\u001b[0m\n\u001b[1;32m      3\u001b[0m balance \u001b[38;5;241m=\u001b[39m balance \u001b[38;5;241m-\u001b[39m expenditure(\u001b[38;5;241m0.5\u001b[39m, \u001b[38;5;241m1.25\u001b[39m, \u001b[38;5;241m10\u001b[39m, \u001b[38;5;241m2\u001b[39m)\n\u001b[1;32m      4\u001b[0m \u001b[38;5;28mprint\u001b[39m(\u001b[38;5;124mf\u001b[39m\u001b[38;5;124m\"\u001b[39m\u001b[38;5;124mStarting balance = \u001b[39m\u001b[38;5;132;01m{\u001b[39;00mbalance\u001b[38;5;132;01m}\u001b[39;00m\u001b[38;5;124m\"\u001b[39m)\n\u001b[0;32m----> 5\u001b[0m \u001b[38;5;28mprint\u001b[39m(\u001b[38;5;124mf\u001b[39m\u001b[38;5;124m\"\u001b[39m\u001b[38;5;124mYou spent = \u001b[39m\u001b[38;5;132;01m{\u001b[39;00mamount_spent\u001b[38;5;132;01m}\u001b[39;00m\u001b[38;5;124m dollars.\u001b[39m\u001b[38;5;124m\"\u001b[39m)\n",
      "\u001b[0;31mNameError\u001b[0m: name 'amount_spent' is not defined"
     ]
    }
   ],
   "source": [
    "balance = 50\n",
    "print(f\"Starting balance = {balance}\")\n",
    "balance = balance - expenditure(0.5, 1.25, 10, 2)\n",
    "print(f\"Starting balance = {balance}\")\n",
    "print(f\"You spent = {amount_spent} dollars.\")"
   ]
  },
  {
   "cell_type": "markdown",
   "metadata": {},
   "source": [
    "What you get is a `NameError` which we will explain in more detail later in this lesson.  To see how doc-strings are used run the help function in the cell below."
   ]
  },
  {
   "cell_type": "code",
   "execution_count": 4,
   "metadata": {},
   "outputs": [
    {
     "name": "stdout",
     "output_type": "stream",
     "text": [
      "Help on function expenditure in module __main__:\n",
      "\n",
      "expenditure(p_1, p_2, q_1, q_2)\n",
      "    Calculates amount_spent = p_1*q_1 + p_2*q_2\n",
      "\n",
      "    args: p_1, float, price of good 1\n",
      "          p_2, float, price of good 2\n",
      "          q_1, int, quantity of good 1\n",
      "          q_2, int, quantity of good 2\n",
      "\n",
      "    returns: amount_spent, float\n",
      "\n"
     ]
    }
   ],
   "source": [
    "help(expenditure)"
   ]
  },
  {
   "cell_type": "markdown",
   "metadata": {},
   "source": [
    "# Why use docstrings?\n",
    "\n",
    "As already mentioned **doc strings** help document how a function should be used.  It tells the user what the function does, what arguments it accepts, and what result it will return.  You can use the `help()` function to print out a functions docstring as shown in the example below.  The more thought you put into your docstrings the more useful they will be to someone else.\n",
    "\n",
    "> Beginning programmers often say, or think, <br><br>\"but I'm only programming for myself and documentation takes time and effort that I would rather spend on programming\".<br><br>  Don't be fooled by this thought.  **You will be that someone else in one day!**"
   ]
  },
  {
   "cell_type": "markdown",
   "metadata": {},
   "source": [
    "# Quadratic Equations As Functions"
   ]
  },
  {
   "cell_type": "code",
   "execution_count": 5,
   "metadata": {},
   "outputs": [],
   "source": [
    "def solve_quadratic(a, b, c):\n",
    "    \"\"\"\n",
    "    Given the quadratic equation y = a*x**2 + b*x + c,\n",
    "    return the values of x, root_1 and root_2, that\n",
    "    evaluate the quadratic to y = 0.\n",
    "    \n",
    "    Args:\n",
    "        a: float, coefficient a*x**2.\n",
    "        b: float, coefficient b*x.\n",
    "        c: float, coefficeint a.\n",
    "\n",
    "    \"\"\"\n",
    "    \n",
    "    fixed_numerator = (b**2.0 - 4.0 * a * c)**0.5\n",
    "    fixed_denominator = 2.0*a\n",
    "    root_1 = (-b + fixed_numerator)/fixed_denominator\n",
    "    root_2 = (-b - fixed_numerator)/fixed_denominator\n",
    "    \n",
    "    return root_1, root_2\n"
   ]
  },
  {
   "cell_type": "code",
   "execution_count": 6,
   "metadata": {},
   "outputs": [
    {
     "data": {
      "text/plain": [
       "(1.0, -4.0)"
      ]
     },
     "execution_count": 6,
     "metadata": {},
     "output_type": "execute_result"
    }
   ],
   "source": [
    "# Calling the function\n",
    "solve_quadratic(1.0, 3.0, -4.0)"
   ]
  },
  {
   "cell_type": "markdown",
   "metadata": {},
   "source": [
    "We can also write a function that will return y given x."
   ]
  },
  {
   "cell_type": "code",
   "execution_count": 8,
   "metadata": {},
   "outputs": [
    {
     "name": "stdout",
     "output_type": "stream",
     "text": [
      "At x = 1.0, 1.0x^2 +3.0x + -4.0 = 0.0\n",
      "At x = -4.0, 1.0x^2 +3.0x + -4.0 = 0.0\n"
     ]
    }
   ],
   "source": [
    "def evaluate_quadratic(a, b, c, x):\n",
    "    \n",
    "    \"\"\"Given the quadratic equation y = a*x**2 + b*x + c,\n",
    "       and a value for x, return the vlaue y\n",
    "    \"\"\"\n",
    "    \n",
    "    y = a*x**2.0 + b*x + c\n",
    "    \n",
    "    return y\n",
    "\n",
    "# This is our test case.  You should get 0.0 as a result\n",
    "a = 1.0\n",
    "b = 3.0\n",
    "c = -4.0\n",
    "root_1, root_2 = solve_quadratic(a, b, c)\n",
    "value_1 = evaluate_quadratic(a, b, c, root_1)\n",
    "value_2 = evaluate_quadratic(a, b, c, root_2)\n",
    "print(f\"At x = {root_1}, {a}x^2 +{b}x + {c} = {value_1}\")\n",
    "print(f\"At x = {root_2}, {a}x^2 +{b}x + {c} = {value_2}\")"
   ]
  },
  {
   "cell_type": "markdown",
   "metadata": {},
   "source": [
    "Now lets add a function to input the quadratic coefficients."
   ]
  },
  {
   "cell_type": "code",
   "execution_count": 10,
   "metadata": {},
   "outputs": [
    {
     "name": "stdout",
     "output_type": "stream",
     "text": [
      "Please enter coefficients for quadratic equation\n",
      " given by ax^2 + bx + c\n",
      "\n",
      "\n",
      "You entered the equation y = 3.0x^2 +4.0x + 2.0\n"
     ]
    }
   ],
   "source": [
    "def input_quadratic_coefficients():\n",
    "    \n",
    "    \"\"\"Returns user input for the values of a, b, c \n",
    "    to the quadratic equation ax^2 + bx + c\n",
    "    \"\"\"\n",
    "    \n",
    "    print(\"Please enter coefficients for quadratic equation\")\n",
    "    print(\" given by ax^2 + bx + c\")\n",
    "    print()\n",
    "    a = float(input(\"Please enter a: \"))\n",
    "    b = float(input(\"Please enter b: \"))\n",
    "    c = float(input(\"Please enter c: \"))\n",
    "    \n",
    "    return a, b, c\n",
    "\n",
    "# Test code\n",
    "a, b, c = input_quadratic_coefficients()\n",
    "\n",
    "print()\n",
    "print(f\"You entered the equation y = {a}x^2 +{b}x + {c}\")"
   ]
  },
  {
   "cell_type": "markdown",
   "metadata": {},
   "source": [
    "Now we can write some code to use our three functions.  Going back to our exercise in 101 we can evaluate a = 3.0, b = 4.0, c = 2.0"
   ]
  },
  {
   "cell_type": "code",
   "execution_count": 11,
   "metadata": {},
   "outputs": [
    {
     "name": "stdout",
     "output_type": "stream",
     "text": [
      "Please enter coefficients for quadratic equation\n",
      " given by ax^2 + bx + c\n",
      "\n",
      "\n",
      "You entered the equation y = 3.0x^2 +4.0x + 2.0\n",
      "the roots of this equation are (-0.6666666666666666+0.47140452079103173j) and (-0.6666666666666666-0.47140452079103173j)\n",
      "\n",
      "Now we can check to make sure this is correct.\n",
      "3.0x^2 +4.0x + 2.0 = 0j at x = (-0.6666666666666666+0.47140452079103173j)\n",
      "3.0x^2 +4.0x + 2.0 = 0j at x = (-0.6666666666666666-0.47140452079103173j)\n"
     ]
    }
   ],
   "source": [
    "a, b, c = input_quadratic_coefficients()\n",
    "print()\n",
    "print(f\"You entered the equation y = {a}x^2 +{b}x + {c}\")\n",
    "root_1, root_2 = solve_quadratic(a, b, c)\n",
    "print(f\"the roots of this equation are {root_1} and {root_2}\")\n",
    "value_1 = evaluate_quadratic(a, b, c, root_1)\n",
    "value_2 = evaluate_quadratic(a, b, c, root_2)\n",
    "print()\n",
    "print(\"Now we can check to make sure this is correct.\")\n",
    "print(f\"{a}x^2 +{b}x + {c} = {value_1} at x = {root_1}\")\n",
    "print(f\"{a}x^2 +{b}x + {c} = {value_2} at x = {root_2}\")"
   ]
  },
  {
   "cell_type": "markdown",
   "metadata": {},
   "source": [
    "# Namespaces and Scope"
   ]
  },
  {
   "cell_type": "code",
   "execution_count": 24,
   "metadata": {},
   "outputs": [
    {
     "name": "stdout",
     "output_type": "stream",
     "text": [
      "Help on function solve_quadratic in module __main__:\n",
      "\n",
      "solve_quadratic(a, b, c)\n",
      "    Given the quadratic equation y = a*x**2 + b*x + c,\n",
      "    return the values of x, root_1 and root_2, that\n",
      "    evaluate the quadratic to y = 0.\n",
      "    \n",
      "    Args:\n",
      "        a: float, coefficient a*x**2.\n",
      "        b: float, coefficient b*x.\n",
      "        c: float, coefficeint a.\n",
      "\n"
     ]
    }
   ],
   "source": [
    "help(solve_quadratic)"
   ]
  },
  {
   "cell_type": "markdown",
   "metadata": {},
   "source": [
    "A very important source of documentation for the Python language itself are called the [Python Enhamcement Proposals](https://www.python.org/dev/peps/).  Over time we will look at a number of these proposals. To get started \n",
    "\n",
    "1. [pep-1](https://www.python.org/dev/peps/pep-0001/) provides an introduction to peps and their management. \n",
    "2. [pep-8](https://www.python.org/dev/peps/pep-0008/) is the complete (more or less) guide to programming style in Python.\n",
    "3. [pep-20](https://www.python.org/dev/peps/pep-0020/) is a short poem on Python style and now has an easter egg when you run `import this` in Python.\n",
    "4. [pep-257](https://www.python.org/dev/peps/pep-0257/) covers doc-string conventions which you should take a quick look at now."
   ]
  },
  {
   "cell_type": "code",
   "execution_count": 12,
   "metadata": {},
   "outputs": [
    {
     "name": "stdout",
     "output_type": "stream",
     "text": [
      "The Zen of Python, by Tim Peters\n",
      "\n",
      "Beautiful is better than ugly.\n",
      "Explicit is better than implicit.\n",
      "Simple is better than complex.\n",
      "Complex is better than complicated.\n",
      "Flat is better than nested.\n",
      "Sparse is better than dense.\n",
      "Readability counts.\n",
      "Special cases aren't special enough to break the rules.\n",
      "Although practicality beats purity.\n",
      "Errors should never pass silently.\n",
      "Unless explicitly silenced.\n",
      "In the face of ambiguity, refuse the temptation to guess.\n",
      "There should be one-- and preferably only one --obvious way to do it.\n",
      "Although that way may not be obvious at first unless you're Dutch.\n",
      "Now is better than never.\n",
      "Although never is often better than *right* now.\n",
      "If the implementation is hard to explain, it's a bad idea.\n",
      "If the implementation is easy to explain, it may be a good idea.\n",
      "Namespaces are one honking great idea -- let's do more of those!\n"
     ]
    }
   ],
   "source": [
    "import this"
   ]
  },
  {
   "cell_type": "markdown",
   "metadata": {},
   "source": [
    "# Python Modules"
   ]
  },
  {
   "cell_type": "markdown",
   "metadata": {},
   "source": [
    "Now that we have written some functions to work with quadratic equations we would like to save them as a Python file so we can use them at a later date.  "
   ]
  },
  {
   "cell_type": "markdown",
   "metadata": {},
   "source": [
    "## Building a Module\n",
    "We can save the functions above into a file which we will call quadratic.py.  We can do this in our notebook in the cell below.  If you notice I added the cell magic command, `%%writefile \"quadratic.py\"`\n",
    ".  When the cell is executed the cell magic command  `%%writefile` will write the contents of the cell as a python file called `quadratic.py`.  "
   ]
  },
  {
   "cell_type": "code",
   "execution_count": 14,
   "metadata": {},
   "outputs": [
    {
     "name": "stdout",
     "output_type": "stream",
     "text": [
      "Writing quadratic.py\n"
     ]
    }
   ],
   "source": [
    "%%writefile \"quadratic.py\"\n",
    "\n",
    "def run():\n",
    "    \"\"\"Allows you to input coefficents to a quadratic equation,  \n",
    "       solve for the roots of the quadratic eqaution, and\n",
    "       evaluate the quadratic equation at its calculated roots.\n",
    "    \"\"\"\n",
    "    a, b, c = input_coefficients()\n",
    "    print()\n",
    "    print(f\"You entered the equation y = {a}x^2 +{b}x + {c}\")\n",
    "    root_1, root_2 = find_roots(a, b, c)\n",
    "    print(f\"the roots of this equation are {root_1} and {root_2}\")\n",
    "    value_1 = evaluate(a, b, c, root_2)\n",
    "    value_2 = evaluate(a, b, c, root_1)\n",
    "    print()\n",
    "    print(\"Now we can check to make sure this is correct.\")\n",
    "    print(f\"{a}x^2 +{b}x + {c} = {value_1} at x = {root_1}\")\n",
    "    print(f\"{a}x^2 +{b}x + {c} = {value_2} at x = {root_2}\")\n",
    "\n",
    "\n",
    "def find_roots(a, b, c):\n",
    "    \n",
    "    \"\"\"Given the quadratic a*x**2 + b*x + c, return the values\n",
    "       of x that evaluate the quadratic to 0.\"\"\"\n",
    "    \n",
    "    fixed_numerator = (b**2.0 - 4.0 * a * c)**0.5\n",
    "    fixed_denominator = 2.0*a\n",
    "    root_1 = (-b + fixed_numerator)/fixed_denominator\n",
    "    root_2 = (-b - fixed_numerator)/fixed_denominator\n",
    "    return root_1, root_2\n",
    "\n",
    "def evaluate(a, b, c, x):\n",
    "    \n",
    "    \"\"\"Given the quadratic equation y = a*x**2 + b*x + c at x,\n",
    "       evaluate the equation at x and return y.\"\"\"\n",
    "    \n",
    "    y = a*x**2.0 + b*x + c\n",
    "    \n",
    "    return y\n",
    "\n",
    "def input_coefficients():\n",
    "    \n",
    "    \"\"\"Returns usere input for a, b, c to \n",
    "    determine a quadratic equation y = ax^2 + bx + c\n",
    "    \"\"\"\n",
    "    \n",
    "    print(\"Please enter coefficients for quadratic equation\")\n",
    "    print(\" given by ax^2 + bx + c\")\n",
    "    print()\n",
    "    a = float(input(\"Please enter a: \"))\n",
    "    b = float(input(\"Please enter b: \"))\n",
    "    c = float(input(\"Please enter c: \"))\n",
    "    \n",
    "    return a, b, c\n"
   ]
  },
  {
   "cell_type": "markdown",
   "metadata": {},
   "source": [
    "## Using a Module"
   ]
  },
  {
   "cell_type": "markdown",
   "metadata": {},
   "source": [
    "We can now use the `import` statement to import our equations back into our notebook and use them in our code. Once we import a module we can use the builtin `help` function to learn more about the module. This is where the `doc strings` are used.  "
   ]
  },
  {
   "cell_type": "code",
   "execution_count": 15,
   "metadata": {},
   "outputs": [
    {
     "name": "stdout",
     "output_type": "stream",
     "text": [
      "Help on module quadratic:\n",
      "\n",
      "NAME\n",
      "    quadratic\n",
      "\n",
      "FUNCTIONS\n",
      "    evaluate(a, b, c, x)\n",
      "        Given the quadratic equation y = a*x**2 + b*x + c at x,\n",
      "        evaluate the equation at x and return y.\n",
      "\n",
      "    find_roots(a, b, c)\n",
      "        Given the quadratic a*x**2 + b*x + c, return the values\n",
      "        of x that evaluate the quadratic to 0.\n",
      "\n",
      "    input_coefficients()\n",
      "        Returns usere input for a, b, c to\n",
      "        determine a quadratic equation y = ax^2 + bx + c\n",
      "\n",
      "    run()\n",
      "        Allows you to input coefficents to a quadratic equation,\n",
      "        solve for the roots of the quadratic eqaution, and\n",
      "        evaluate the quadratic equation at its calculated roots.\n",
      "\n",
      "FILE\n",
      "    /Users/larsmukherjee/Desktop/Fall 25/Econ 895/Repositories/computational_methods_for_economists/notebook_lessons/quadratic.py\n",
      "\n",
      "\n"
     ]
    }
   ],
   "source": [
    "import quadratic\n",
    "help(quadratic)"
   ]
  },
  {
   "cell_type": "markdown",
   "metadata": {},
   "source": [
    "# Economics Review"
   ]
  },
  {
   "cell_type": "markdown",
   "metadata": {},
   "source": [
    "## Mathematical Review\n",
    "\n",
    "In mathematics, a **function** is a binary relation between two sets that associates to each element of the first set exactly one element of the second set.  The words map, mapping, transformation, correspondence, and operator are all synonymous with the word function.  Let X and Y be sets, then f: X $\\to$ Y as a function, if and only if, for all x $\\in$ X, f(x) $\\in$ Y. We call X the **domain** of f and Y the **codomain** of f.\n",
    "\n",
    ">**Note:** A function is uniquely represented by the set of all pairs $G=(x, f (x))$, called the **graph of the function**. When the domain and the codomain are sets of real numbers, each such pair may be thought of as the Cartesian coordinates of a point in the plane.  A popular means of illustrating a function is by showing its graph. \n",
    "\n",
    "Often a function is defined by an equation, i.e., $f:X \\to Y$ defined by $f(x) = x^2$ results in the pairs $(x, x^2) \\in X \\mathsf X Y$.  "
   ]
  },
  {
   "cell_type": "markdown",
   "metadata": {},
   "source": [
    "## Utility Functions\n",
    "\n",
    "A utility function represents a preference relation on tuples representing quantities of different goods.  For example, if we have two goods, food and water, where $x_f$ is the quantity of food consumed and $x_w$ is the quantity of water consumed then the **consumption bundle** is $c = (x_f, x_w) \\in \\mathbb R_+^2$. If given a choice between two consumption bundles c and c' a consumer chooses c' over c we say c' is **revealed preferred** to c.  Alternatively we can define a utility function for our consumer as $u: \\mathbb R_+^2 \\to \\mathbb R_+$ such that $u(c') > u(c)$, if and only if, our consumer **prefers** c' to c.   \n",
    "\n",
    ">**Note:** Utility function are not observed and yet economists assume that people act to `maximize utility`.  This is also known as `goal directed behavior` in the behavioral ecology literature.  Furthermore by assuming that utility functions have certain properties economists try to recover a persons the utility function underlying observed choices. "
   ]
  },
  {
   "cell_type": "markdown",
   "metadata": {},
   "source": [
    "### Example Utility Equation\n",
    "Imagine a world with three goods.  The quantities of these goods are represented by the real valued 3-tuple, $x = (x_1, x_2, x_3) \\in {\\mathbb R_+^3}$, where $\\mathbb R_+$ denotes the non negative real numbers.  \n",
    "\n",
    ">Utility\n",
    ">1. $u:$ $\\mathbb R_+^3 \\to \\mathbb R_+$.\n",
    ">2. is defined by the equation $u(x) = x_1^px_2^qx_3^{1-p-q}$. \n",
    "\n",
    "\n",
    "In the code cell below write this expression for utility and evaluate it for different values of the symbols $p$, $q$ and $x_1$, $x_2, x_3$. "
   ]
  },
  {
   "cell_type": "code",
   "execution_count": 25,
   "metadata": {},
   "outputs": [
    {
     "name": "stdout",
     "output_type": "stream",
     "text": [
      "U(30, 30, 10) = 19.33182044931763\n"
     ]
    }
   ],
   "source": [
    "def utility_function(x_1, x_2, x_3, p, q):\n",
    "    \"\"\" \n",
    "        Compute the utility where u(x) = x_1^p * x_2^q * x_3^(1-p-q)\n",
    "\n",
    "        args:\n",
    "        x_1: float\n",
    "        x_2: float\n",
    "        x_3: float\n",
    "        p: float, must be 0< x_1 <1\n",
    "        q: float, must be 0< x_1 <1\n",
    "        \n",
    "        returns utility \n",
    "        \n",
    "        \"\"\"\n",
    "# Code for example above\n",
    "p = .2\n",
    "q = .4\n",
    "x_1 = 30\n",
    "x_2 = 30\n",
    "x_3 = 10\n",
    "\n",
    "utility = x_1**p * x_2**q * x_3**(1-p-q)\n",
    "result = f\"U({x_1}, {x_2}, {x_3}) = {utility}\"\n",
    "print(result)"
   ]
  },
  {
   "cell_type": "markdown",
   "metadata": {},
   "source": [
    "## Revenue and Cost Functions\n",
    "Here is a more complicated example of the use of expressions.  Imagine a company produces an item using a 3D printing process.  The output, $y$, of the process are sold to consumers at a price $p$.  Note $y$ is a quantity expressing the number of output units produced. The company's revenue is then given by the equation $r(y) = py$.  \n",
    "\n",
    "To produce units of $y$ the company must pay a fixed cost for the algorithm, denoted $c_a$, that allows the printer to make a unit and the cost of the printer itself, denoted $c_d$.  In addition each unit of $y$ has an additional variable cost which depends on the amounts of different inputs used in the process. We will let $w$ be the hourly wage rate paid to the operator of the machine, $e$ the cost per kilowatt of energy to run the machine, and $r$ the cost of a foot of filament (a raw material). We can now write the cost of producing output $y$ as with the following equation \n",
    "> $c(L, E, R, e, r) = (c_a + c_d) + (wL + eE + rR)$ where $L$ is the labor hours needed to run the machine to produce y units, $E$ is the energy used, and $R$ is the filament used. \n",
    "\n",
    "If the prices (w, e, r) are fixed we assume the firm tries to minimize the cost of producing y by choosing a combination (L, E, R) that produce y at minimal cost $c(L, E, R, e, r) = (c_a + c_d) + (wL + eE + rR)$.  We can denote this minimal cost C(y).\n",
    "\n",
    "We can now define the profit function of the company as \n",
    "\n",
    "> $\\pi (y) = r(y) - C(y)$. "
   ]
  },
  {
   "cell_type": "code",
   "execution_count": 26,
   "metadata": {},
   "outputs": [
    {
     "name": "stdout",
     "output_type": "stream",
     "text": [
      "For 500 units produced, profit = 25000 - 14200.339887498949 = 10799.660112501051\n"
     ]
    }
   ],
   "source": [
    "# profit equation for example above\n",
    "\n",
    "p = 50\n",
    "y = 500\n",
    "revenue = p*y\n",
    "\n",
    "c_a = 20\n",
    "c_d = 3000\n",
    "cost = c_a + c_d + y**1.5\n",
    "\n",
    "profit = revenue-cost\n",
    "\n",
    "result = f\"For {y} units produced, profit = {revenue} - {cost} = {profit}\"\n",
    "print(result)"
   ]
  },
  {
   "cell_type": "markdown",
   "metadata": {},
   "source": [
    ">**Note;** Maximum profit is at the point, y*,  where $\\pi'(y^*) = r'(y^*) - C'(y^*) = 0$.  Rewriting this equation we get $r'(y^*) = C'(y^*)$.  We note that $r'(y) = p$ and $c'(y) = 1.5y^{1/2}$. \n",
    "\n",
    "### Exercise\n",
    "Solve for the profit maximizing y* in the code cell below."
   ]
  },
  {
   "cell_type": "code",
   "execution_count": 27,
   "metadata": {},
   "outputs": [
    {
     "name": "stdout",
     "output_type": "stream",
     "text": [
      "For 1111 units produced, profit = 55550 - 40051.48162037269 = 15498.518379627312\n"
     ]
    }
   ],
   "source": [
    "# p = 1.5y**0.5\n",
    "# p**2 = (1.5**2)y\n",
    "y_optimal = int(p**2/(1.5**2))\n",
    "\n",
    "revenue = p*y_optimal\n",
    "cost = c_a + c_d + y_optimal**1.5\n",
    "profit = revenue-cost\n",
    "\n",
    "result = f\"For {y_optimal} units produced, profit = {revenue} - {cost} = {profit}\"\n",
    "print(result)"
   ]
  },
  {
   "cell_type": "markdown",
   "metadata": {},
   "source": [
    "Are you sure y = 1111 is optimal?  Maybe we didn't take the derivative correctly, or maybe you didn't solve for y_optimal correctly, or maybe we found a minimum since we didn't check the second order condition for a maximum.  Lets do a little sensitivity analysis to check.  To do this try setting y to one unit below the optimum and one unit above the optimum to show that these numbers produce lower profits. "
   ]
  },
  {
   "cell_type": "code",
   "execution_count": 28,
   "metadata": {},
   "outputs": [
    {
     "name": "stdout",
     "output_type": "stream",
     "text": [
      "For 1110 units produced, profit = 55500 - 40001.495372686055 = 15498.504627313945\n",
      "For 1112 units produced, profit = 55600 - 40101.49036918554 = 15498.509630814457\n"
     ]
    }
   ],
   "source": [
    "y = 1110\n",
    "revenue = p*y\n",
    "cost = c_a + c_d + y**1.5\n",
    "profit = revenue-cost\n",
    "\n",
    "result = f\"For {y} units produced, profit = {revenue} - {cost} = {profit}\"\n",
    "print(result)\n",
    "\n",
    "y = 1112\n",
    "revenue = p*y\n",
    "cost = c_a + c_d + y**1.5\n",
    "profit = revenue-cost\n",
    "\n",
    "result = f\"For {y} units produced, profit = {revenue} - {cost} = {profit}\"\n",
    "print(result)\n"
   ]
  },
  {
   "cell_type": "markdown",
   "metadata": {},
   "source": [
    "# Economic Functions in Python"
   ]
  },
  {
   "cell_type": "markdown",
   "metadata": {},
   "source": [
    "## Utility Functions Revisited\n",
    "In **section 6.2** we present the concept of a utility function.  Now that we know how to define and use functions lets build the Cobb-Douglas utility function in Python.\n",
    ">Utility\n",
    ">1. $u:$ $\\mathbb R_+^2 \\to \\mathbb R_+$.\n",
    ">2. is defined by the equation $u(x) = x_1^q x_2^{1-q}$,<br> where 0 < q <1. \n",
    "\n",
    "In the code cell below we have started writing the Cobb-Douglass utility function.  Your job is to complete the function.  Notice we have added a comment called `#TODO` which indicates what needs to be done. "
   ]
  },
  {
   "cell_type": "code",
   "execution_count": 30,
   "metadata": {},
   "outputs": [],
   "source": [
    "def cobb_douglass_u(q, x_1, x_2):\n",
    "    \"\"\"Calculates utility = x_1**q * x_2**(1-q)\n",
    "    \n",
    "        args: \n",
    "        \n",
    "        q, float, coeeficient between 0 and 1\n",
    "        x_1, int, quantity of good 1\n",
    "        x_2, int, quantity of good 2\n",
    "          \n",
    "    returns: utility, float\n",
    "    \n",
    "    \"\"\"\n",
    "    #TODO - calculate utility and return it \n",
    "    cobb_douglass_u = x_1**q * x_2**(1-q)\n",
    "    \n",
    "    return cobb_douglass_u"
   ]
  },
  {
   "cell_type": "markdown",
   "metadata": {},
   "source": [
    "Once you are done run the test code below.  "
   ]
  },
  {
   "cell_type": "code",
   "execution_count": 31,
   "metadata": {},
   "outputs": [
    {
     "data": {
      "text/plain": [
       "5.0"
      ]
     },
     "execution_count": 31,
     "metadata": {},
     "output_type": "execute_result"
    }
   ],
   "source": [
    "# This should return 5.0 when you have finished the #TODO above.\n",
    "\n",
    "cobb_douglass_u(.25, 5, 5)"
   ]
  },
  {
   "cell_type": "code",
   "execution_count": null,
   "metadata": {},
   "outputs": [],
   "source": []
  }
 ],
 "metadata": {
  "kernelspec": {
   "display_name": "base",
   "language": "python",
   "name": "python3"
  },
  "language_info": {
   "codemirror_mode": {
    "name": "ipython",
    "version": 3
   },
   "file_extension": ".py",
   "mimetype": "text/x-python",
   "name": "python",
   "nbconvert_exporter": "python",
   "pygments_lexer": "ipython3",
   "version": "3.13.5"
  },
  "toc": {
   "base_numbering": 1,
   "nav_menu": {},
   "number_sections": true,
   "sideBar": true,
   "skip_h1_title": false,
   "title_cell": "Table of Contents",
   "title_sidebar": "Contents",
   "toc_cell": false,
   "toc_position": {
    "height": "calc(100% - 180px)",
    "left": "10px",
    "top": "150px",
    "width": "196px"
   },
   "toc_section_display": true,
   "toc_window_display": true
  }
 },
 "nbformat": 4,
 "nbformat_minor": 4
}
