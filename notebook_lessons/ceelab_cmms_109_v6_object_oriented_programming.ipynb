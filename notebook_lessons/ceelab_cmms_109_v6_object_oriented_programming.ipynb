{
 "cells": [
  {
   "cell_type": "markdown",
   "metadata": {},
   "source": [
    "# Introduction to Object-Oriented Programming\n",
    "\n",
    "You have already started using functions to hide code.  This is one approach to programming sometimes called modular or procedural programming.  A second approach is called object-oriented programming.  An object is a set of data, called **attributes**, together with a set of functions, called **methods**, that manipulate the data.  Objects are constructed from a class which acts as a blueprint.  As it turns out everything in Python is an object."
   ]
  },
  {
   "cell_type": "markdown",
   "metadata": {},
   "source": [
    "# Building a class\n",
    "\n",
    "To build a class blueprint we use the `class` keyword."
   ]
  },
  {
   "cell_type": "code",
   "execution_count": 11,
   "metadata": {},
   "outputs": [],
   "source": [
    "class ReservationValues:\n",
    "    \"\"\" Holds a list of reservation values for a single buyer.\n",
    "        attributes: self.reservation_values\n",
    "    \"\"\"\n",
    "    \n",
    "    def __init__(self, reservation_values):\n",
    "        self.reservation_values = reservation_values\n",
    "        # reservation values are sorted to enforce the diminishing marginal values rule\n",
    "        self.reservation_values.sort(reverse=True)\n",
    "    \n",
    "    def check_values(self):\n",
    "        \"\"\" Checks to see if reservation values are integers\n",
    "           and non_negative.\n",
    "        \"\"\"\n",
    "        for value in reservation_values:\n",
    "            if type(value) != int: return False\n",
    "            if value < 0: return False\n",
    "        return True\n",
    "         "
   ]
  },
  {
   "cell_type": "markdown",
   "metadata": {},
   "source": [
    "Things to notice about classes:\n",
    "> Functions defined inside a class are called `methods`.\n",
    "\n",
    "In our example, we have two methods called `__init__`, and `check_values`.  \n",
    "\n",
    ">By PEP-8 convention class names are written in CamelCase, i.e., the first letter of each new word is capitalized, while method names, like function names, are written in snake_case, i.e., lower-case names separated by underscores. \n",
    "\n",
    "In our example `ReservationValues` is the name of a class, and\n",
    "               `check_values` is the name of a method\n",
    "\n",
    "\n",
    "\n",
    "Notice that methods are nested inside the class definition.  So we see that the `class statement` defines a `CODE BLOCK` containing methods.  "
   ]
  },
  {
   "cell_type": "markdown",
   "metadata": {},
   "source": [
    "# Instantiating an object\n",
    "\n",
    "The class ReservationValues defines what we mean by the reservation values of a buyer.  We can now instantiate an object by calling the ReservationValues class.  We do this as follows.\n",
    "```python\n",
    "obj_1 = ReservationValues()\n",
    "```\n",
    "Try this now by executing the code cell below and constructing a Circle object."
   ]
  },
  {
   "cell_type": "code",
   "execution_count": 56,
   "metadata": {},
   "outputs": [
    {
     "ename": "TypeError",
     "evalue": "ReservationValues.__init__() missing 1 required positional argument: 'reservation_values'",
     "output_type": "error",
     "traceback": [
      "\u001b[1;31m---------------------------------------------------------------------------\u001b[0m",
      "\u001b[1;31mTypeError\u001b[0m                                 Traceback (most recent call last)",
      "Cell \u001b[1;32mIn[56], line 1\u001b[0m\n\u001b[1;32m----> 1\u001b[0m obj_1 \u001b[38;5;241m=\u001b[39m ReservationValues()\n",
      "\u001b[1;31mTypeError\u001b[0m: ReservationValues.__init__() missing 1 required positional argument: 'reservation_values'"
     ]
    }
   ],
   "source": [
    "obj_1 = ReservationValues()"
   ]
  },
  {
   "cell_type": "markdown",
   "metadata": {},
   "source": [
    "Notice you got an error saying The `__init__` method did not get the argument reservation_values.  When you construct an object the `__init__` method gets called to accept any arguments you are passing to the object.  In this case, a `ReservationValue` object expects to get a list of values.  Let's fix this below."
   ]
  },
  {
   "cell_type": "code",
   "execution_count": 58,
   "metadata": {},
   "outputs": [],
   "source": [
    "obj_1 = ReservationValues([100, 45, 75])"
   ]
  },
  {
   "cell_type": "code",
   "execution_count": 60,
   "metadata": {},
   "outputs": [
    {
     "data": {
      "text/plain": [
       "__main__.ReservationValues"
      ]
     },
     "execution_count": 60,
     "metadata": {},
     "output_type": "execute_result"
    }
   ],
   "source": [
    "# Let's output the type of the object you just constructed\n",
    "type(obj_1)"
   ]
  },
  {
   "cell_type": "code",
   "execution_count": 62,
   "metadata": {},
   "outputs": [
    {
     "name": "stdout",
     "output_type": "stream",
     "text": [
      "Help on ReservationValues in module __main__ object:\n",
      "\n",
      "class ReservationValues(builtins.object)\n",
      " |  ReservationValues(reservation_values)\n",
      " |\n",
      " |  Holds a list of reservation values for a single buyer.\n",
      " |  attributes: self.reservation_values\n",
      " |\n",
      " |  Methods defined here:\n",
      " |\n",
      " |  __init__(self, reservation_values)\n",
      " |      Initialize self.  See help(type(self)) for accurate signature.\n",
      " |\n",
      " |  check_values(self)\n",
      " |      Checks to see if reservation values are integers\n",
      " |      and non_negative.\n",
      " |\n",
      " |  ----------------------------------------------------------------------\n",
      " |  Data descriptors defined here:\n",
      " |\n",
      " |  __dict__\n",
      " |      dictionary for instance variables\n",
      " |\n",
      " |  __weakref__\n",
      " |      list of weak references to the object\n",
      "\n"
     ]
    }
   ],
   "source": [
    "# We can ask for help \n",
    "help(obj_1)"
   ]
  },
  {
   "cell_type": "markdown",
   "metadata": {},
   "source": [
    "We see that help on a object returns information from the Class including the doc-strings we have added. It shows us the methods we wrote and the arguments we must pass to `__init__` to construct an object.  \n",
    "\n",
    "We make an object by using the assignment statement `variable_name = ClassName(arguments)`.  In our example, `obj_1 = ReservationValues()`.  Notice when we ran `type(obj_1)` we got the result `__main__.ReservationValues` this tells us that the variable obj_1 points to a ReservationValues object.\n",
    "\n",
    "Finally when we made our `class ReservationValues(object):` we followed it with the function definition:\n",
    "\n",
    "```python\n",
    "def __init__(self, reservation_values):\n",
    "        self.reservation_values = reservation_values\n",
    "        self.reservation_values.sort(reverse=True)\n",
    "```\n",
    "Notice the function definition is indented to indicate it is part of the class definition.  When a function is part of a class it is called a `method` instead of a `function`.  This is simply a convention to distinguish functions named ouside a class from functions defined inside a class.  \n",
    "\n",
    "When we have a method name enclosed by double underscores, i.e. `__init__` it is called a special method or dunder method.  We must define the `__init__` method in our class definition if we want to make objects.  \n",
    "\n",
    "Notice when we define the `__init__` method we give it an argument `self`, i.e.,\n",
    "```python\n",
    "def __init__(self, reservation_values):\n",
    "```\n",
    "But when we made obj_1 we used the assignment statement,\n",
    "```python\n",
    "obj_1 = ReservationValues([100, 45, 75])\n",
    "```\n",
    "When this happens the arguments actually passed to the `__init__` method are `obj_1, arg1, arg2, ...` where arg1, arg2, ... are any additional arguments in parentheses.  In our example, we have one additional argument, reservation_values.  Since there are none the only argument passed to `__init__` is `obj_1` so when `obj_1` is constructed `self` references `obj_1` which is a pointer for to that object in memory. "
   ]
  },
  {
   "cell_type": "code",
   "execution_count": 19,
   "metadata": {},
   "outputs": [
    {
     "name": "stdout",
     "output_type": "stream",
     "text": [
      " Frank's values = [75, 50, 25]\n",
      " Alice's values = [120, 50, 10]\n"
     ]
    }
   ],
   "source": [
    "# Typical usage\n",
    "frank_values = ReservationValues([50, 25, 75])\n",
    "# Notice values have been automatically sorted in descending order\n",
    "print(f\" Frank's values = {frank_values.reservation_values}\")\n",
    "alice_values = ReservationValues([10, 120, 50])\n",
    "print(f\" Alice's values = {alice_values.reservation_values}\")\n"
   ]
  },
  {
   "cell_type": "markdown",
   "metadata": {},
   "source": [
    "## Properties\n",
    "\n",
    ">Properties allow us to treat methods as attributes.  What happens is the method will have code to do some processing and the resulting value will be pointed to by an attribute name equal to the method name.\n",
    "\n",
    "To do this we add a @property statement before the method.  Here is an example.\n",
    "```python\n",
    "@property\n",
    "def current_value(self):\n",
    "    return self.reservation_values[sel.current_unit]\n",
    "```\n",
    "We will make a few changes to the `ReservationValues` class by adding a owners_name to ReservationValues object and adding the the current_value property/attribute"
   ]
  },
  {
   "cell_type": "code",
   "execution_count": 81,
   "metadata": {},
   "outputs": [],
   "source": [
    "class ReservationValues:\n",
    "    \"\"\" Holds a list of reservation values for a single buyer.\n",
    "        attributes: self.reservation_values\n",
    "    \"\"\"\n",
    "    \n",
    "    def __init__(self, owners_name, reservation_values):\n",
    "        self.owners_name = owners_name\n",
    "        self.reservation_values = reservation_values\n",
    "        assert len(self.reservation_values) > 0, f\"For {self.owners_name} no reservation values were given\"\n",
    "        assert self.check_values(), f\"For {self.owners_name} At least one value is not an integer, or is negative\"\n",
    "        # reservation values are sorted to enforce the diminishing marginal values rule\n",
    "        self.reservation_values.sort(reverse=True)\n",
    "        \n",
    "        self.current_unit = 0 \n",
    "\n",
    "    @property\n",
    "    def current_value(self):\n",
    "        try:\n",
    "            return self.reservation_values[self.current_unit]\n",
    "        except IndexError:\n",
    "            return \"does not exist\"\n",
    "    \n",
    "    def check_values(self):\n",
    "        \"\"\" Checks to see if reservation values are integers\n",
    "           and non_negative.\n",
    "        \"\"\"\n",
    "        for value in self.reservation_values:\n",
    "            if type(value) != int: return False\n",
    "            if value < 0: return False\n",
    "        return True\n",
    "         "
   ]
  },
  {
   "cell_type": "code",
   "execution_count": 83,
   "metadata": {},
   "outputs": [
    {
     "name": "stdout",
     "output_type": "stream",
     "text": [
      "75\n",
      "17\n"
     ]
    }
   ],
   "source": [
    "frank_values = ReservationValues(\"Frank\", [50, 25, 75])\n",
    "print(frank_values.current_value)\n",
    "alice_values = ReservationValues(\"Alice\", [17])\n",
    "print(alice_values.current_value)"
   ]
  },
  {
   "cell_type": "markdown",
   "metadata": {},
   "source": [
    "# Types of Methods\n",
    "\n",
    "There are three kinds of methods in Python\n",
    "\n",
    ">1. Instance Methods\n",
    "\n",
    "- These are the methods we have been using\n",
    "- to use one of these methods we have to have instantiated an object\n",
    "- used to perform operations on object attributes\n",
    "- the first argument is always `self` a reference to the object\n",
    "\n",
    ">2.  Class Methods\n",
    "\n",
    "- Methods that operate on the class itself\n",
    "- Created using the `@classmethod` decorator\n",
    "- the first argument is always `cls` a reference to the class\n",
    "- used for\n",
    "  - manipulating data common to all instances, i.e., class attributes\n",
    "  - building object factories (too advanced for now)\n",
    "\n",
    ">3.  Static Methods\n",
    "\n",
    "- Static methods require neither a class nor an instance\n",
    "- Created using the @staticmethod decorator\n",
    "- No required arguments\n",
    "- Typically used to data-less helper function together\n",
    "    - although it is almost always better to simply put them as functions in a module"
   ]
  },
  {
   "cell_type": "markdown",
   "metadata": {},
   "source": [
    "# eBay Auction Example\n",
    "\n",
    "In this project we will build a class that will allow us to simulate an eBay auction."
   ]
  },
  {
   "cell_type": "code",
   "execution_count": 31,
   "metadata": {},
   "outputs": [],
   "source": [
    "import random"
   ]
  },
  {
   "cell_type": "code",
   "execution_count": 29,
   "metadata": {},
   "outputs": [],
   "source": [
    "class Bidder:\n",
    "    def __init__(self, name, max_bid):\n",
    "        # Initialize bidder with a (str)name, (int)maximum bid amount\n",
    "        self.name = name\n",
    "        self.max_bid = max_bid\n",
    "\n",
    "    def place_bid(self, current_price, bidder_name, increment):\n",
    "        \"\"\"\n",
    "        Summary: Attempt to place a bid. \n",
    "                 If successful, return the amount, otherwise, return None.\n",
    "        args: (int)current_price, (int)increment, (int)highest_bid\n",
    "       \"\"\"\n",
    "        str_out = f\"Current price: {current_price}, Max bid: {self.max_bid} \"\n",
    "        print(f\"[DEBUG] {self.name} attempting to place bid. {str_out}\")\n",
    "        if self.name == bidder_name:\n",
    "            print(f\"[DEBUG] {self.name} cannot bid on their own item.\")\n",
    "            return None\n",
    "        # Check if max bid is lower than current price\n",
    "        if self.max_bid > current_price:\n",
    "            # Implement proxy bidding mechanism\n",
    "            bid_amount = min(self.max_bid, current_price + increment)\n",
    "            self.current_bid = bid_amount\n",
    "            print(f\"[DEBUG] {self.name} placed a bid of {self.current_bid}\")\n",
    "            return bid_amount\n",
    "        str_out = f\"could not place a bid. Max bid is lower than current price.\"\n",
    "        print(f\"[DEBUG] {self.name} {str_out}\")\n",
    "        return None\n"
   ]
  },
  {
   "cell_type": "code",
   "execution_count": 33,
   "metadata": {},
   "outputs": [
    {
     "name": "stdout",
     "output_type": "stream",
     "text": [
      "Alice 75\n"
     ]
    }
   ],
   "source": [
    "alice = Bidder(\"Alice\", 75)\n",
    "print(alice.name, alice.max_bid)"
   ]
  },
  {
   "cell_type": "code",
   "execution_count": 35,
   "metadata": {},
   "outputs": [
    {
     "name": "stdout",
     "output_type": "stream",
     "text": [
      "[DEBUG] Alice attempting to place bid. Current price: 62, Max bid: 75 \n",
      "[DEBUG] Alice placed a bid of 65\n"
     ]
    },
    {
     "data": {
      "text/plain": [
       "65"
      ]
     },
     "execution_count": 35,
     "metadata": {},
     "output_type": "execute_result"
    }
   ],
   "source": [
    "alice.place_bid(62, \"Bob\", 3)"
   ]
  },
  {
   "cell_type": "code",
   "execution_count": 37,
   "metadata": {},
   "outputs": [],
   "source": [
    "class Auction:\n",
    "    def __init__(self, item_name, starting_price, increment=1, max_rounds=10):\n",
    "        # Initialize auction with item name, starting price, bid increment, and maximum number of rounds\n",
    "        self.item_name = item_name\n",
    "        self.starting_price = starting_price\n",
    "        self.increment = increment\n",
    "        self.current_price = starting_price\n",
    "        self.highest_bidder = None\n",
    "        self.highest_bidder_name = \"None\"\n",
    "        self.highest_bid = 0\n",
    "        self.bidders = []\n",
    "        self.bid_history = []\n",
    "        self.max_rounds = max_rounds\n",
    "\n",
    "    def add_bidder(self, bidder):\n",
    "        # Add a bidder to the auction\n",
    "        print(f\"[DEBUG] Adding bidder: {bidder.name} with max bid: {bidder.max_bid}\")\n",
    "        self.bidders.append(bidder)\n",
    "\n",
    "    def run_auction(self):\n",
    "        print(f\"Auction for {self.item_name} starting at ${self.starting_price}.\")\n",
    "\n",
    "        # Run the auction in rounds until no higher bid is made or max rounds are reached\n",
    "        rounds = 0\n",
    "        while rounds < self.max_rounds:\n",
    "            print(f\"[DEBUG] Starting round {rounds + 1}\")\n",
    "            random.shuffle(self.bidders)\n",
    "            bidder_names = [bidder.name for bidder in self.bidders]\n",
    "            print(bidder_names)\n",
    "            # Iterate through each bidder to determine their bid\n",
    "            for bidder in self.bidders:\n",
    "                bid = bidder.place_bid(self.current_price, self.highest_bidder_name, self.increment)\n",
    "                if bid and bid > self.current_price:\n",
    "                    self.current_price = bid\n",
    "                    self.highest_bidder = bidder\n",
    "                    self.highest_bidder_name = bidder.name\n",
    "                    self.bid_history.append((bidder.name, self.current_price))\n",
    "                    print(f\"New highest bid: ${self.current_price} by {self.highest_bidder.name}\")\n",
    "                \n",
    "            rounds += 1\n",
    "\n",
    "        # Announce the winner of the auction\n",
    "        if self.highest_bidder:\n",
    "            print(f\"\\nAuction won by {self.highest_bidder.name} with a bid of ${self.current_price}.\")\n",
    "        else:\n",
    "            print(\"\\nNo bids were placed. The item remains unsold.\")\n",
    "\n",
    "        # Print bid history\n",
    "        print(\"\\nBid History:\")\n",
    "        for record in self.bid_history:\n",
    "            print(f\"Bidder: {record[0]}, Bid: ${record[1]}\")\n",
    "    "
   ]
  },
  {
   "cell_type": "code",
   "execution_count": 39,
   "metadata": {},
   "outputs": [
    {
     "name": "stdout",
     "output_type": "stream",
     "text": [
      "[DEBUG] Adding bidder: Alice with max bid: 70\n",
      "[DEBUG] Adding bidder: Bob with max bid: 65\n",
      "[DEBUG] Adding bidder: Charlie with max bid: 90\n",
      "[DEBUG] Adding bidder: Diana with max bid: 55\n",
      "Auction for Vintage Watch starting at $50.\n",
      "[DEBUG] Starting round 1\n",
      "['Diana', 'Charlie', 'Alice', 'Bob']\n",
      "[DEBUG] Diana attempting to place bid. Current price: 50, Max bid: 55 \n",
      "[DEBUG] Diana placed a bid of 52\n",
      "New highest bid: $52 by Diana\n",
      "[DEBUG] Charlie attempting to place bid. Current price: 52, Max bid: 90 \n",
      "[DEBUG] Charlie placed a bid of 54\n",
      "New highest bid: $54 by Charlie\n",
      "[DEBUG] Alice attempting to place bid. Current price: 54, Max bid: 70 \n",
      "[DEBUG] Alice placed a bid of 56\n",
      "New highest bid: $56 by Alice\n",
      "[DEBUG] Bob attempting to place bid. Current price: 56, Max bid: 65 \n",
      "[DEBUG] Bob placed a bid of 58\n",
      "New highest bid: $58 by Bob\n",
      "[DEBUG] Starting round 2\n",
      "['Bob', 'Alice', 'Charlie', 'Diana']\n",
      "[DEBUG] Bob attempting to place bid. Current price: 58, Max bid: 65 \n",
      "[DEBUG] Bob cannot bid on their own item.\n",
      "[DEBUG] Alice attempting to place bid. Current price: 58, Max bid: 70 \n",
      "[DEBUG] Alice placed a bid of 60\n",
      "New highest bid: $60 by Alice\n",
      "[DEBUG] Charlie attempting to place bid. Current price: 60, Max bid: 90 \n",
      "[DEBUG] Charlie placed a bid of 62\n",
      "New highest bid: $62 by Charlie\n",
      "[DEBUG] Diana attempting to place bid. Current price: 62, Max bid: 55 \n",
      "[DEBUG] Diana could not place a bid. Max bid is lower than current price.\n",
      "[DEBUG] Starting round 3\n",
      "['Diana', 'Bob', 'Charlie', 'Alice']\n",
      "[DEBUG] Diana attempting to place bid. Current price: 62, Max bid: 55 \n",
      "[DEBUG] Diana could not place a bid. Max bid is lower than current price.\n",
      "[DEBUG] Bob attempting to place bid. Current price: 62, Max bid: 65 \n",
      "[DEBUG] Bob placed a bid of 64\n",
      "New highest bid: $64 by Bob\n",
      "[DEBUG] Charlie attempting to place bid. Current price: 64, Max bid: 90 \n",
      "[DEBUG] Charlie placed a bid of 66\n",
      "New highest bid: $66 by Charlie\n",
      "[DEBUG] Alice attempting to place bid. Current price: 66, Max bid: 70 \n",
      "[DEBUG] Alice placed a bid of 68\n",
      "New highest bid: $68 by Alice\n",
      "[DEBUG] Starting round 4\n",
      "['Diana', 'Alice', 'Bob', 'Charlie']\n",
      "[DEBUG] Diana attempting to place bid. Current price: 68, Max bid: 55 \n",
      "[DEBUG] Diana could not place a bid. Max bid is lower than current price.\n",
      "[DEBUG] Alice attempting to place bid. Current price: 68, Max bid: 70 \n",
      "[DEBUG] Alice cannot bid on their own item.\n",
      "[DEBUG] Bob attempting to place bid. Current price: 68, Max bid: 65 \n",
      "[DEBUG] Bob could not place a bid. Max bid is lower than current price.\n",
      "[DEBUG] Charlie attempting to place bid. Current price: 68, Max bid: 90 \n",
      "[DEBUG] Charlie placed a bid of 70\n",
      "New highest bid: $70 by Charlie\n",
      "[DEBUG] Starting round 5\n",
      "['Bob', 'Charlie', 'Diana', 'Alice']\n",
      "[DEBUG] Bob attempting to place bid. Current price: 70, Max bid: 65 \n",
      "[DEBUG] Bob could not place a bid. Max bid is lower than current price.\n",
      "[DEBUG] Charlie attempting to place bid. Current price: 70, Max bid: 90 \n",
      "[DEBUG] Charlie cannot bid on their own item.\n",
      "[DEBUG] Diana attempting to place bid. Current price: 70, Max bid: 55 \n",
      "[DEBUG] Diana could not place a bid. Max bid is lower than current price.\n",
      "[DEBUG] Alice attempting to place bid. Current price: 70, Max bid: 70 \n",
      "[DEBUG] Alice could not place a bid. Max bid is lower than current price.\n",
      "[DEBUG] Starting round 6\n",
      "['Charlie', 'Diana', 'Bob', 'Alice']\n",
      "[DEBUG] Charlie attempting to place bid. Current price: 70, Max bid: 90 \n",
      "[DEBUG] Charlie cannot bid on their own item.\n",
      "[DEBUG] Diana attempting to place bid. Current price: 70, Max bid: 55 \n",
      "[DEBUG] Diana could not place a bid. Max bid is lower than current price.\n",
      "[DEBUG] Bob attempting to place bid. Current price: 70, Max bid: 65 \n",
      "[DEBUG] Bob could not place a bid. Max bid is lower than current price.\n",
      "[DEBUG] Alice attempting to place bid. Current price: 70, Max bid: 70 \n",
      "[DEBUG] Alice could not place a bid. Max bid is lower than current price.\n",
      "[DEBUG] Starting round 7\n",
      "['Bob', 'Diana', 'Alice', 'Charlie']\n",
      "[DEBUG] Bob attempting to place bid. Current price: 70, Max bid: 65 \n",
      "[DEBUG] Bob could not place a bid. Max bid is lower than current price.\n",
      "[DEBUG] Diana attempting to place bid. Current price: 70, Max bid: 55 \n",
      "[DEBUG] Diana could not place a bid. Max bid is lower than current price.\n",
      "[DEBUG] Alice attempting to place bid. Current price: 70, Max bid: 70 \n",
      "[DEBUG] Alice could not place a bid. Max bid is lower than current price.\n",
      "[DEBUG] Charlie attempting to place bid. Current price: 70, Max bid: 90 \n",
      "[DEBUG] Charlie cannot bid on their own item.\n",
      "[DEBUG] Starting round 8\n",
      "['Charlie', 'Bob', 'Diana', 'Alice']\n",
      "[DEBUG] Charlie attempting to place bid. Current price: 70, Max bid: 90 \n",
      "[DEBUG] Charlie cannot bid on their own item.\n",
      "[DEBUG] Bob attempting to place bid. Current price: 70, Max bid: 65 \n",
      "[DEBUG] Bob could not place a bid. Max bid is lower than current price.\n",
      "[DEBUG] Diana attempting to place bid. Current price: 70, Max bid: 55 \n",
      "[DEBUG] Diana could not place a bid. Max bid is lower than current price.\n",
      "[DEBUG] Alice attempting to place bid. Current price: 70, Max bid: 70 \n",
      "[DEBUG] Alice could not place a bid. Max bid is lower than current price.\n",
      "[DEBUG] Starting round 9\n",
      "['Charlie', 'Diana', 'Alice', 'Bob']\n",
      "[DEBUG] Charlie attempting to place bid. Current price: 70, Max bid: 90 \n",
      "[DEBUG] Charlie cannot bid on their own item.\n",
      "[DEBUG] Diana attempting to place bid. Current price: 70, Max bid: 55 \n",
      "[DEBUG] Diana could not place a bid. Max bid is lower than current price.\n",
      "[DEBUG] Alice attempting to place bid. Current price: 70, Max bid: 70 \n",
      "[DEBUG] Alice could not place a bid. Max bid is lower than current price.\n",
      "[DEBUG] Bob attempting to place bid. Current price: 70, Max bid: 65 \n",
      "[DEBUG] Bob could not place a bid. Max bid is lower than current price.\n",
      "[DEBUG] Starting round 10\n",
      "['Alice', 'Diana', 'Bob', 'Charlie']\n",
      "[DEBUG] Alice attempting to place bid. Current price: 70, Max bid: 70 \n",
      "[DEBUG] Alice could not place a bid. Max bid is lower than current price.\n",
      "[DEBUG] Diana attempting to place bid. Current price: 70, Max bid: 55 \n",
      "[DEBUG] Diana could not place a bid. Max bid is lower than current price.\n",
      "[DEBUG] Bob attempting to place bid. Current price: 70, Max bid: 65 \n",
      "[DEBUG] Bob could not place a bid. Max bid is lower than current price.\n",
      "[DEBUG] Charlie attempting to place bid. Current price: 70, Max bid: 90 \n",
      "[DEBUG] Charlie cannot bid on their own item.\n",
      "\n",
      "Auction won by Charlie with a bid of $70.\n",
      "\n",
      "Bid History:\n",
      "Bidder: Diana, Bid: $52\n",
      "Bidder: Charlie, Bid: $54\n",
      "Bidder: Alice, Bid: $56\n",
      "Bidder: Bob, Bid: $58\n",
      "Bidder: Alice, Bid: $60\n",
      "Bidder: Charlie, Bid: $62\n",
      "Bidder: Bob, Bid: $64\n",
      "Bidder: Charlie, Bid: $66\n",
      "Bidder: Alice, Bid: $68\n",
      "Bidder: Charlie, Bid: $70\n"
     ]
    }
   ],
   "source": [
    "auction = Auction(\"Vintage Watch\", starting_price=50, increment=2, max_rounds=10)\n",
    "    \n",
    "# Add bidders with their maximum bid and strategy\n",
    "auction.add_bidder(Bidder(\"Alice\", 70))\n",
    "auction.add_bidder(Bidder(\"Bob\", 65))\n",
    "auction.add_bidder(Bidder(\"Charlie\", 90))\n",
    "auction.add_bidder(Bidder(\"Diana\", 55))\n",
    "    \n",
    "# Run the auction\n",
    "auction.run_auction()\n",
    "  "
   ]
  },
  {
   "cell_type": "code",
   "execution_count": 41,
   "metadata": {},
   "outputs": [
    {
     "name": "stdout",
     "output_type": "stream",
     "text": [
      "C:\\Users\\kmcca\\Dropbox\\2024 McCabe Work\\30 Teaching\\Computational Methods\\Notebooks\\notebooks\n"
     ]
    }
   ],
   "source": [
    "import os\n",
    "import random\n",
    "import logging\n",
    "print(os.getcwd())"
   ]
  },
  {
   "cell_type": "code",
   "execution_count": 43,
   "metadata": {},
   "outputs": [],
   "source": [
    "dir_path=os.getcwd()\n",
    "logging.basicConfig(filename=dir_path+'//auction_debug.log', \n",
    "                encoding=\"utf-8\",\n",
    "                filemode=\"a\",\n",
    "                level=logging.DEBUG, \n",
    "                format='%(asctime)s - %(levelname)s - %(message)s')\n"
   ]
  },
  {
   "cell_type": "markdown",
   "metadata": {},
   "source": [
    "## using logging\n",
    "replace print() with logging.debug()"
   ]
  },
  {
   "cell_type": "code",
   "execution_count": 45,
   "metadata": {},
   "outputs": [],
   "source": [
    "class Bidder:\n",
    "    def __init__(self, name, max_bid):\n",
    "        # Initialize bidder with a (str)name, (int)maximum bid amount\n",
    "        self.name = name\n",
    "        self.max_bid = max_bid\n",
    "\n",
    "    def place_bid(self, current_price, bidder_name, increment):\n",
    "        \"\"\"\n",
    "        Summary: Attempt to place a bid. \n",
    "                 If successful, return the amount, otherwise, return None.\n",
    "        args: (int)current_price, (int)increment, (int)highest_bid\n",
    "       \"\"\"\n",
    "        str_out = f\"Current price: {current_price}, Max bid: {self.max_bid} \"\n",
    "        logging.debug(f\"[DEBUG] {self.name} attempting to place bid. {str_out}\")\n",
    "        if self.name == bidder_name:\n",
    "            logging.debug(f\"[DEBUG] {self.name} cannot bid on their own item.\")\n",
    "            return None\n",
    "        # Check if max bid is lower than current price\n",
    "        if self.max_bid > current_price:\n",
    "            # Implement proxy bidding mechanism\n",
    "            bid_amount = min(self.max_bid, current_price + increment)\n",
    "            self.current_bid = bid_amount\n",
    "            logging.debug(f\"[DEBUG] {self.name} placed a bid of {self.current_bid}\")\n",
    "            return bid_amount\n",
    "        str_out = f\"could not place a bid. Max bid is lower than current price.\"\n",
    "        logging.debug(f\"[DEBUG] {self.name} {str_out}\")\n",
    "        return None\n"
   ]
  },
  {
   "cell_type": "code",
   "execution_count": 47,
   "metadata": {},
   "outputs": [],
   "source": [
    "class Auction:\n",
    "    def __init__(self, item_name, starting_price, increment=1, max_rounds=10):\n",
    "        # Initialize auction with item name, starting price, bid increment, and maximum number of rounds\n",
    "        self.item_name = item_name\n",
    "        self.starting_price = starting_price\n",
    "        self.increment = increment\n",
    "        self.current_price = starting_price\n",
    "        self.highest_bidder = None\n",
    "        self.highest_bidder_name = \"None\"\n",
    "        self.highest_bid = 0\n",
    "        self.bidders = []\n",
    "        self.bid_history = []\n",
    "        self.max_rounds = max_rounds\n",
    "\n",
    "    def add_bidder(self, bidder):\n",
    "        # Add a bidder to the auction\n",
    "        logging.debug(f\"[DEBUG] Adding bidder: {bidder.name} with max bid: {bidder.max_bid}\")\n",
    "        self.bidders.append(bidder)\n",
    "\n",
    "    def run_auction(self):\n",
    "        print(f\"Auction for {self.item_name} starting at ${self.starting_price}.\")\n",
    "\n",
    "        # Run the auction in rounds until no higher bid is made or max rounds are reached\n",
    "        rounds = 0\n",
    "        while rounds < self.max_rounds:\n",
    "            logging.debug(f\"[DEBUG] Starting round {rounds + 1}\")\n",
    "            random.shuffle(self.bidders)\n",
    "            bidder_names = [bidder.name for bidder in self.bidders]\n",
    "            logging.debug(bidder_names)\n",
    "            # Iterate through each bidder to determine their bid\n",
    "            for bidder in self.bidders:\n",
    "                bid = bidder.place_bid(self.current_price, self.highest_bidder_name, self.increment)\n",
    "                if bid and bid > self.current_price:\n",
    "                    self.current_price = bid\n",
    "                    self.highest_bidder = bidder\n",
    "                    self.highest_bidder_name = bidder.name\n",
    "                    self.bid_history.append((bidder.name, self.current_price))\n",
    "                    print(f\"New highest bid: ${self.current_price} by {self.highest_bidder.name}\")\n",
    "                \n",
    "            rounds += 1\n",
    "\n",
    "        # Announce the winner of the auction\n",
    "        if self.highest_bidder:\n",
    "            print(f\"\\nAuction won by {self.highest_bidder.name} with a bid of ${self.current_price}.\")\n",
    "        else:\n",
    "            print(\"\\nNo bids were placed. The item remains unsold.\")"
   ]
  },
  {
   "cell_type": "code",
   "execution_count": 49,
   "metadata": {},
   "outputs": [
    {
     "name": "stdout",
     "output_type": "stream",
     "text": [
      "Auction for Vintage Watch starting at $50.\n",
      "New highest bid: $52 by Alice\n",
      "New highest bid: $54 by Bob\n",
      "New highest bid: $56 by Charlie\n",
      "New highest bid: $58 by Bob\n",
      "New highest bid: $60 by Charlie\n",
      "New highest bid: $62 by Alice\n",
      "New highest bid: $64 by Bob\n",
      "New highest bid: $66 by Alice\n",
      "New highest bid: $68 by Charlie\n",
      "New highest bid: $70 by Alice\n",
      "New highest bid: $72 by Charlie\n",
      "\n",
      "Auction won by Charlie with a bid of $72.\n"
     ]
    }
   ],
   "source": [
    "auction = Auction(\"Vintage Watch\", starting_price=50, increment=2, max_rounds=10)\n",
    "    \n",
    "# Add bidders with their maximum bid and strategy\n",
    "auction.add_bidder(Bidder(\"Alice\", 70))\n",
    "auction.add_bidder(Bidder(\"Bob\", 65))\n",
    "auction.add_bidder(Bidder(\"Charlie\", 90))\n",
    "auction.add_bidder(Bidder(\"Diana\", 55))\n",
    "    \n",
    "# Run the auction\n",
    "auction.run_auction()\n"
   ]
  }
 ],
 "metadata": {
  "kernelspec": {
   "display_name": "Python 3 (ipykernel)",
   "language": "python",
   "name": "python3"
  },
  "language_info": {
   "codemirror_mode": {
    "name": "ipython",
    "version": 3
   },
   "file_extension": ".py",
   "mimetype": "text/x-python",
   "name": "python",
   "nbconvert_exporter": "python",
   "pygments_lexer": "ipython3",
   "version": "3.12.11"
  },
  "toc": {
   "base_numbering": 1,
   "nav_menu": {},
   "number_sections": true,
   "sideBar": true,
   "skip_h1_title": false,
   "title_cell": "Table of Contents",
   "title_sidebar": "Contents",
   "toc_cell": false,
   "toc_position": {
    "height": "calc(100% - 180px)",
    "left": "10px",
    "top": "150px",
    "width": "224px"
   },
   "toc_section_display": true,
   "toc_window_display": false
  }
 },
 "nbformat": 4,
 "nbformat_minor": 4
}
