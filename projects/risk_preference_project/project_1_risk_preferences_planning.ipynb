{
 "cells": [
  {
   "cell_type": "markdown",
   "metadata": {},
   "source": [
    "# Project 1:  Risk Preferences and Elicitation \n",
    "\n",
    "A typical project has three stages not necessarily done in any specific order.\n",
    "\n",
    "1.  Plan your project.  This will be done in this notebook. \n",
    "2.  Set up your editor (virtual-Studio) code, create a virtual environment, and do an initial commit to your GitHub repository.\n",
    "3.  Test your project.  Here we will talk about three kinds of tests.  Code tests, logging, and user API.  All of this will be done in a testing notebook and visual studio code.     \n",
    "\n",
    "In this project, we will use a procedural programming approach to build a `risk` module to model and elicit risk preferences.  This project is broken down into some functions which are described in the steps described below:\n",
    "\n",
    "* Step 1:  Code `utility functions` defined on lottery outcomes.  \n",
    "* Step 2:  Decide on, and code, a general `lottery data structure`.\n",
    "* Step 3:  Code an `expected value function` and `expected utility function`.\n",
    "* Step 4:  Code `complementary functions` for risk preferences. \n",
    "* Step 5:  Code a `lottery choice function`.\n",
    "* Step 6:  Code the `Holt-Laury procedure` for risk preference elicitation.\n",
    "* Step 7:  Code the `step-wise elicitation algorithm`.\n",
    "* Step 8:  Build a `risk preference module` called `risk`."
   ]
  },
  {
   "cell_type": "markdown",
   "metadata": {},
   "source": [
    "## Step One:  Code utility functions\n",
    "\n",
    "Research the literature starting [here](https://en.wikipedia.org/wiki/Risk_aversion) and find three additional utility functions that you can use to model risk preferences.  Build these utility functaions as python functions in the cells below.  I will start you out with a simple one. "
   ]
  },
  {
   "cell_type": "code",
   "execution_count": 22,
   "metadata": {},
   "outputs": [],
   "source": [
    "def linear_utility(m, a=5, b=.75):\n",
    "    \"\"\"linear utility of money\n",
    "    \n",
    "        args: m, float, amount of money.\n",
    "              a, float, intercept.\n",
    "              b, float, slope.\n",
    "              \n",
    "        returns: util, float, utility of money m.    \n",
    "    \"\"\"\n",
    "    util = a + b*m\n",
    "    return util"
   ]
  },
  {
   "cell_type": "code",
   "execution_count": 23,
   "metadata": {},
   "outputs": [
    {
     "name": "stdout",
     "output_type": "stream",
     "text": [
      "12.5\n",
      "expected value = 5.0, expected utility = 8.75\n"
     ]
    }
   ],
   "source": [
    "# test functions\n",
    "\n",
    "m1 = 0\n",
    "m2 = 10\n",
    "p1 = .5\n",
    "p2 = .5\n",
    "\n",
    "# test linear_utility function\n",
    "print(linear_utility(m2))\n",
    "print(f\"expected value = {p1*m1 + p2*m2}, expected utility = {p1*linear_utility(m1) + p2*linear_utility(m2)}\")"
   ]
  },
  {
   "cell_type": "markdown",
   "metadata": {},
   "source": [
    "# Additional utility functions\n",
    "\n",
    "1. CARA (Constant Absolute Risk Aversion)\n",
    "2. CRRA (Constant Relative Risk Aversion)\n",
    "3. Quadratic utility"
   ]
  },
  {
   "cell_type": "code",
   "execution_count": 33,
   "metadata": {},
   "outputs": [
    {
     "name": "stdout",
     "output_type": "stream",
     "text": [
      "u(m) = 0.9932620530009145\n"
     ]
    }
   ],
   "source": [
    "import math\n",
    "def cara(m, a=0.5):\n",
    "    \"\"\"Exponential Utility Constant Absolute Risk Aversion (CARA): u(m) = 1 - exp(-a*m)\n",
    "\n",
    "        args:\n",
    "            m(float): amount of money (payoff)\n",
    "            a(float): >0, absolute risk aversion parameter (larger a, more risk averse)\n",
    "        \n",
    "        returns:\n",
    "            util: float, utility of money m\n",
    "\n",
    "        raises:\n",
    "            ValueError: if a <= 0\n",
    "\n",
    "        Test case: \n",
    "            cara(10, a=0.5) should return approximately 0.9932620530009145\n",
    "            cara(5, a=1.0) should return approximately 0.9932620530009145\n",
    "    \"\"\"\n",
    "    if a <=0:\n",
    "        raise ValueError(\"Parameter 'a' must be > 0.\")\n",
    "    util = 1 - math.exp(-a * m)\n",
    "    return util #this is the CARA utility returning the utility of money\n",
    "while True:\n",
    "    try:\n",
    "        m_val = float(input(\"Enter m (Money/Payoff): \"))\n",
    "        a_val = float(input(\"Enter a (> 0, risk-aversion parameter): \"))\n",
    "        u = cara(m_val, a=a_val)\n",
    "        print(f\"u(m) = {u}\")\n",
    "        break\n",
    "    except ValueError as e:\n",
    "        print(f\"Input error: {e}. Please try again.\\n\")"
   ]
  },
  {
   "cell_type": "code",
   "execution_count": 32,
   "metadata": {},
   "outputs": [
    {
     "name": "stdout",
     "output_type": "stream",
     "text": [
      "u(m) = 0.9\n"
     ]
    }
   ],
   "source": [
    "import math\n",
    "\n",
    "def crra(m, gamma=2.0):\n",
    "    \"\"\"Power Utility Constant Relative Risk Aversion (CRRA). \n",
    "\n",
    "        u(m) = (m^(1-gamma)-1) / (1 - gamma)        if gamma != 1\n",
    "            = ln(m)                                if gamma ==1  \n",
    "        args:\n",
    "            m (float): > 0, money/wealth\n",
    "            gamma (float): > 0, coefficient of relative risk aversion (larger gamma, more risk averse)\n",
    "\n",
    "        returns: \n",
    "            util (float): utility of money m\n",
    "        \n",
    "        raises:\n",
    "            ValueError: if m <= 0 or gamma <= 0\n",
    "\n",
    "        Test cases:\n",
    "            crra(10, gamma=2) should return approximately  -0.9\n",
    "            crra(10, gamma=1) should return approximately 2.302585092\n",
    "    \"\"\"\n",
    "    if m <= 0:\n",
    "        raise ValueError(\"Parameter 'm' must be > 0 for CRRA utility.\")\n",
    "    if gamma <= 0:\n",
    "        raise ValueError(\"Parameter 'gamma must be > 0.\")\n",
    "    if gamma == 1:\n",
    "        return math.log(m)\n",
    "    util = (m**(1 - gamma) - 1) / (1 - gamma)\n",
    "    return util  #returns the normal CRRA utility when gamma not equal to 1\n",
    "while True:\n",
    "    try:\n",
    "        m_val = float(input(\"Enter m (> 0, money/wealth): \")) #input for money/wealth converts to float\n",
    "        gamma_val = float(input(\"Enter gamma (> 0, relative risk aversion): \")) #input for gamma converts to float\n",
    "        utility = crra(m_val, gamma=gamma_val) #calls crra function with user inputs\n",
    "        print(f\"u(m) = {utility}\") #prints the utility value\n",
    "        break #exits the loop if successful\n",
    "    except ValueError as e: #catches ValueError exceptions and inputs the error message from above\n",
    "        print(f\"Input error: {e} Please try again.\\n\")"
   ]
  },
  {
   "cell_type": "code",
   "execution_count": 34,
   "metadata": {},
   "outputs": [
    {
     "name": "stdout",
     "output_type": "stream",
     "text": [
      "u(m) = 3.75\n"
     ]
    }
   ],
   "source": [
    "def quadratic(m, a=1.0, b=0.1):\n",
    "    \"\"\"Quadratic utility: u(m) = a*m - 0.5*b*m^2\n",
    "    \n",
    "    args:\n",
    "        m (float): money/payoff\n",
    "        a (float): slope at zero wealth\n",
    "        b (float): > 0, curvature parameter (keeps the function concave)\n",
    "        \n",
    "    returns:\n",
    "        util (float): utility of money m\n",
    "\n",
    "    raises:\n",
    "        ValueError: if b <= 0 (would break concavity)\n",
    "        ValueError: if a - b*m <= 0 (would make marginal utility non-positive)\n",
    "\n",
    "    Test cases:\n",
    "        quadratic(5, a=1.0, b=0.1) should return 3.75\n",
    "        quadratic(15, a=2.0, b=0.2) should return 7.0\n",
    "    \"\"\"\n",
    "\n",
    "    if b <= 0:\n",
    "        raise ValueError(\"Parameter 'b' must be > 0 to keep utility concave.\")\n",
    "    if a - b*m <= 0:\n",
    "        raise ValueError(\"Inputs result in non-positive marginal utility (a - b*m <= 0). Choose smaller m or larger a, or smaller b.\")\n",
    "    util = a*m - 0.5*b*(m**2)\n",
    "    return util\n",
    "\n",
    "while True:\n",
    "    try:\n",
    "        m_val = float(input(\"Enter m (money/payoff): \"))\n",
    "        a_val = float(input(\"Enter a (baseline slope): \"))\n",
    "        b_val = float(input(\"Enter b (> 0, curvature): \"))\n",
    "\n",
    "        utility = quadratic(m_val, a=a_val, b=b_val)\n",
    "        print(f\"u(m) = {utility}\")\n",
    "        break\n",
    "    except ValueError as e:\n",
    "        print(f\"Input error: {e}. Please try again. \\n\")"
   ]
  },
  {
   "cell_type": "markdown",
   "metadata": {},
   "source": [
    "> You can think about additional utility functions you might want to include in this module."
   ]
  },
  {
   "cell_type": "markdown",
   "metadata": {},
   "source": [
    "## Step Two: Design and code lottery data structure  \n",
    "\n",
    "The simplest version of a lottery is a list of dictioaries, where each dictionary indicates an outcome and the probability, greater than or equal to 0, of that outcome happening.  Here is an example:\n",
    "\n",
    "```python\n",
    "lottery = [{'out':0, 'prob':0.5}, {'out':10, 'prob':0.5}]\n",
    "```\n",
    "Obviously the list can have as many dictioaries as we would like.  Lotteries must have the following additional property.  The sum of the probabilities accross the elements (or dictioaries) of the lottery must equal 1.0.  In addition the value associate with 'out' can be either a payoff as in the example or another lottery.  When this happens we call this a compound lottery.  Here is an example.\n",
    "\n",
    "```python\n",
    "compound_lottery = [{'out':lottery, 'prob':0.5}, {'out':10, 'prob':0.5}]\n",
    "```\n",
    "The first step in any lottery choice problem is to build the lotteries.  Lets define two functions to do this."
   ]
  },
  {
   "cell_type": "code",
   "execution_count": 41,
   "metadata": {},
   "outputs": [
    {
     "name": "stdout",
     "output_type": "stream",
     "text": [
      "Setting probability for outcome 2 to the remaining 0.600000 so total sums to 1.\n",
      "Your lottery: [{'out': 10.0, 'prob': 0.4}, {'out': 20.0, 'prob': 0.6}]\n"
     ]
    }
   ],
   "source": [
    "def input_lottery():\n",
    "    \"\"\"Builds a lottery from user input\n",
    "    \n",
    "        returns:  lottery, a list of dictionaries\n",
    "            each dictionary has keys 'out' (outcome) and 'prob' (probability)\n",
    "        \n",
    "        Test case:\n",
    "            If user inputs a 2-outcome lottery with outcomes 10 (prob 0.4) and 20 (prob 0.6), the function should return:\n",
    "            [{'out': 10.0, 'prob': 0.4}, {'out': 20.0, 'prob': 0.6}]\n",
    "    \"\"\"\n",
    "    tol = 1e-9 #small tolerance I got from class to deal with rounding error\n",
    "    lottery = [] #starts empty list to hold lottery outcomes\n",
    "\n",
    "    while True:\n",
    "        try:\n",
    "            num_outcomes = int(input(\"How many outcomes in this lottery? (integer >= 1): \"))\n",
    "            if num_outcomes >= 1:\n",
    "                break\n",
    "            else:\n",
    "                print(\"Please enter an integer >= 1.\\n\")\n",
    "        except ValueError as e:\n",
    "            print(f\"Input error: {e}. Please try again.\\n\") #keeps asking until valid input\n",
    "    remaining_prob = 1.0 \n",
    "    for outcome_number in range(1, num_outcomes+1): #loops through each outcome\n",
    "        while True: #asks user to specify outcome type until valid input\n",
    "            type = input(f\"Outcome {outcome_number}: type 'n' for numeric payoff, 'l' for nested lottery: \").strip() #gets user input for outcome type and removes whitespace\n",
    "            if type in (\"n\", \"l\"): #checks if input is valid\n",
    "                break\n",
    "            print(\"Please type 'n' or 'l'.\\n\") #prompts user to re-enter if input invalid\n",
    "        if type == \"n\":\n",
    "            while True:\n",
    "                try:\n",
    "                    out_val = float(input(f\"Enter payoff for outcome {outcome_number}: \")) #asks user for numeric payoff\n",
    "                    break\n",
    "                except ValueError as e:\n",
    "                    print(f\"Input error: {e}. Please try again.\\n\") #prompts user to re-enter if input invalid. payoff must be a number >= 1\n",
    "        else:\n",
    "            print(f\"Building nested (compound) lottery for outcome {outcome_number}...\") \n",
    "            out_val = input_lottery() #calls input_lottery function recursively to build nested lottery. This means the outcome itself is another lottery.\n",
    "        if outcome_number < num_outcomes: #for all but last outcome, ask for probability\n",
    "             while True: #asks user to specify probability until valid input\n",
    "                try:\n",
    "                    prob_val = float(input(f\"Enter probability for outcome {outcome_number} (remaining {remaining_prob:.6f}): \")) #asks user for probability and tells user remaining probability with 6 decimal places\n",
    "                    if prob_val < 0:\n",
    "                        print(\"Probability must be >= 0.\\n\") \n",
    "                    elif prob_val > remaining_prob + tol: #checks if probability exceeds remaining probability plus tolerance\n",
    "                        print(f\"Probability cannot exceed the remaining {remaining_prob:.6f}.\\n\") #prompts user to re-enter if probability too large\n",
    "                    else:\n",
    "                        remaining_prob -= prob_val #updates remaining probability\n",
    "                        break\n",
    "                except ValueError as e:\n",
    "                    print(f\"Input error: {e}. Please try again.\\n\") \n",
    "        else:\n",
    "            prob_val = remaining_prob #for last outcome, set probability to remaining\n",
    "            if prob_val < -tol or prob_val > 1 + tol: #checks if final probability is valid within tolerance\n",
    "                raise ValueError(\"Probabilities do not sum to 1. Please restart the lottery input.\") #raises error if probabilities dont sum to 1\n",
    "            prob_val = max(0.0, min(1.0, prob_val)) #clamps prob_val between 0 and 1\n",
    "            print(f\"Setting probability for outcome {outcome_number} to the remaining {prob_val:.6f} so total sums to 1.\") #prints auto-set message\n",
    "        lottery.append({'out': out_val, 'prob': prob_val}) #adds outcome and probability to lottery list\n",
    "    return lottery \n",
    "print(\"Your lottery:\", input_lottery())"
   ]
  },
  {
   "cell_type": "code",
   "execution_count": 50,
   "metadata": {},
   "outputs": [
    {
     "name": "stdout",
     "output_type": "stream",
     "text": [
      "[[{'out': 57.16773628256381, 'prob': 0.2095885070296847},\n",
      "  {'out': 18.668246103602847, 'prob': 0.10666541537359094},\n",
      "  {'out': 67.33766700825892, 'prob': 0.31329827425498763},\n",
      "  {'out': 20.94877203341069, 'prob': 0.160984645899371},\n",
      "  {'out': 13.519863617350325, 'prob': 0.10168780854963262},\n",
      "  {'out': 2.7193396214103216, 'prob': 0.10777534889273319}],\n",
      " [{'out': 34.9929233831143, 'prob': 0.7816984365614362},\n",
      "  {'out': 7.905649464277031, 'prob': 0.21830156343856377}]]\n",
      "\n",
      "[[{'out': 2.2165395859972676, 'prob': 0.1854267756150542},\n",
      "  {'out': [{'out': 37.219178700832614, 'prob': 0.3033601484259084},\n",
      "           {'out': 47.573619612482915, 'prob': 0.18742147782328789},\n",
      "           {'out': -11.955794012355213, 'prob': 0.21332214887685735},\n",
      "           {'out': -44.93352340314366, 'prob': 0.02909461203150532},\n",
      "           {'out': 3.402348359967597, 'prob': 0.1034355812711767},\n",
      "           {'out': -17.880104137858346, 'prob': 0.13940379677477222},\n",
      "           {'out': -19.895506120862784, 'prob': 0.02396223479649206}],\n",
      "   'prob': 0.14968274372621176},\n",
      "  {'out': -33.82854724598763, 'prob': 0.25720133639585446},\n",
      "  {'out': 46.99198481702467, 'prob': 0.25441120284111135},\n",
      "  {'out': -28.325669095079032, 'prob': 0.15327794142176823}],\n",
      " [{'out': [{'out': -7.680682082113577, 'prob': 0.1515097060877231},\n",
      "           {'out': 12.365508920846182, 'prob': 0.010628268168701136},\n",
      "           {'out': 17.64595776163945, 'prob': 0.1799383754206051},\n",
      "           {'out': -23.853847524815897, 'prob': 0.05030925668998682},\n",
      "           {'out': 40.35954689477967, 'prob': 0.14552929208079352},\n",
      "           {'out': -17.226787450612576, 'prob': 0.18262714058714347},\n",
      "           {'out': -46.61666622684737, 'prob': 0.16309189956818917},\n",
      "           {'out': -10.117042942698795, 'prob': 0.031654249732636607},\n",
      "           {'out': -18.61208278057449, 'prob': 0.08471181166422113}],\n",
      "   'prob': 0.44052277110217564},\n",
      "  {'out': 18.71565339873797, 'prob': 0.5594772288978244}],\n",
      " [{'out': 39.6068353770126, 'prob': 0.14736807379037978},\n",
      "  {'out': [{'out': -5.627046780732357, 'prob': 0.015972212257458155},\n",
      "           {'out': -0.00010318500657291452, 'prob': 0.6246478812339399},\n",
      "           {'out': 35.73778194044644, 'prob': 0.25289476249202264},\n",
      "           {'out': 2.0029673793458898, 'prob': 0.10648514401657945}],\n",
      "   'prob': 0.2983126583221955},\n",
      "  {'out': 43.568161756849676, 'prob': 0.3711547523420978},\n",
      "  {'out': -47.81217080483399, 'prob': 0.18316451554532687}]]\n"
     ]
    }
   ],
   "source": [
    "import random #import random module for generating random numbers\n",
    "def make_random_lotteries(number=2, max_pay = 100, compound=False, negative=False):\n",
    "    \"\"\"Builds a random list of lotteries\n",
    "    \n",
    "        Lottery payoffs are random draws beteen min_pay and max_pay,\n",
    "        Lottery probabilities are random uniform draws that sum to one.\n",
    "    \n",
    "        args:\n",
    "            number = int > 0, number of lotteries in list.\n",
    "            compound = bool, if True allows compound lotteries one deep,\n",
    "            negative = bool, if False min_pay = 0, if True min_pay = -max_pay. \n",
    "            max_pay = float > 0, maximum payoff in lottery.\n",
    "        returns:\n",
    "            lotteries, list of lotteries (each lottery is a list of dictionaries with keys 'out' and 'prob')\n",
    "        \n",
    "        Test case:\n",
    "            make_random_lotteries(number=2, max_pay=100, compound=False, negative=False) might return:\n",
    "            [[{'out': 23.5, 'prob': 0.3}, {'out': 75.2, 'prob': 0.7}], [{'out': 10.1, 'prob': 0.5}, {'out': 90.4, 'prob': 0.5}]]\n",
    "    \"\"\"\n",
    "    min_pay = -float(max_pay) if negative else 0.0 #min_pay will be the negative of max_pay if it's negative\n",
    "    max_pay = float(max_pay)\n",
    "    def _simple_lottery():\n",
    "        num_outcomes = random.randint(2, 10) #2-4 possible outcomes\n",
    "        payoffs = [random.uniform(min_pay, max_pay) for _ in range(num_outcomes)] #random payoffs between min_pay and max_pay. Makes (num_outcomes) payoffs. Not using the loop number, so I wrote _\n",
    "        weights = [random.random() for _ in range(num_outcomes)] #generates random weights for each outcome. Makes (num_outcomes) weights. Not using the loop number, so I wrote _\n",
    "        total = sum(weights)\n",
    "        probs = [w / total for w in weights] #normalizes weights to sum to 1\n",
    "        return [{'out': payoffs[num_outcomes], 'prob': probs[num_outcomes]} for num_outcomes in range (num_outcomes)] #returns list of dictionaries for the simple lottery\n",
    "    lotteries = [] #list to hold all lotteries\n",
    "    for _ in range(number): #loops to create 'number' lotteries\n",
    "        lot = _simple_lottery() #creates a simple lottery\n",
    "        if compound: #if compound is True, makes one outcome a nested lottery\n",
    "            outcome_idx = random.randrange(len(lot)) #selects random index in lottery\n",
    "            lot[outcome_idx]['out'] = _simple_lottery() #replaces outcome at that index with another simple lottery\n",
    "        lotteries.append(lot) #adds the lottery to the list of lotteries\n",
    "    \n",
    "    return lotteries\n",
    "from pprint import pprint #import pprint for pretty-printing complex structures\n",
    "pprint(make_random_lotteries())\n",
    "print() #print a blank line for readability\n",
    "pprint(make_random_lotteries(number=3, max_pay=50, compound=True, negative=True))"
   ]
  },
  {
   "cell_type": "markdown",
   "metadata": {},
   "source": [
    "## Step Three: Code an expected value function and expected utility function"
   ]
  },
  {
   "cell_type": "markdown",
   "metadata": {},
   "source": [
    "### Expected Value Coded Here"
   ]
  },
  {
   "cell_type": "code",
   "execution_count": 54,
   "metadata": {},
   "outputs": [],
   "source": [
    "def expected_value(lottery):\n",
    "    \"\"\"Calculate expected value of a lottery\n",
    "    \n",
    "        arg:\n",
    "            lottery, list of dictioaries\n",
    "        \n",
    "        returns:\n",
    "            ev, float, expected value of the lottery\n",
    "    \"\"\"\n",
    "    ev = 0.0 #starting the expected value at 0.0 to add to through the code\n",
    "    for dict in lottery: #loops through each dictionary in the lottery list\n",
    "        out = dict['out'] #gets the outcome from the dictionary\n",
    "        prob = dict['prob'] #gets the probability from the dictionary\n",
    "        if isinstance(out, list): #if (out) is a list, this outcome is a compound or nested lottery\n",
    "            ev += prob * expected_value(out) #getting the expected value of the inner lottery (out) and multilping it by the outcomes probabiliy p. This is the weight added to the running total ev\n",
    "        else:\n",
    "            ev += prob * float(out) #here (out) is just a number so I made it a float and multiplied by probablility to get weight to add to ev\n",
    "        \n",
    "    #TODO Expected Value Calculation\n",
    "    return ev"
   ]
  },
  {
   "cell_type": "code",
   "execution_count": 52,
   "metadata": {},
   "outputs": [
    {
     "name": "stdout",
     "output_type": "stream",
     "text": [
      "expected value = 5.0\n",
      "expected value = 7.5\n"
     ]
    }
   ],
   "source": [
    "# Text expected value function\n",
    "lottery = [{'out':0, 'prob':0.5}, {'out':10, 'prob':0.5}]\n",
    "print(f\"expected value = {expected_value(lottery)}\")\n",
    "compound_lottery = [{'out':lottery, 'prob':0.5}, {'out':10, 'prob':0.5}]\n",
    "print(f\"expected value = {expected_value(compound_lottery)}\")"
   ]
  },
  {
   "cell_type": "code",
   "execution_count": 53,
   "metadata": {},
   "outputs": [
    {
     "name": "stdout",
     "output_type": "stream",
     "text": [
      "<class 'function'> <function linear_utility at 0x10dd17380>\n",
      "utility of 10 = 12.5\n",
      "or\n",
      "utility of 10 = 12.5\n"
     ]
    }
   ],
   "source": [
    "# You can always assign a variable to a function and pass a function to a function.  Here is an example.\n",
    "\n",
    "def u(m, f):\n",
    "    return f(m)\n",
    "    \n",
    "m = 10\n",
    "util = linear_utility\n",
    "print(type(util), util)\n",
    "\n",
    "print(f\"utility of {m} = {u(m, util)}\")\n",
    "print('or')\n",
    "print(f\"utility of {m} = {u(m, linear_utility)}\")\n"
   ]
  },
  {
   "cell_type": "markdown",
   "metadata": {},
   "source": [
    "### Code Expected Utility Here"
   ]
  },
  {
   "cell_type": "code",
   "execution_count": 55,
   "metadata": {},
   "outputs": [],
   "source": [
    "def expected_utility(lottery, u):\n",
    "    \"\"\"Calculate expected utility of a lottery\n",
    "    \n",
    "        arg:\n",
    "            lottery, list of dictioaries containing \n",
    "                     keys, values {'prob': pr, 'outcome': out}\n",
    "                         pr, float between 0.0 and 1.0 inclusive\n",
    "                         out, either another lottery or a float payoff\n",
    "                     \n",
    "            u, utility function, returns utility of a payoff outcome\n",
    "        \n",
    "        returns:\n",
    "            eu, float, expected utility of the lottery\n",
    "    \"\"\"\n",
    "    eu = 0.0 #starting expected utility at 0.0 to add to through the code\n",
    "    for dict in lottery: #loops through each dictionary in the lottery list\n",
    "        prob = dict['prob'] #gets the probability from the dictionary\n",
    "        out = dict.get('out') # gets the outcome from the dictionary \n",
    "        if isinstance(out, list): #if (out) is another lottery\n",
    "            eu += prob * expected_utility(out, u) #if (out) is another lottery, this is recursion\n",
    "        else: \n",
    "            eu += prob * u(float(out)) #calculates utility of outcome and weights by probability to add to expected utility\n",
    "\n",
    "    # TODO: Insert Code Here\n",
    "    return eu"
   ]
  },
  {
   "cell_type": "code",
   "execution_count": 56,
   "metadata": {},
   "outputs": [
    {
     "name": "stdout",
     "output_type": "stream",
     "text": [
      "expected utility = 8.75\n",
      "expected utility = 10.625\n"
     ]
    }
   ],
   "source": [
    "#Test for the expected utility function\n",
    "lottery = [{'out': 0, 'prob': 0.5}, {'out': 10, 'prob': 0.5}]\n",
    "print(f\"expected utility = {expected_utility(lottery, linear_utility)}\")\n",
    "\n",
    "compound_lottery = [{'out': lottery, 'prob': 0.5}, {'out': 10, 'prob': 0.5}]\n",
    "print(f\"expected utility = {expected_utility(compound_lottery, linear_utility)}\")"
   ]
  },
  {
   "cell_type": "markdown",
   "metadata": {},
   "source": [
    "## Step Four: complementary functions\n",
    "\n",
    "In this step you will add three complementary functions.  The first function reduces a compound lottery to a simple lottery.  The second function calculates the certainty equivalent of a simple lottery.  The third calculates the risk premium of a lottery.  "
   ]
  },
  {
   "cell_type": "code",
   "execution_count": 59,
   "metadata": {},
   "outputs": [],
   "source": [
    "def reduce_lottery(lottery):\n",
    "    \"\"\" Reduces compound lottery to a simple lottery.\n",
    "    \n",
    "        A compound lottery has sub-lotteries as outcomes.\n",
    "        A simple lottery only has payoffs as outcomes.\n",
    "        \n",
    "        args:\n",
    "            lottery, list of dictionaries. Each dictionary has keys:\n",
    "                'out': either a float payoff or another lottery (list of dictionaries)\n",
    "                'prob': float probability of this outcome.\n",
    "        returns:\n",
    "            simple_lottery, list of dictionaries with no sub-lottery.\n",
    "    \"\"\"\n",
    "    payoff_prob = {} #starts a dictionary to hold payoffs and their total probabilities\n",
    "\n",
    "    def walk(Lot, weight): #walks down each sub-lottery and multiplies probabilities until it gets to a numerical value instead of another sub-lottery\n",
    "        for outcome in Lot: #for each outcome dictionary in this lottery list\n",
    "            prob = outcome['prob'] * weight #multipy the probability on each sub branch by the probability that we got already (weight)\n",
    "            out = outcome['out'] #gets the outcome from the dictionary\n",
    "            if isinstance(out, list):#if the outcome is another lottery, go deeper, and carry the multiplied probablility \n",
    "                walk(out, prob) #recursion to go deeper into the sub-lottery\n",
    "            else:\n",
    "                x = float(out) #when the outcome is a number instead of a sub-lottery, convert to float\n",
    "                payoff_prob[x] = payoff_prob.get(x, 0.0) + prob #if the payoff is a number, add the probability to the total for that payoff in the dictionary\n",
    "    walk(lottery, 1.0) #starts the walking process with initial weight of 1.0\n",
    "\n",
    "    simple_lottery = [{'out': x, 'prob': payoff_prob[x]} for x in sorted(payoff_prob)] #builds the simple lottery list of dictionaries from the payoff_prob dictionary\n",
    "    return simple_lottery"
   ]
  },
  {
   "cell_type": "code",
   "execution_count": null,
   "metadata": {},
   "outputs": [
    {
     "name": "stdout",
     "output_type": "stream",
     "text": [
      "[{'out': 0.0, 'prob': 0.3}, {'out': 10.0, 'prob': 0.7}]\n"
     ]
    }
   ],
   "source": [
    "#example for reduced lottery above\n",
    "inside_lottery = [{'out': 0, 'prob': 0.5}, {'out': 10, 'prob': 0.5}]\n",
    "\n",
    "outside_lottery = [{'out': inside_lottery, 'prob': 0.6}, {'out': 10, 'prob': 0.4}]\n",
    "\n",
    "print(reduce_lottery(outside_lottery))\n",
    "\n",
    "\"\"\"What is happening in the output?\n",
    "since the walk starts with a weight of 1, it is multiplied by the first probability of 0.6 for the outside lottery, giving 0.6*0.5 = 0.3 for the outcome of 0, and 0.6*0.5 = 0.3 for the outcome of 10 from the inside lottery.\n",
    "Then, the second outcome of the outside lottery is just a direct outcome of 10 with probability 0.4.\n",
    "For the final simple lottery, the outcome of 0 has probability 0.3, and the outcome of 10 has total probability 0.3 + 0.4 = 0.7.\n",
    "\"\"\""
   ]
  },
  {
   "cell_type": "code",
   "execution_count": 63,
   "metadata": {},
   "outputs": [],
   "source": [
    "def certainty_equivalent(lottery, u):\n",
    "    \"\"\" Returns the certainty equivalent (ce) of a lottery.\n",
    "    \n",
    "        u(ce) = expected_utility(lottery, u)\n",
    "        \n",
    "        args:\n",
    "            lottery, list of dictionaries.\n",
    "            u, utility function defined over payoffs.\n",
    "        returns:\n",
    "            ce, float, certainty equivalent\n",
    "    \"\"\"\n",
    "    eu = expected_utility(lottery, u) #eu is the probablility weighted average of utilities of all outcomes in the lottery\n",
    "\n",
    "    simple = reduce_lottery(lottery) #from the previous code block, gets rid of any sub-lotteries\n",
    "    low = min(outcome['out'] for outcome in simple) #go through all the outcomes in the simple and find the minimum\n",
    "    high = max(outcome['out'] for outcome in simple) #go through all the outcomes in the simple and find the maximum\n",
    "\n",
    "    if abs(high-low) < 1e-12: #if the max and min found above are the same (within tolerance), the certainty equivalent will just be that payoff\n",
    "        return float(low) #returns the payoff as a float\n",
    "    \n",
    "    for _ in range(100): #using _ since we don't need the loop index and just want to repeat 100 times\n",
    "        mid = 0.5 * (low + high) #finding the middle point between low and high \n",
    "        if u(mid) < eu: #if the mid point is less than expected utility, the payoff is too low\n",
    "            low = mid #move the low up to mid to create a new lower bound\n",
    "        else:\n",
    "            high = mid #this means payoff is too high so we move high down to mid point to create a new upper bound\n",
    "        if (high - low) < 1e-9: #if the interval between the max and min tests gets small enough, return the midpoint as the certainty equivalent\n",
    "            break\n",
    "    return 0.5 * (low + high)"
   ]
  },
  {
   "cell_type": "code",
   "execution_count": 64,
   "metadata": {},
   "outputs": [
    {
     "name": "stdout",
     "output_type": "stream",
     "text": [
      "4.999999999708962\n"
     ]
    }
   ],
   "source": [
    "#example for certainty equivalent\n",
    "def linear_utility(m, a=5, b=0.75):\n",
    "    return a + b*m\n",
    "lottery = [{'out': 0, 'prob': 0.5}, {'out': 10, 'prob': 0.5}]\n",
    "\n",
    "print(certainty_equivalent(lottery, linear_utility))"
   ]
  },
  {
   "cell_type": "code",
   "execution_count": null,
   "metadata": {},
   "outputs": [],
   "source": [
    "def risk_premium(lottery, u):\n",
    "    \"\"\" Returns the risk premium (rp) of a lottery.\n",
    "    \n",
    "        rp = expected_value(lottery) - certainty_equivalent(lottery, u)\n",
    "        \n",
    "        args:\n",
    "            lottery, list of dictionaries.\n",
    "            u, utility function defined over payoffs.\n",
    "        returns:\n",
    "            rp, float, risk premium\n",
    "    \"\"\"\n",
    "    ev = expected_value(lottery) #expected value of the lottery\n",
    "    tol = 1e-9 #tolerance to deal with rounding error\n",
    "    ce = certainty_equivalent(lottery, u)\n",
    "\n",
    "    rp = ev - ce #risk premium is expected value minus certainty equivalent\n",
    "    if abs(rp) < tol: #if risk premium is very close to 0 within tolerance\n",
    "        rp = 0.0 #sets risk premium to exactly 0.0\n",
    "    return float (rp) "
   ]
  },
  {
   "cell_type": "markdown",
   "metadata": {},
   "source": [
    "## Step Five:  Lottery choice function\n",
    "\n",
    "Chooses lottery from list with the highest expected utility."
   ]
  },
  {
   "cell_type": "code",
   "execution_count": 66,
   "metadata": {},
   "outputs": [],
   "source": [
    "def lottery_choice(lottery_list, u):\n",
    "    \"\"\"Calculate expected utility of a lottery\n",
    "    \n",
    "        arg:\n",
    "            lottery_list, list of lotteries \n",
    "            u, utility function, returns utility of a payoff outcome\n",
    "        \n",
    "        returns:\n",
    "            lottery_index, eu  expected utility of the lottery\n",
    "        \n",
    "            the index of the lottery in lottery_list with the highest expected utility and its expected utility value\n",
    "    \"\"\"\n",
    "    eu = 0.0 #stores the expected utility of the best lottery\n",
    "    lottery_index = None #stores the index of the best lottery in None\n",
    "\n",
    "    best_eu = float(\"-inf\") #stores the best EU at negative infinity so it's lower than any possible expected utility\n",
    "    best_idx = None #stores the index of the best lottery at None\n",
    "\n",
    "    for lot_idx, lot in enumerate(lottery_list): #loops through each lottery in the lottery list\n",
    "        eu_current = expected_utility(lot, u) #goes through each lottery and computes the expected utility with expected_utility\n",
    "        if eu_current > best_eu: #if the expected utility of this lottery is more than the best found so far\n",
    "            best_eu = eu_current #updates the best expected utility found\n",
    "            best_idx = lot_idx #if the current eu is more than the previous biggest, replace it\n",
    "    lottery_index = best_idx\n",
    "    eu = float(best_eu)\n",
    "    return lottery_index, eu"
   ]
  },
  {
   "cell_type": "markdown",
   "metadata": {},
   "source": [
    "## Step Six:  The Holt-Laury procedure\n",
    "\n",
    "This is a well known procedure published by Holt and Laury and avialable on JSTOR [here](https://www.jstor.org/stable/3083270?Search=yes&resultItemClick=true&searchText=Holt&searchText=and&searchText=Laury&searchUri=%2Faction%2FdoAdvancedSearch%3Fc5%3DAND%26amp%3Bc6%3DAND%26amp%3Bf1%3Dall%26amp%3Bc3%3DAND%26amp%3Bq2%3D%26amp%3Bf5%3Dall%26amp%3Bq0%3DHolt%2Band%2BLaury%26amp%3Bf4%3Dall%26amp%3Bc4%3DAND%26amp%3Bsd%3D%26amp%3Bgroup%3Dnone%26amp%3Bq5%3D%26amp%3Bla%3D%26amp%3Bf0%3Dall%26amp%3Bisbn%3D%26amp%3Bf6%3Dall%26amp%3Bacc%3Don%26amp%3Bc1%3DAND%26amp%3Bq4%3D%26amp%3Bf3%3Dall%26amp%3Bq1%3D%26amp%3Bq6%3D%26amp%3Bpt%3D%26amp%3Bc2%3DAND%26amp%3Bf2%3Dall%26amp%3Bq3%3D%26amp%3Bed%3D&refreqid=search%3A63236d1b94e184a59d9526d0f794a141&socuuid=5613aad0-8774-4367-aeab-53105ec2672c&socplat=email).  In this step you code two functions.  The first function makes the list of Holt-Laury lottery choices.  The second function implements the Holt-Laury procedure.  Depending on the value of a default argument the subject will either be a human inputing choices of your `lottery_choice` function."
   ]
  },
  {
   "cell_type": "code",
   "execution_count": 68,
   "metadata": {},
   "outputs": [],
   "source": [
    "def build_holt_laury():\n",
    "    \"\"\"Returns list of Holt-Laury lottery pairs.\n",
    "    \n",
    "        returns:\n",
    "            holt_laury_lotteries, list of lists\n",
    "                inner list is a pair of lotteries for choice\n",
    "        \n",
    "    Each pair has two lotteries, A and B. Lottery A is the safer option,\n",
    "    paying 6 with probability prob, else 4. Lottery B is the riskier option,\n",
    "    paying 10 with probability prob, else 1. The probability prob varies from\n",
    "    0.1 to 1.0 in increments of 0.1 across the 10 pairs.\n",
    "    \n",
    "    \"\"\"\n",
    "    high_A, low_A = 6.0, 4.0 #these are the payoffs, safer option A pays 6 with the probability p, else 4\n",
    "    high_B, low_B = 10.0, 1.0 #same concept as above but riskier\n",
    "    \n",
    "    pairs = [] #starts an empty list to hold all the lottery pairs\n",
    "    for prob_increment in range(1,11): #loops through 1 to 10 to create probabilities from 0.1 to 1.0\n",
    "        prob = prob_increment / 10.0 #this is looping through 1-10 to make the probabilities 0.1,0.2...1.0\n",
    "\n",
    "        option_A = [\n",
    "            {'prob': prob, 'out': high_A}, #lottery A paying 6 with probability prob\n",
    "            {'prob': 1-prob, 'out': low_A}, #lottery A paying 4 with probability 1-prob\n",
    "        ]\n",
    "\n",
    "        option_B = [\n",
    "            {'prob': prob, 'out': high_B}, #lottery B paying 10 with probability prob\n",
    "            {'prob': 1-prob, 'out': low_B}, #lottery B paying 1 with probability 1-prob\n",
    "        ]\n",
    "\n",
    "        pairs.append([option_A, option_B]) #adds the pair of lotteries to the list of pairs\n",
    "    return pairs"
   ]
  },
  {
   "cell_type": "code",
   "execution_count": 75,
   "metadata": {},
   "outputs": [
    {
     "name": "stdout",
     "output_type": "stream",
     "text": [
      "[0, 0, 0, 0, 1, 1, 1, 1, 1, 1]\n"
     ]
    }
   ],
   "source": [
    "def holt_laury_choices(lottery_list, u = None):\n",
    "    \"\"\"Returns list of lottery choices from lottery_list\n",
    "    \n",
    "        If u == None, human makes choices, otherwise\n",
    "            lottery choice(inner_list, u) makes choices.\n",
    "    \n",
    "        args:\n",
    "            lottery_list = [[lottery, ..., lottery], ..., \n",
    "                            [lottery, ..., lottery]]\n",
    "            u, utility function over payoffs, or None\n",
    "        returns:\n",
    "            lottery_list_choices\n",
    "                list of integers, 0 or 1, for each pair in lottery_list\n",
    "            \n",
    "    \"\"\"\n",
    "    choices = [] #starts an empty list to hold the choices made\n",
    "    for row_idx, pair in enumerate(lottery_list): #Go through each holt laury pair \n",
    "        if u is None: #if no utility function is provided, ask the user to make the choice\n",
    "            while True: #keeps asking until valid input\n",
    "                resp = input(f\"Row {row_idx}: choose 0 (left) or 1 (right): \").strip() #asks user to choose which lottery it wants and removes whitespace\n",
    "                if resp in (\"0\", \"1\"): #checks if input is valid\n",
    "                    choices.append(int(resp)) #asks user to choose which lottery it wants and appends their choice to the list choices \n",
    "                    break\n",
    "                else: \n",
    "                    print(\"Please enter 0 or 1.\") #prompts user to re-enter if input invalid\n",
    "        else:\n",
    "            idx, _eu = lottery_choice(pair, u) #uses previous function to choose the higher eu lottery in the row. Used _eu to ignore the second return value since we don't need it here\n",
    "            choices.append(idx) #append the chosen index to the choices list\n",
    "    return choices\n",
    "lottery_list = build_holt_laury() \n",
    "def linear_utility(m): \n",
    "    return m #simple linear utility function for testing\n",
    "choices = holt_laury_choices(lottery_list, u=linear_utility) \n",
    "print(choices)"
   ]
  },
  {
   "cell_type": "markdown",
   "metadata": {},
   "source": [
    "## Step Seven:  Stepwise elicitation algorithm\n",
    "\n",
    "The stepwise elicitation algorithm will first build a piecewise linear utility function for a human subject. You will then have your piecewise linear function make choices in the Holt-Laury procedure.  "
   ]
  },
  {
   "cell_type": "markdown",
   "metadata": {},
   "source": [
    "### Algorithm\n",
    "\n",
    "Step One: Set U(min) = 0 and U(max) = 100.\n",
    "\n",
    "Step Two:  Ask for ce_1 of lottery = `[min, .5, max, .5]` to find U(ce_1) (see how below)\n",
    "\n",
    "Step Three: Now ask for ce_2 of `[min, .5, ce_1, .5]` to find U(ce_2)\n",
    "\n",
    "Step Four:  Now ask for ce_3 of `[ce_1, .5, max, .5]` to find U(ce_3)\n",
    "\n",
    "Step n+1:  Take any two number x < y, where you know U(x) and U(y) from previous steps, and ask for ce_n of `[x, .5, y, .5]` to find U(ce_n).\n",
    "\n",
    "Last step:  Given that you now know `[U(min), U(x1), ..., U(xN), U(max)]`, build a piecewise linear function V through these points.\n",
    "\n",
    "#### How to compute U(ce_n)\n",
    "\n",
    "This assumes ce_n was requested from a lottery `[x, .5, y, .5]` where U(x) and U(y) are know.    \n",
    "\n",
    "Since `EU(lottery) = U(ce)`, we now know, `U(ce) = .5*U(x) + .5*U(y)`.\n",
    "\n",
    "For step two, `U(ce_1) = .5*U(min) + .5*U(max)` = `.5*0 + .5*100 ` = ` 50`.\n"
   ]
  },
  {
   "cell_type": "code",
   "execution_count": null,
   "metadata": {},
   "outputs": [
    {
     "name": "stdout",
     "output_type": "stream",
     "text": [
      "\n",
      "Elicited (payoff, U):\n",
      "(0, 0)\n",
      "(10, 6.25)\n",
      "(12.5, 12.5)\n",
      "(20, 18.75)\n",
      "(25, 25)\n",
      "(30, 31.25)\n",
      "(37.5, 37.5)\n",
      "(50, 50)\n",
      "(62.5, 62.5)\n",
      "(75, 75)\n",
      "(87.5, 87.5)\n",
      "(100, 100)\n",
      "\n",
      "Example: U_hat(50) = 31.25\n",
      "U_hat(35) = 21.875\n"
     ]
    }
   ],
   "source": [
    "import math\n",
    "from typing import Callable, List, Tuple, Optional #Type hints to improve code readability\n",
    "\n",
    "def stepwise_elicitation(min_pay: float, max_pay: float, num_questions: int = 10, get_ce: Optional[Callable[[float, float], float]] = None):  #Optional... means either none or a function that takes two floats and returns a float. \n",
    "    \"\"\"\n",
    "    Run the stepwise elicitation procedure.\n",
    "\n",
    "    Args: \n",
    "        min_pay (float): Minimum payoff value (x_min). \n",
    "        max_pay (float): Maximum payoff value. (x_max).\n",
    "        num_questions (int): how many CE questions to ask. \n",
    "        get_ce: Function to get certainty equivalent for a given low and high payoff (x, y).\n",
    "                If None, prompts user for input.\n",
    "    \n",
    "    Returns:\n",
    "        points: a sorted list of (x, U(x)) including min and max and all elicited points.\n",
    "        U(min_pay) = 0.0, U(max_pay) = 100.0\n",
    "        U(ce) = 0.5*U(x) + 0.5*U(y)\n",
    "\n",
    "    \"\"\"\n",
    "\n",
    "    points = [(min_pay, 0.0), (max_pay, 100.0)] #starts with the min and max payoffs and their utilities \n",
    "\n",
    "    segments = [(min_pay, max_pay)] #starts with one segment from min to max payoff\n",
    "\n",
    "    def ask_ce(low_payoff: float, high_payoff: float):\n",
    "        \"\"\" Ask for certainty equivalent between low_payoff and high_payoff.\n",
    "        \n",
    "            If get_ce function is provided, use it to get the CE.\n",
    "            Otherwise, prompt user for input.\n",
    "        \"\"\"\n",
    "        if get_ce is not None: #if a function is provided to get certainty equivalent\n",
    "            return float(get_ce(low_payoff, high_payoff)) #calls the provided function to get the certainty equivalent\n",
    "        while True:\n",
    "            try:\n",
    "                resp = float(input(f\"Certainty equivalent for lottery [{low_payoff}, 0.5; {high_payoff}, 0.5]? Enter a number between {low_payoff} and {high_payoff}: \")) #asks user for certainty equivalent between low and high payoff\n",
    "                if low_payoff <= resp <= high_payoff: #if low payoff is less than or equal to response and response is less than or equal to high payoff\n",
    "                    return resp #returns the response\n",
    "            except ValueError: \n",
    "                pass #if input is invalid, just passes to the next line\n",
    "            print(f\"Please enter a number between {low_payoff} and {high_payoff}.\") #prompts user to re-enter if input invalid\n",
    "\n",
    "    def utility_at_exact(payoff_value: float):\n",
    "        \"\"\"\n",
    "        Return U(payoff_value) for an already-known payoff in 'points'.\n",
    "        Raises ValueError if payoff_val not in points.\n",
    "        \"\"\"\n",
    "        for payoff, utility_value in points: #loops through each (payoff, utility) tuple in points\n",
    "            if payoff == payoff_value: #if the payoff matches the requested payoff value\n",
    "                return utility_value #returns the corresponding utility value\n",
    "        raise ValueError(f\"utility_at_exact requested for a point not yet in 'points'.\") #raises error if payoff value not found in points\n",
    "    \n",
    "    def widest_segment() -> Tuple[float, float]:\n",
    "        \"\"\"\n",
    "        Remove and return the segment with the largest (left, right) width from 'segments'.\n",
    "\n",
    "        \"\"\"\n",
    "        segments.sort(key=lambda seg: seg[1] - seg[0], reverse=True) #sorts the segments by width in descending order.Lambda means an anonymous function that takes a tuple seg and returns the width seg[1] - seg[0]\n",
    "        return segments.pop(0) #removes and returns the widest segment\n",
    "    \n",
    "    for _ in range(num_questions):\n",
    "\n",
    "        left_payoff, right_payoff = widest_segment() #gets the widest segment to ask about\n",
    "\n",
    "        ce_payoff = ask_ce(left_payoff, right_payoff) #asks for the certainty equivalent between the left and right payoffs\n",
    "\n",
    "        ce_utility = 0.5 * utility_at_exact(left_payoff) + 0.5 * utility_at_exact(right_payoff) #calculates the utility at the certainty equivalent using the utilities of the left and right payoffs\n",
    "\n",
    "        points.append((ce_payoff, ce_utility)) #adds the new (payoff, utility) point to the list of points\n",
    "        points.sort(key=lambda p: p[0]) #sorts the points by payoff value. Lambda means an anonymous function that takes a tuple p and returns the first element p[0]\n",
    "\n",
    "        if ce_payoff - left_payoff > 1e-9: #if the new certainty equivalent is significantly greater than the left payoff\n",
    "            segments.append((left_payoff, ce_payoff)) #adds a new segment from left payoff to certainty equivalent\n",
    "        if right_payoff - ce_payoff > 1e-9: #if the new certainty equivalent is significantly less than the right payoff\n",
    "            segments.append((ce_payoff, right_payoff)) #adds a new segment from certainty equivalent to right payoff\n",
    "    return points\n",
    "\n",
    "\n",
    "def build_piecewise_utility(points: List[Tuple[float, float]]):\n",
    "    \"\"\" \n",
    "    Given a sorted list of (payoff, utility_value) points, return a function U_hat(payoff) that linearly interpolates between the points and clamps outside the range.\n",
    "    \"\"\"\n",
    "\n",
    "    sorted_points = sorted(points, key=lambda p: p[0]) #sorts the points by payoff value. Lambda means an anonymous function that takes a tuple p and returns the first element p[0]\n",
    "\n",
    "    def U_hat(payoff: float):\n",
    "\n",
    "        if payoff <= sorted_points[0][0]: #if the payoff is less than or equal to the minimum payoff in the points\n",
    "            return sorted_points[0][1] #returns the utility value at the minimum payoff\n",
    "        if payoff >= sorted_points[-1][0]: #if the payoff is greater than or equal to the maximum payoff in the points\n",
    "            return sorted_points[-1][1] #returns the utility value at the maximum payoff\n",
    "\n",
    "        for (x_left, u_left), (x_right, u_right) in zip(sorted_points, sorted_points[1:]): #loops through each pair of consectutive points. Zip pairs each point with the next point in the list\n",
    "            if abs(x_right - x_left) < 1e-12: #if the two payoffs are effectively the same within tolerance\n",
    "                return u_left #returns the utility value at the left payoff\n",
    "            weight = (payoff-x_left) / (x_right - x_left) #calculates the weight for linear interpolation between the two points\n",
    "            return u_left + weight * (u_right - u_left) #returns the interpolated utility value between the two points\n",
    "        return sorted_points[-1][1] #fallback return the maximum utility value\n",
    "    return U_hat\n",
    "\n",
    "#Test code for stepwise elicitation and piecewise utility\n",
    "if __name__ == \"__main__\": #only runs when this file is executed directly, not when imported as a module\n",
    "    points = stepwise_elicitation(min_pay=0.0, max_pay=100.0, num_questions=10, get_ce=None) #runs stepwise elicitation with user input for 10 questions between payoffs 0 and 100\n",
    "    print(\"\\nElicited (payoff, U):\") #prints header for the elicited points\n",
    "    for payoff, utility in points: #loops through each (payoff, utility) tuple in points\n",
    "        print(f\"({payoff:.6g}, {utility:.6g})\") #prints each elicited point with 6 significant digits\n",
    "\n",
    "    U_hat = build_piecewise_utility(points)\n",
    "    \n",
    "    # Example call to show it works:\n",
    "    print(\"\\nExample: U_hat(50) =\", U_hat(50.0))\n",
    "    print(\"U_hat(35) =\", U_hat(35.0)) #prints the utility at payoff 35 using the piecewise utility function"
   ]
  },
  {
   "cell_type": "markdown",
   "metadata": {},
   "source": [
    "## Step Eight:  risk module\n",
    "\n",
    "In this step, you will place all of your functions into .py files using visual-studio code. "
   ]
  }
 ],
 "metadata": {
  "kernelspec": {
   "display_name": "base",
   "language": "python",
   "name": "python3"
  },
  "language_info": {
   "codemirror_mode": {
    "name": "ipython",
    "version": 3
   },
   "file_extension": ".py",
   "mimetype": "text/x-python",
   "name": "python",
   "nbconvert_exporter": "python",
   "pygments_lexer": "ipython3",
   "version": "3.13.5"
  }
 },
 "nbformat": 4,
 "nbformat_minor": 4
}
