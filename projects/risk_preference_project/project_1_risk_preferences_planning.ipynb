{
 "cells": [
  {
   "cell_type": "markdown",
   "metadata": {},
   "source": [
    "# Project 1:  Risk Preferences and Elicitation\n",
    "# GRADING: DOES IT WORK? GOOD DOCUMENTATION? GOOD NAMES FOR VARIABLES? \n",
    "\n",
    "A typical project has three stages not necessarily done in any specific order.\n",
    "\n",
    "1.  Plan your project.  This will be done in this notebook. \n",
    "2.  Set up your editor (virtual-Studio) code, create a virtual environment, and do an initial commit to your GitHub repository.\n",
    "3.  Test your project.  Here we will talk about three kinds of tests.  Code tests, logging, and user API.  All of this will be done in a testing notebook and visual studio code.     \n",
    "\n",
    "In this project, we will use a procedural programming approach to build a `risk` module to model and elicit risk preferences.  This project is broken down into some functions which are described in the steps described below:\n",
    "\n",
    "* Step 1:  Code `utility functions` defined on lottery outcomes.  \n",
    "* Step 2:  Decide on, and code, a general `lottery data structure`.\n",
    "* Step 3:  Code an `expected value function` and `expected utility function`.\n",
    "* Step 4:  Code `complementary functions` for risk preferences. \n",
    "* Step 5:  Code a `lottery choice function`.\n",
    "* Step 6:  Code the `Holt-Laury procedure` for risk preference elicitation.\n",
    "* Step 7:  Code the `step-wise elicitation algorithm`.\n",
    "* Step 8:  Build a `risk preference module` called `risk`."
   ]
  },
  {
   "cell_type": "markdown",
   "metadata": {},
   "source": [
    "## Step One:  Code utility functions\n",
    "\n",
    "Research the literature starting [here](https://en.wikipedia.org/wiki/Risk_aversion) and find three additional utility functions that you can use to model risk preferences.  Build these utility functaions as python functions in the cells below.  I will start you out with a simple one. "
   ]
  },
  {
   "cell_type": "code",
   "execution_count": 66,
   "metadata": {},
   "outputs": [],
   "source": [
    "def linear_utility(m, a=5, b=.75):\n",
    "    \"\"\"linear utility of money\n",
    "    \n",
    "        args: m, float, amount of money.\n",
    "              a, float, intercept.\n",
    "              b, float, slope.\n",
    "              \n",
    "        returns: util, float, utility of money m.    \n",
    "    \"\"\"\n",
    "    util = a + b*m\n",
    "    return util"
   ]
  },
  {
   "cell_type": "code",
   "execution_count": 67,
   "metadata": {},
   "outputs": [
    {
     "name": "stdout",
     "output_type": "stream",
     "text": [
      "12.5\n",
      "expected value = 5.0, expected utility = 8.75\n"
     ]
    }
   ],
   "source": [
    "# test functions\n",
    "\n",
    "m1 = 0\n",
    "m2 = 10\n",
    "p1 = .5\n",
    "p2 = .5\n",
    "\n",
    "# test linear_utility function\n",
    "print(linear_utility(m2))\n",
    "print(f\"expected value = {p1*m1 + p2*m2}, expected utility = {p1*linear_utility(m1) + p2*linear_utility(m2)}\")"
   ]
  },
  {
   "cell_type": "markdown",
   "metadata": {},
   "source": [
    "# Additional utility functions\n",
    "\n",
    "1. CARA (Constant Absolute Risk Aversion)\n",
    "2. CRRA (Constant Relative Risk Aversion)\n",
    "3. Quadratic utility"
   ]
  },
  {
   "cell_type": "code",
   "execution_count": 68,
   "metadata": {},
   "outputs": [
    {
     "name": "stdout",
     "output_type": "stream",
     "text": [
      "Input error: could not convert string to float: ''. Please try again.\n",
      "\n",
      "Input error: could not convert string to float: ''. Please try again.\n",
      "\n",
      "u(m) = 0.9999999999861121\n"
     ]
    }
   ],
   "source": [
    "import math\n",
    "def cara(m, a=0.5):\n",
    "    \"\"\"Exponential Utility Constant Absolute Risk Aversion (CARA): u(m) = 1 - exp(-a*m)\n",
    "\n",
    "        args:\n",
    "            m(float): amount of money (payoff)\n",
    "            a(float): >0, absolute risk aversion parameter (larger a, more risk averse)\n",
    "        \n",
    "        returns:\n",
    "            util: float, utility of money m\n",
    "\n",
    "        raises:\n",
    "            ValueError: if a <= 0\n",
    "    \"\"\"\n",
    "    if a <=0:\n",
    "        raise ValueError(\"Parameter 'a' must be > 0.\")\n",
    "    return 1 - math.exp(-a * m) #this is returning the utility of money\n",
    "while True:\n",
    "    try:\n",
    "        m_val = float(input(\"Enter m (Money/Payoff): \"))\n",
    "        a_val = float(input(\"Enter a (> 0, risk-aversion parameter): \"))\n",
    "        u = cara(m_val, a=a_val)\n",
    "        print(f\"u(m) = {u}\")\n",
    "        break\n",
    "    except ValueError as e:\n",
    "        print(f\"Input error: {e}. Please try again.\\n\")"
   ]
  },
  {
   "cell_type": "code",
   "execution_count": 69,
   "metadata": {},
   "outputs": [
    {
     "name": "stdout",
     "output_type": "stream",
     "text": [
      "u(m) = 0.2496\n"
     ]
    }
   ],
   "source": [
    "import math\n",
    "\n",
    "def crra(m, gamma=2.0):\n",
    "    \"\"\"Power Utility (CRRA). \n",
    "\n",
    "        u(m) = (m^(1-gamma)-1) / (1 - gamma)        if gamma != 1\n",
    "            = ln(m)                                if gamma ==1  \n",
    "        args:\n",
    "            m (float): > 0, money/wealth\n",
    "            gamma (float): > 0, coefficient of relative risk aversion (larger gamma, more risk averse)\n",
    "\n",
    "        returns: \n",
    "            util (float): utility of money m\n",
    "        \n",
    "        raises:\n",
    "            ValueError: if m <= 0 or gamma <= 0\n",
    "    \"\"\"\n",
    "    if m <= 0:\n",
    "        raise ValueError(\"Parameter 'm' must be > 0 for CRRA utility.\")\n",
    "    if gamma <= 0:\n",
    "        raise ValueError(\"Parameter 'gamma must be > 0.\")\n",
    "    if gamma == 1:\n",
    "        return math.log(m)\n",
    "    return (m**(1 - gamma) - 1) / (1 - gamma)\n",
    "while True:\n",
    "    try:\n",
    "        m_val = float(input(\"Enter m (> 0, money/wealth): \"))\n",
    "        gamma_val = float(input(\"Enter gamma (> 0, relative risk aversion): \"))\n",
    "        u = crra(m_val, gamma=gamma_val)\n",
    "        print(f\"u(m) = {u}\")\n",
    "        break\n",
    "    except ValueError as e:\n",
    "        print(f\"Input error: {e}. Please try again.\\n\")"
   ]
  },
  {
   "cell_type": "code",
   "execution_count": null,
   "metadata": {},
   "outputs": [
    {
     "name": "stdout",
     "output_type": "stream",
     "text": [
      "Input error: Inputs result in non-positive marginal utility (a - b*m <= 0). Choose smaller m or larger a, or smaller b.. Please try again. \n",
      "\n",
      "Input error: Inputs result in non-positive marginal utility (a - b*m <= 0). Choose smaller m or larger a, or smaller b.. Please try again. \n",
      "\n"
     ]
    }
   ],
   "source": [
    "def quadratic(m, a=1.0, b=0.1):\n",
    "    \"\"\"Quadratic utility: u(m) = a*m - 0.5*b*m^2\n",
    "    \n",
    "    args:\n",
    "        m (float): money/payoff\n",
    "        a (float): slope at zero wealth\n",
    "        b (float): > 0, curvature parameter (keeps the function concave)\n",
    "        \n",
    "    returns:\n",
    "        util (float): utility of money m\n",
    "\n",
    "    raises:\n",
    "        ValueError: if b <= 0 (would break concavity)\n",
    "        ValueError: if a - b*m <= 0 (would make marginal utility non-positive)\n",
    "    \"\"\"\n",
    "\n",
    "    if b <= 0:\n",
    "        raise ValueError(\"Parameter 'b' must be > 0 to keep utility concave.\")\n",
    "    if a - b*m <= 0:\n",
    "        raise ValueError(\"Inputs result in non-positive marginal utility (a - b*m <= 0). Choose smaller m or larger a, or smaller b.\")\n",
    "    util = a*m - 0.5*b*(m**2)\n",
    "    return util\n",
    "\n",
    "while True:\n",
    "    try:\n",
    "        m_val = float(input(\"Enter m (money/payoff): \"))\n",
    "        a_val = float(input(\"Enter a (baseline slope): \"))\n",
    "        b_val = float(input(\"Enter b (> 0, curvature): \"))\n",
    "\n",
    "        u = quadratic(m_val, a=a_val, b=b_val)\n",
    "        print(f\"u(m) = {u}\")\n",
    "        break\n",
    "    except ValueError as e:\n",
    "        print(f\"Input error: {e}. Please try again. \\n\")"
   ]
  },
  {
   "cell_type": "markdown",
   "metadata": {},
   "source": [
    "> You can think about additional utility functions you might want to include in this module."
   ]
  },
  {
   "cell_type": "markdown",
   "metadata": {},
   "source": [
    "## Step Two: Design and code lottery data structure  \n",
    "\n",
    "The simplest version of a lottery is a list of dictioaries, where each dictionary indicates an outcome and the probability, greater than or equal to 0, of that outcome happening.  Here is an example:\n",
    "\n",
    "```python\n",
    "lottery = [{'out':0, 'prob':0.5}, {'out':10, 'prob':0.5}]\n",
    "```\n",
    "Obviously the list can have as many dictioaries as we would like.  Lotteries must have the following additional property.  The sum of the probabilities accross the elements (or dictioaries) of the lottery must equal 1.0.  In addition the value associate with 'out' can be either a payoff as in the example or another lottery.  When this happens we call this a compound lottery.  Here is an example.\n",
    "\n",
    "```python\n",
    "compound_lottery = [{'out':lottery, 'prob':0.5}, {'out':10, 'prob':0.5}]\n",
    "```\n",
    "The first step in any lottery choice problem is to build the lotteries.  Lets define two functions to do this."
   ]
  },
  {
   "cell_type": "code",
   "execution_count": null,
   "metadata": {},
   "outputs": [
    {
     "name": "stdout",
     "output_type": "stream",
     "text": [
      "Building nested (compound) lottery for outcome 2...\n",
      "Auto-setting probability for outcome 2 to the remaining 0.500000 so total sums to 1.\n",
      "Auto-setting probability for outcome 3 to the remaining 0.000000 so total sums to 1.\n",
      "Your lottery: [{'out': 10.0, 'prob': 0.3}, {'out': [{'out': 10.0, 'prob': 0.5}, {'out': 10.0, 'prob': 0.5}], 'prob': 0.7}, {'out': 10.0, 'prob': 0.0}]\n"
     ]
    }
   ],
   "source": [
    "def input_lottery():\n",
    "    \"\"\"Builds a lottery from user input\n",
    "    \n",
    "        returns:  lottery, a list of dictionaries\n",
    "    \"\"\"\n",
    "    tol = 1e-9 #small tolerance I got from class to deal with rounding error\n",
    "    lottery = []\n",
    "\n",
    "#take out any \"for I in range\". Professor doesnt like that it doesnt know what im indexing through\n",
    "    while True:\n",
    "        try:\n",
    "            n = int(input(\"How many outcomes in this lottery? (integer >= 1): \"))\n",
    "            if n >= 1:\n",
    "                break\n",
    "            else:\n",
    "                print(\"Please enter an integer >= 1.\\n\")\n",
    "        except ValueError as e:\n",
    "            print(f\"Input error: {e}. Please try again.\\n\")\n",
    "    remaining = 1.0\n",
    "    for i in range(1, n+1):\n",
    "        while True:\n",
    "            t = input(f\"Outcome {i}: type 'n' for numeric payoff, 'l' for nested lottery: \").strip().lower()\n",
    "            if t in (\"n\", \"l\"):\n",
    "                break\n",
    "            print(\"Please type 'n' or 'l'.\\n\")\n",
    "        if t == \"n\":\n",
    "            while True:\n",
    "                try:\n",
    "                    out_val = float(input(f\"Enter payoff for outcome {i}: \"))\n",
    "                    break\n",
    "                except ValueError as e:\n",
    "                    print(f\"Input error: {e}. Please try again.\\n\")\n",
    "        else:\n",
    "            print(f\"Building nested (compound) lottery for outcome {i}...\")\n",
    "            out_val = input_lottery()\n",
    "        if i < n:\n",
    "             while True:\n",
    "                try:\n",
    "                    prob_val = float(input(f\"Enter probability for outcome {i} (remaining {remaining:.6f}): \"))\n",
    "                    if prob_val < 0:\n",
    "                        print(\"Probability must be >= 0.\\n\")\n",
    "                    elif prob_val > remaining + tol:\n",
    "                        print(f\"Probability cannot exceed the remaining {remaining:.6f}.\\n\")\n",
    "                    else:\n",
    "                        remaining -= prob_val\n",
    "                        break\n",
    "                except ValueError as e:\n",
    "                    print(f\"Input error: {e}. Please try again.\\n\")\n",
    "        else:\n",
    "            prob_val = remaining\n",
    "            if prob_val < -tol or prob_val > 1 + tol:\n",
    "                raise ValueError(\"Probabilities do not sum to 1. Please restart the lottery input.\")\n",
    "            prob_val = max(0.0, min(1.0, prob_val))\n",
    "            print(f\"Auto-setting probability for outcome {i} to the remaining {prob_val:.6f} so total sums to 1.\")\n",
    "        lottery.append({'out': out_val, 'prob': prob_val})\n",
    "    return lottery\n",
    "print(\"Your lottery:\", input_lottery())"
   ]
  },
  {
   "cell_type": "code",
   "execution_count": null,
   "metadata": {},
   "outputs": [
    {
     "name": "stdout",
     "output_type": "stream",
     "text": [
      "[[{'out': 38.35380300107462, 'prob': 0.14962519252687587}, {'out': 86.95077314585747, 'prob': 0.49340199151066655}, {'out': 46.26951319487264, 'prob': 0.3569728159624576}], [{'out': 27.715403436566977, 'prob': 0.008297567269067715}, {'out': 82.54638157138592, 'prob': 0.15039308461559375}, {'out': 57.04990050669224, 'prob': 0.22584729099074977}, {'out': 40.916301306012095, 'prob': 0.6154620571245887}]]\n",
      "[[{'out': [{'out': 30.669059580604113, 'prob': 0.4296298748441994}, {'out': -14.715902976968955, 'prob': 0.5016036018079739}, {'out': 22.555452927765955, 'prob': 0.06876652334782667}], 'prob': 0.16388722800817723}, {'out': -32.543081935807734, 'prob': 0.48577048434047676}, {'out': -38.79454438277384, 'prob': 0.35034228765134606}], [{'out': [{'out': -49.97177657861981, 'prob': 0.5019421685853949}, {'out': 25.7870220662752, 'prob': 0.13121894095077707}, {'out': -14.076668326968203, 'prob': 0.3668388904638281}], 'prob': 0.5352476522031248}, {'out': -24.02417765157894, 'prob': 0.4647523477968753}], [{'out': 10.876825776944678, 'prob': 0.5404914787992919}, {'out': -5.532779384411043, 'prob': 0.08982897910258862}, {'out': 14.55912960972924, 'prob': 0.025522868733833914}, {'out': [{'out': 30.865181781898173, 'prob': 0.5055911638658637}, {'out': 7.947679606239099, 'prob': 0.4944088361341363}], 'prob': 0.34415667336428557}]]\n"
     ]
    }
   ],
   "source": [
    "import random\n",
    "def make_random_lotteries(number=2, max_pay = 100, compound=False, negative=False):\n",
    "    \"\"\"Builds a random list of lotteries\n",
    "    \n",
    "        Lottery payoffs are random draws beteen min_pay and max_pay,\n",
    "        Lottery probabilities are random uniform draws that sum to one.\n",
    "    \n",
    "        args:\n",
    "            number = int > 0, number of lotteries in list.\n",
    "            compound = bool, if True allows compound lotteries one deep,\n",
    "            negative = bool, if False min_pay = 0, if True min_pay = -max_pay.\n",
    "    \"\"\"\n",
    "    min_pay = -float(max_pay) if negative else 0.0 #min_pay will be the negative of max_pay if it's negative\n",
    "    max_pay = float(max_pay)\n",
    "    def _simple_lottery():\n",
    "        k = random.randint(2, 4) #2-4 possible outcomes\n",
    "        payoffs = [random.uniform(min_pay, max_pay) for _ in range(k)]\n",
    "        weights = [random.random() for _ in range(k)]\n",
    "        total = sum(weights)\n",
    "        probs = [w / total for w in weights]\n",
    "        return [{'out': payoffs[i], 'prob': probs[i]} for i in range (k)]\n",
    "    lotteries = []\n",
    "    for _ in range(number):\n",
    "        lot = _simple_lottery()\n",
    "        if compound:\n",
    "            j = random.randrange(len(lot))\n",
    "            lot[j]['out'] = _simple_lottery()\n",
    "        lotteries.append(lot)\n",
    "    \n",
    "    return lotteries\n",
    "print(make_random_lotteries())\n",
    "print(make_random_lotteries(number=3, max_pay=50, compound=True, negative=True))"
   ]
  },
  {
   "cell_type": "markdown",
   "metadata": {},
   "source": [
    "## Step Three: Code an expected value function and expected utility function"
   ]
  },
  {
   "cell_type": "markdown",
   "metadata": {},
   "source": [
    "### Expected Value Coded Here"
   ]
  },
  {
   "cell_type": "code",
   "execution_count": null,
   "metadata": {},
   "outputs": [],
   "source": [
    "def expected_value(lottery):\n",
    "    \"\"\"Calculate expected value of a lottery\n",
    "    \n",
    "        arg:\n",
    "            lottery, list of dictioaries\n",
    "        \n",
    "        returns:\n",
    "            ev, float, expected value of the lottery\n",
    "    \"\"\"\n",
    "    ev = 0.0 #starting the ev at 0.0 to add to through the code\n",
    "    for d in lottery:\n",
    "        out = d['out']\n",
    "        p = d['prob']\n",
    "        if isinstance(out, list): #if (out) is a list, this outcome is a compound or nested lottery\n",
    "            ev += p * expected_value(out) #getting the expected value of the inner lottery (out) and multilping it by the outcomes probabiliy p. This is the weight added to the running total ev\n",
    "        else:\n",
    "            ev += p * float(out) #here (out) is just a number so I made it a float and multiplied by probablility to get weight to add to ev\n",
    "        \n",
    "    #TODO Expected Value Calculation\n",
    "    return ev"
   ]
  },
  {
   "cell_type": "code",
   "execution_count": null,
   "metadata": {},
   "outputs": [
    {
     "name": "stdout",
     "output_type": "stream",
     "text": [
      "expected value = 5.0\n",
      "expected value = 7.5\n"
     ]
    }
   ],
   "source": [
    "# Text expected value function\n",
    "lottery = [{'out':0, 'prob':0.5}, {'out':10, 'prob':0.5}]\n",
    "print(f\"expected value = {expected_value(lottery)}\")\n",
    "compound_lottery = [{'out':lottery, 'prob':0.5}, {'out':10, 'prob':0.5}]\n",
    "print(f\"expected value = {expected_value(compound_lottery)}\")"
   ]
  },
  {
   "cell_type": "code",
   "execution_count": null,
   "metadata": {},
   "outputs": [
    {
     "name": "stdout",
     "output_type": "stream",
     "text": [
      "<class 'function'> <function linear_utility at 0x11186ed40>\n",
      "utility of 10 = 12.5\n",
      "or\n",
      "utility of 10 = 12.5\n"
     ]
    }
   ],
   "source": [
    "# You can always assign a variable to a function and pass a function to a function.  Here is an example.\n",
    "\n",
    "def u(m, f):\n",
    "    return f(m)\n",
    "    \n",
    "m = 10\n",
    "util = linear_utility\n",
    "print(type(util), util)\n",
    "\n",
    "print(f\"utility of {m} = {u(m, util)}\")\n",
    "print('or')\n",
    "print(f\"utility of {m} = {u(m, linear_utility)}\")\n"
   ]
  },
  {
   "cell_type": "markdown",
   "metadata": {},
   "source": [
    "### Code Expected Utility Here"
   ]
  },
  {
   "cell_type": "code",
   "execution_count": 14,
   "metadata": {},
   "outputs": [],
   "source": [
    "def expected_utility(lottery, u):\n",
    "    \"\"\"Calculate expected utility of a lottery\n",
    "    \n",
    "        arg:\n",
    "            lottery, list of dictioaries containing \n",
    "                     keys, values {'prob': pr, 'outcome': out}\n",
    "                         pr, float between 0.0 and 1.0 inclusive\n",
    "                         out, either another lottery or a float payoff\n",
    "                     \n",
    "            u, utility function, returns utility of a payoff outcome\n",
    "        \n",
    "        returns:\n",
    "            eu, float, expected utility of the lottery\n",
    "    \"\"\"\n",
    "    eu = 0.0\n",
    "    for d in lottery:\n",
    "        p = d['prob']\n",
    "        out = d.get('out')\n",
    "        if isinstance(out, list):\n",
    "            eu += p * expected_utility(out, u) #if (out) is another lottery, this is recursion\n",
    "        else:\n",
    "            eu += p * u(float(out))\n",
    "\n",
    "    # TODO: Insert Code Here\n",
    "    return eu"
   ]
  },
  {
   "cell_type": "code",
   "execution_count": null,
   "metadata": {},
   "outputs": [
    {
     "name": "stdout",
     "output_type": "stream",
     "text": [
      "expected utility = 8.75\n",
      "expected utility = 10.625\n"
     ]
    }
   ],
   "source": [
    "#Test for the expected utility function\n",
    "lottery = [{'out': 0, 'prob': 0.5}, {'out': 10, 'prob': 0.5}]\n",
    "print(f\"expected utility = {expected_utility(lottery, linear_utility)}\")\n",
    "\n",
    "compound_lottery = [{'out': lottery, 'prob': 0.5}, {'out': 10, 'prob': 0.5}]\n",
    "print(f\"expected utility = {expected_utility(compound_lottery, linear_utility)}\")"
   ]
  },
  {
   "cell_type": "markdown",
   "metadata": {},
   "source": [
    "## Step Four: complementary functions\n",
    "\n",
    "In this step you will add three complementary functions.  The first function reduces a compound lottery to a simple lottery.  The second function calculates the certainty equivalent of a simple lottery.  The third calculates the risk premium of a lottery. "
   ]
  },
  {
   "cell_type": "code",
   "execution_count": null,
   "metadata": {},
   "outputs": [],
   "source": [
    "def reduce_lottery(lottery):\n",
    "    \"\"\" Reduces compound lottery to a simple lottery.\n",
    "    \n",
    "        A compound lottery has sub-lotteries as outcomes.\n",
    "        A simple lottery only has payoffs as outcomes.\n",
    "        \n",
    "        args:\n",
    "            lottery, list of dictionaries.\n",
    "        returns:\n",
    "            simple_lottery, list of dictionaries with no sub-lottery.\n",
    "    \"\"\"\n",
    "    payoff_prob = {}\n",
    "\n",
    "    def walk(L, weight): #walks down each sub-lottery and multiplies probabilities until it gets to a numerical value instead of another sub-lottery\n",
    "        for d in L: #for each outcome dictionary in this lottery list\n",
    "            p = d['prob'] * weight #multipy the probability on each sub branch by the probability that we got already (weight)\n",
    "            out = d.get('out') #gets the outcome \n",
    "            if isinstance(out, list):#if the outcome is another lottery, go deeper, and carry the multiplied probablility \n",
    "                walk(out, p)\n",
    "            else:\n",
    "                x = float(out) #when the outcome is a number instead of a sub-lottery, convert to float\n",
    "                payoff_prob[x] = payoff_prob.get(x, 0.0) + p #if the payoff is a number, add the probability to the total\n",
    "    walk(lottery, 1.0)\n",
    "\n",
    "    simple_lottery = [{'out': x, 'prob': payoff_prob[x]} for x in sorted(payoff_prob)]\n",
    "    return simple_lottery"
   ]
  },
  {
   "cell_type": "code",
   "execution_count": null,
   "metadata": {},
   "outputs": [
    {
     "name": "stdout",
     "output_type": "stream",
     "text": [
      "[{'out': 0.0, 'prob': 0.3}, {'out': 10.0, 'prob': 0.7}]\n"
     ]
    }
   ],
   "source": [
    "#example for reduced lottery\n",
    "inside_lottery = [{'out': 0, 'prob': 0.5}, {'out': 10, 'prob': 0.5}]\n",
    "\n",
    "outside_lottery = [{'out': inside_lottery, 'prob': 0.6}, {'out': 10, 'prob': 0.4}]\n",
    "\n",
    "print(reduce_lottery(outside_lottery))"
   ]
  },
  {
   "cell_type": "code",
   "execution_count": null,
   "metadata": {},
   "outputs": [],
   "source": [
    "def certainty_equivalent(lottery, u):\n",
    "    \"\"\" Returns the certainty equivalent (ce) of a lottery.\n",
    "    \n",
    "        u(ce) = expected_utility(lottery, u)\n",
    "        \n",
    "        args:\n",
    "            lottery, list of dictionaries.\n",
    "            u, utility function defined over payoffs.\n",
    "        returns:\n",
    "            ce, float, certainty equivalent\n",
    "    \"\"\"\n",
    "    eu = expected_utility(lottery, u) #eu is the probablility weighted average of utilities\n",
    "\n",
    "    simple = reduce_lottery(lottery) #from the previous code block, gets rid of any sub-lotteries\n",
    "    low = min(d['out'] for d in simple) #go through all the outcomes and find the minimum\n",
    "    high = max(d['out'] for d in simple) #go through all the outcomes and find the maximum\n",
    "\n",
    "    if abs(high-low) < 1e-12: #if the max and min are the same, the certainty equivalent will just be that payoff\n",
    "        return float(low) #returns the payoff as a float\n",
    "    \n",
    "    for _ in range(100):\n",
    "        mid = 0.5 * (low + high) #finding the middle point between low and high \n",
    "        if u(mid) < eu: #if the mid point is less than expected utility, the payoff is too low\n",
    "            low = mid #move the low up to mid\n",
    "        else:\n",
    "            high = mid #this means payoff is too high so we move high down to mid point\n",
    "        if (high - low) < 1e-9: #if the interval between max and min tests gets small enough, return the midpoint at the certainty equivalent\n",
    "            break\n",
    "    return 0.5 * (low + high)"
   ]
  },
  {
   "cell_type": "code",
   "execution_count": null,
   "metadata": {},
   "outputs": [
    {
     "name": "stdout",
     "output_type": "stream",
     "text": [
      "4.999999999708962\n"
     ]
    }
   ],
   "source": [
    "#example for certainty equivalent\n",
    "def linear_utility(m, a=5, b=0.75):\n",
    "    return a + b*m\n",
    "lottery = [{'out': 0, 'prob': 0.5}, {'out': 10, 'prob': 0.5}]\n",
    "\n",
    "print(certainty_equivalent(lottery, linear_utility))"
   ]
  },
  {
   "cell_type": "code",
   "execution_count": 5,
   "metadata": {},
   "outputs": [],
   "source": [
    "def risk_premium(lottery, u):\n",
    "    \"\"\" Returns the risk premium (rp) of a lottery.\n",
    "    \n",
    "        rp = expected_value(lottery) - certainty_equivalent(lottery, u)\n",
    "        \n",
    "        args:\n",
    "            lottery, list of dictionaries.\n",
    "            u, utility function defined over payoffs.\n",
    "        returns:\n",
    "            rp, float, risk premium\n",
    "    \"\"\"\n",
    "    ev = expected_value(lottery)\n",
    "    ce = certainty_equivalent(lottery, u)\n",
    "\n",
    "    rp = ev - ce\n",
    "    if abs(rp) < tol: \n",
    "        rp = 0.0\n",
    "    return float (rp)"
   ]
  },
  {
   "cell_type": "markdown",
   "metadata": {},
   "source": [
    "## Step Five:  Lottery choice function\n",
    "\n",
    "Chooses lottery from list with the highest expected utility."
   ]
  },
  {
   "cell_type": "code",
   "execution_count": 10,
   "metadata": {},
   "outputs": [],
   "source": [
    "def lottery_choice(lottery_list, u):\n",
    "    \"\"\"Calculate expected utility of a lottery\n",
    "    \n",
    "        arg:\n",
    "            lottery_list, list of lotteries \n",
    "            u, utility function, returns utility of a payoff outcome\n",
    "        \n",
    "        returns:\n",
    "            lottery_index, eu  expected utility of the lottery\n",
    "    \"\"\"\n",
    "    eu = 0.0\n",
    "    lottery_index = None\n",
    "    # TODO: Insert Code Here\n",
    "\n",
    "    best_eu = float(\"-inf\") #stores the best EU at negative infinity\n",
    "    best_idx = None #stores the index of the best lottery\n",
    "\n",
    "    for i, lot in enumerate(lottery_list):\n",
    "        eu_i = expected_utility(lot, u) #goes through each lottery and computes the expected utility with expected_utility\n",
    "        if eu_i > best_eu:\n",
    "            best_eu = eu_i\n",
    "            best_idx = i #if the current eu is more than the previous biggest, replace it\n",
    "    lottery_index = best_idx\n",
    "    eu = float(best_eu)\n",
    "    return lottery_index, eu"
   ]
  },
  {
   "cell_type": "markdown",
   "metadata": {},
   "source": [
    "## Step Six:  The Holt-Laury procedure\n",
    "\n",
    "This is a well known procedure published by Holt and Laury and avialable on JSTOR [here](https://www.jstor.org/stable/3083270?Search=yes&resultItemClick=true&searchText=Holt&searchText=and&searchText=Laury&searchUri=%2Faction%2FdoAdvancedSearch%3Fc5%3DAND%26amp%3Bc6%3DAND%26amp%3Bf1%3Dall%26amp%3Bc3%3DAND%26amp%3Bq2%3D%26amp%3Bf5%3Dall%26amp%3Bq0%3DHolt%2Band%2BLaury%26amp%3Bf4%3Dall%26amp%3Bc4%3DAND%26amp%3Bsd%3D%26amp%3Bgroup%3Dnone%26amp%3Bq5%3D%26amp%3Bla%3D%26amp%3Bf0%3Dall%26amp%3Bisbn%3D%26amp%3Bf6%3Dall%26amp%3Bacc%3Don%26amp%3Bc1%3DAND%26amp%3Bq4%3D%26amp%3Bf3%3Dall%26amp%3Bq1%3D%26amp%3Bq6%3D%26amp%3Bpt%3D%26amp%3Bc2%3DAND%26amp%3Bf2%3Dall%26amp%3Bq3%3D%26amp%3Bed%3D&refreqid=search%3A63236d1b94e184a59d9526d0f794a141&socuuid=5613aad0-8774-4367-aeab-53105ec2672c&socplat=email).  In this step you code two functions.  The first function makes the list of Holt-Laury lottery choices.  The second function implements the Holt-Laury procedure.  Depending on the value of a default argument the subject will either be a human inputing choices of your `lottery_choice` function."
   ]
  },
  {
   "cell_type": "code",
   "execution_count": 7,
   "metadata": {},
   "outputs": [],
   "source": [
    "def build_holt_laury():\n",
    "    \"\"\"Returns list of Holt-Laury lottery pairs.\n",
    "    \n",
    "        returns:\n",
    "            holt_laury_lotteries, list of lists\n",
    "                inner list is a pair of lotteries for choice\n",
    "    \n",
    "    \"\"\"\n",
    "    high_A, low_A = 6.0, 4.0 #these are the payoffs, safer option A pays 6 with the probability p, else 4\n",
    "    high_B, low_B = 10.0, 1.0 #same as above but riskier\n",
    "    \n",
    "    pairs = [] #starts an empty list\n",
    "    for k in range(1,11):\n",
    "        p = k / 10.0 #this is looping through 1-10 to make the probabilities 0.1,0.2...1.0\n",
    "        option_A = [\n",
    "            {'prob': p, 'out': high_A},\n",
    "            {'prob': 1-p, 'out': low_A}, #showing what I said in line 9\n",
    "        ]\n",
    "        option_B = [\n",
    "            {'prob': p, 'out': high_B},\n",
    "            {'prob': 1-p, 'out': low_B},\n",
    "        ]\n",
    "        pairs.append([option_A, option_B])\n",
    "    return pairs"
   ]
  },
  {
   "cell_type": "code",
   "execution_count": 15,
   "metadata": {},
   "outputs": [
    {
     "name": "stdout",
     "output_type": "stream",
     "text": [
      "[0, 0, 0, 0, 1, 1, 1, 1, 1, 1]\n"
     ]
    }
   ],
   "source": [
    "def holt_laury_choices(lottery_list, u = None):\n",
    "    \"\"\"Returns list of lottery choices from lottery_list\n",
    "    \n",
    "        If u == None, human makes choices, otherwise\n",
    "            lottery choice(inner_list, u) makes choices.\n",
    "    \n",
    "        args:\n",
    "            lottery_list = [[lottery, ..., lottery], ..., \n",
    "                            [lottery, ..., lottery]]\n",
    "            u, utility function over payoffs, or None\n",
    "        returns:\n",
    "            lottery_list_choices\n",
    "    \n",
    "    \"\"\"\n",
    "    choices = [] #starts an empty list\n",
    "    for i, pair in enumerate(lottery_list): #Go through each holt laury pair\n",
    "        if u is None:\n",
    "            while True:\n",
    "                resp = input(f\"Row {i+1}: choose 0 (lest) or 1 (right): \").strip()\n",
    "                if resp in (\"0\", \"1\"):\n",
    "                    choices.append(int(resp)) #asks user to choose which lottery it wants and appends their choice to the list choices\n",
    "                    break\n",
    "                else:\n",
    "                    print(\"Please enter 0 or 1.\")\n",
    "        else:\n",
    "            idx, _eu = lottery_choice(pair, u) #uses previous function to choose the higher eu lottery in the row\n",
    "            choices.append(idx) #append the chosen index\n",
    "    return choices\n",
    "lottery_list = build_holt_laury()\n",
    "def linear_utility(m):\n",
    "    return m\n",
    "choices = holt_laury_choices(lottery_list, u=linear_utility)\n",
    "print(choices)"
   ]
  },
  {
   "cell_type": "markdown",
   "metadata": {},
   "source": [
    "## Step Seven:  Stepwise elicitation algorithm\n",
    "\n",
    "The stepwise elicitation algorithm will first build a piecewise linear utility function for a human subject. You will then have your piecewise linear function make choices in the Holt-Laury procedure.  "
   ]
  },
  {
   "cell_type": "markdown",
   "metadata": {},
   "source": [
    "### Algorithm\n",
    "\n",
    "Step One: Set U(min) = 0 and U(max) = 100.\n",
    "\n",
    "Step Two:  Ask for ce_1 of lottery = `[min, .5, max, .5]` to find U(ce_1) (see how below)\n",
    "\n",
    "Step Three: Now ask for ce_2 of `[min, .5, ce_1, .5]` to find U(ce_2)\n",
    "\n",
    "Step Four:  Now ask for ce_3 of `[ce_1, .5, max, .5]` to find U(ce_3)\n",
    "\n",
    "Step n+1:  Take any two number x < y, where you know U(x) and U(y) from previous steps, and ask for ce_n of `[x, .5, y, .5]` to find U(ce_n).\n",
    "\n",
    "Last step:  Given that you now know `[U(min), U(x1), ..., U(xN), U(max)]`, build a piecewise linear function V through these points.\n",
    "\n",
    "#### How to compute U(ce_n)\n",
    "\n",
    "This assumes ce_n was requested from a lottery `[x, .5, y, .5]` where U(x) and U(y) are know.    \n",
    "\n",
    "Since `EU(lottery) = U(ce)`, we now know, `U(ce) = .5*U(x) + .5*U(y)`.\n",
    "\n",
    "For step two, `U(ce_1) = .5*U(min) + .5*U(max)` = `.5*0 + .5*100 ` = ` 50`.\n"
   ]
  },
  {
   "cell_type": "code",
   "execution_count": null,
   "metadata": {},
   "outputs": [],
   "source": [
    "def make_piecewise_linear(points):\n",
    "    #COME BACK TO THIS TO SEE IF ITS NECCESARY\n",
    "\n",
    "def stepwise_elicit(min_pay, max_pay, ask_ce, num_rounds=3):\n",
    "    \"\"\"min_pay, max_pay: endpoints on money axis\"\"\""
   ]
  },
  {
   "cell_type": "markdown",
   "metadata": {},
   "source": [
    "## Step Eight:  risk module\n",
    "\n",
    "In this step, you will place all of your functions into .py files using visual-studio code. "
   ]
  }
 ],
 "metadata": {
  "kernelspec": {
   "display_name": "base",
   "language": "python",
   "name": "python3"
  },
  "language_info": {
   "codemirror_mode": {
    "name": "ipython",
    "version": 3
   },
   "file_extension": ".py",
   "mimetype": "text/x-python",
   "name": "python",
   "nbconvert_exporter": "python",
   "pygments_lexer": "ipython3",
   "version": "3.13.5"
  }
 },
 "nbformat": 4,
 "nbformat_minor": 4
}
